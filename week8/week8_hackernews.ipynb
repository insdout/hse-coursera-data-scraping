{
 "cells": [
  {
   "cell_type": "markdown",
   "metadata": {},
   "source": [
    "# Using HackerNews API"
   ]
  },
  {
   "cell_type": "markdown",
   "metadata": {},
   "source": [
    "## Week 8. Practice Programming Assignment 1"
   ]
  },
  {
   "cell_type": "markdown",
   "metadata": {},
   "source": [
    "In this assignment we going to work with [HackerNews](https://news.ycombinator.com/). You are required to use its [API](https://github.com/HackerNews/API) to get all items from 2007-04-01 00:01 to 2007-04-07 23:59, and then use the data to answer questions you will find below."
   ]
  },
  {
   "cell_type": "markdown",
   "metadata": {},
   "source": [
    "###### Import coursera grader tools"
   ]
  },
  {
   "cell_type": "code",
   "execution_count": null,
   "metadata": {},
   "outputs": [],
   "source": [
    "import sys\n",
    "sys.path.append(\"..\")\n"
   ]
  },
  {
   "cell_type": "markdown",
   "metadata": {},
   "source": [
    "1175385601 Start time: Sun, 01 Apr 2007 00:00:01 GMT\n",
    "\n",
    "1175990340 End time: Sat, 07 Apr 2007 23:59:00 GMT"
   ]
  },
  {
   "cell_type": "code",
   "execution_count": null,
   "metadata": {},
   "outputs": [],
   "source": [
    "1175990070"
   ]
  },
  {
   "cell_type": "markdown",
   "metadata": {},
   "source": [
    "<br><br><br><br>"
   ]
  },
  {
   "cell_type": "markdown",
   "metadata": {},
   "source": [
    "### Coding part"
   ]
  },
  {
   "cell_type": "code",
   "execution_count": 112,
   "metadata": {},
   "outputs": [
    {
     "name": "stdout",
     "output_type": "stream",
     "text": [
      "200\n",
      "True\n",
      "gwern\n",
      "1255734092 886347 comment gwern 1255734092 None 886283 None None None None None None None\n"
     ]
    }
   ],
   "source": [
    "import requests\n",
    "id = 886347\n",
    "url = f\" https://hacker-news.firebaseio.com/v0/item/{id}.json\"\n",
    "\n",
    "response = requests.get(url)\n",
    "print(response.status_code)\n",
    "print(bool(response.json()))\n",
    "r = response.json()\n",
    "print(r['by'])\n",
    "print(r['time'],\n",
    "r.get('id'),\n",
    "r.get('type'),\n",
    "r.get('by'),\n",
    "r.get('time'),\n",
    "r.get('dead'),\n",
    "r.get('parent'),\n",
    "r.get('poll'),\n",
    "r.get('kids'),\n",
    "r.get('url'),\n",
    "r.get('score'),\n",
    "r.get('title'),\n",
    "r.get('parts'),\n",
    "r.get('descendants'))"
   ]
  },
  {
   "cell_type": "code",
   "execution_count": 113,
   "metadata": {},
   "outputs": [
    {
     "data": {
      "text/plain": [
       "\"&#62; Why would you want to record your whole life, especially on a pendant-cam that would be bouncy and pointing at something irrelevant half the time.<p>Family videos are bouncy and pointing at something irrelevant half the time as well.<p>&#62; Do you keep an audio record of your whole life now? That's been feasible for a long time. Why not? What about video would make you start?<p>Omni-directional mikes would pick up too much; directional would be inconvenient to aim. Video is vastly easier to navigate, since we think spatially and visually - how do you scroll through an audio recording? With video, you get feedback as to where you are temporally, especially if there's movement from place to place; with audio, you just randomly fastforward hoping to get nearer where you want to hear, if you can even recognize progress towards or away from the clip you want. (An example: I have a video of a boardwalk, versus audio, and I want to look at an encounter. Will it be easier for me to find that encounter if I can look at the video, or if I just have to listen to random ambience &#38; chit-chat?)<p>Further, video picks up written material, it will pick up gestures and body language of speakers, and, incidentally (and importantly for the hard-of-hearing, like me) makes spoken language <i>much</i> clearer because you can do some lip-reading.<p>And remember the practical uses thought of for lifelogging; how would an audio recording help you in traffic court? Some background noise, a screech, a honk, and a thud is worthless. An audio recording might pick up your child's first word - but not also his first step, like a video would.\""
      ]
     },
     "execution_count": 113,
     "metadata": {},
     "output_type": "execute_result"
    }
   ],
   "source": [
    "r.get('text')"
   ]
  },
  {
   "cell_type": "code",
   "execution_count": 19,
   "metadata": {},
   "outputs": [
    {
     "data": {
      "text/plain": [
       "32178031"
      ]
     },
     "execution_count": 19,
     "metadata": {},
     "output_type": "execute_result"
    }
   ],
   "source": [
    "response.json()"
   ]
  },
  {
   "cell_type": "code",
   "execution_count": 15,
   "metadata": {},
   "outputs": [
    {
     "name": "stdout",
     "output_type": "stream",
     "text": [
      "32177911\n"
     ]
    }
   ],
   "source": [
    "max_id_url = \"https://hacker-news.firebaseio.com/v0/maxitem.json?print=pretty\"\n",
    "response = requests.get(max_id_url)\n",
    "assert response.status_code == 200\n",
    "max_id = response.json()\n",
    "print(max_id)"
   ]
  },
  {
   "cell_type": "code",
   "execution_count": 118,
   "metadata": {},
   "outputs": [],
   "source": [
    "import time\n",
    "from tqdm.notebook import tqdm\n",
    "import datetime\n",
    "import pandas as pd\n",
    " \n",
    "\n",
    "def parse_HN(start_id):\n",
    "    hnews = []\n",
    "    for id in tqdm(range(start_id, 0, -1)):\n",
    "        time.sleep(0.01)\n",
    "        url = f\" https://hacker-news.firebaseio.com/v0/item/{id}.json\"\n",
    "        response = requests.get(url)\n",
    "        r = response.json()\n",
    "        assert response.status_code == 200, f\" This id broke the thing: {id}\"\n",
    "        \n",
    "        if r:\n",
    "            d = {}\n",
    "            d['id'] = r.get('id')\n",
    "            d['type'] = r.get('type')\n",
    "            d['by'] = r.get('by')\n",
    "            d['time'] = r.get('time')\n",
    "            d['dead'] = r.get('dead')\n",
    "            d['parent'] = r.get('parent')\n",
    "            d['poll'] = r.get('poll')\n",
    "            d['kids'] = r.get('kids')\n",
    "            d['url'] = r.get('url')\n",
    "            d['score'] = r.get('score')\n",
    "            d['title'] = r.get('title')\n",
    "            d['text'] = r.get('text')\n",
    "            d['parts'] = r.get('parts')\n",
    "            d['descendants'] = r.get('descendants')\n",
    "            d['len_text'] = len(r.get('text')) if r.get('text') else 0\n",
    "            d['len_kids'] = len(r.get('kids')) if r.get('kids') else 0\n",
    "            hnews.append(d)\n",
    "            \n",
    "            \n",
    "            #print(r.get('id'),r.get('time'), \n",
    "            #datetime.datetime.utcfromtimestamp(r.get('time')).strftime('%Y-%m-%dT%H:%M:%SZ'))\n",
    "            if r.get('time') < 1175385601:\n",
    "                break\n",
    "        else:\n",
    "            print('No content')\n",
    "    return  pd.DataFrame(hnews)\n"
   ]
  },
  {
   "cell_type": "code",
   "execution_count": 119,
   "metadata": {},
   "outputs": [
    {
     "data": {
      "application/vnd.jupyter.widget-view+json": {
       "model_id": "7616e85e2187474c90cd1fc7a416cdd6",
       "version_major": 2,
       "version_minor": 0
      },
      "text/plain": [
       "  0%|          | 0/10235 [00:00<?, ?it/s]"
      ]
     },
     "metadata": {},
     "output_type": "display_data"
    }
   ],
   "source": [
    "df = parse_HN(10235)"
   ]
  },
  {
   "cell_type": "code",
   "execution_count": 120,
   "metadata": {},
   "outputs": [
    {
     "data": {
      "text/html": [
       "<div>\n",
       "<style scoped>\n",
       "    .dataframe tbody tr th:only-of-type {\n",
       "        vertical-align: middle;\n",
       "    }\n",
       "\n",
       "    .dataframe tbody tr th {\n",
       "        vertical-align: top;\n",
       "    }\n",
       "\n",
       "    .dataframe thead th {\n",
       "        text-align: right;\n",
       "    }\n",
       "</style>\n",
       "<table border=\"1\" class=\"dataframe\">\n",
       "  <thead>\n",
       "    <tr style=\"text-align: right;\">\n",
       "      <th></th>\n",
       "      <th>id</th>\n",
       "      <th>type</th>\n",
       "      <th>by</th>\n",
       "      <th>time</th>\n",
       "      <th>dead</th>\n",
       "      <th>parent</th>\n",
       "      <th>poll</th>\n",
       "      <th>kids</th>\n",
       "      <th>url</th>\n",
       "      <th>score</th>\n",
       "      <th>title</th>\n",
       "      <th>text</th>\n",
       "      <th>parts</th>\n",
       "      <th>descendants</th>\n",
       "      <th>len_text</th>\n",
       "      <th>len_kids</th>\n",
       "    </tr>\n",
       "  </thead>\n",
       "  <tbody>\n",
       "    <tr>\n",
       "      <th>0</th>\n",
       "      <td>10235</td>\n",
       "      <td>comment</td>\n",
       "      <td>danw</td>\n",
       "      <td>1175990482</td>\n",
       "      <td>None</td>\n",
       "      <td>9986.0</td>\n",
       "      <td>None</td>\n",
       "      <td>None</td>\n",
       "      <td>None</td>\n",
       "      <td>NaN</td>\n",
       "      <td>None</td>\n",
       "      <td>Bristol, UK; 2; 21, 20</td>\n",
       "      <td>None</td>\n",
       "      <td>NaN</td>\n",
       "      <td>22</td>\n",
       "      <td>0</td>\n",
       "    </tr>\n",
       "    <tr>\n",
       "      <th>1</th>\n",
       "      <td>10234</td>\n",
       "      <td>comment</td>\n",
       "      <td>rolodex</td>\n",
       "      <td>1175990070</td>\n",
       "      <td>None</td>\n",
       "      <td>10140.0</td>\n",
       "      <td>None</td>\n",
       "      <td>[10244]</td>\n",
       "      <td>None</td>\n",
       "      <td>NaN</td>\n",
       "      <td>None</td>\n",
       "      <td>I have no idea what you're talking about. To m...</td>\n",
       "      <td>None</td>\n",
       "      <td>NaN</td>\n",
       "      <td>224</td>\n",
       "      <td>1</td>\n",
       "    </tr>\n",
       "    <tr>\n",
       "      <th>2</th>\n",
       "      <td>10233</td>\n",
       "      <td>story</td>\n",
       "      <td>danw</td>\n",
       "      <td>1175989806</td>\n",
       "      <td>None</td>\n",
       "      <td>NaN</td>\n",
       "      <td>None</td>\n",
       "      <td>None</td>\n",
       "      <td>http://www.zephoria.org/thoughts/archives/2007...</td>\n",
       "      <td>6.0</td>\n",
       "      <td>\"Demo or die\" - 5 secrets to success</td>\n",
       "      <td>None</td>\n",
       "      <td>None</td>\n",
       "      <td>0.0</td>\n",
       "      <td>0</td>\n",
       "      <td>0</td>\n",
       "    </tr>\n",
       "    <tr>\n",
       "      <th>3</th>\n",
       "      <td>10232</td>\n",
       "      <td>story</td>\n",
       "      <td>danw</td>\n",
       "      <td>1175989725</td>\n",
       "      <td>None</td>\n",
       "      <td>NaN</td>\n",
       "      <td>None</td>\n",
       "      <td>[10296]</td>\n",
       "      <td>http://www.webkitchen.co.uk/2006/03/startup.html</td>\n",
       "      <td>3.0</td>\n",
       "      <td>\"Shielded in a cloak of ignorance and enthusia...</td>\n",
       "      <td>None</td>\n",
       "      <td>None</td>\n",
       "      <td>1.0</td>\n",
       "      <td>0</td>\n",
       "      <td>1</td>\n",
       "    </tr>\n",
       "    <tr>\n",
       "      <th>4</th>\n",
       "      <td>10231</td>\n",
       "      <td>story</td>\n",
       "      <td>kevinxray</td>\n",
       "      <td>1175989395</td>\n",
       "      <td>None</td>\n",
       "      <td>NaN</td>\n",
       "      <td>None</td>\n",
       "      <td>None</td>\n",
       "      <td>http://www.allbusiness.com/marketing-advertisi...</td>\n",
       "      <td>2.0</td>\n",
       "      <td>Lessons from Greatness</td>\n",
       "      <td>None</td>\n",
       "      <td>None</td>\n",
       "      <td>0.0</td>\n",
       "      <td>0</td>\n",
       "      <td>0</td>\n",
       "    </tr>\n",
       "  </tbody>\n",
       "</table>\n",
       "</div>"
      ],
      "text/plain": [
       "      id     type         by        time  dead   parent  poll     kids  \\\n",
       "0  10235  comment       danw  1175990482  None   9986.0  None     None   \n",
       "1  10234  comment    rolodex  1175990070  None  10140.0  None  [10244]   \n",
       "2  10233    story       danw  1175989806  None      NaN  None     None   \n",
       "3  10232    story       danw  1175989725  None      NaN  None  [10296]   \n",
       "4  10231    story  kevinxray  1175989395  None      NaN  None     None   \n",
       "\n",
       "                                                 url  score  \\\n",
       "0                                               None    NaN   \n",
       "1                                               None    NaN   \n",
       "2  http://www.zephoria.org/thoughts/archives/2007...    6.0   \n",
       "3   http://www.webkitchen.co.uk/2006/03/startup.html    3.0   \n",
       "4  http://www.allbusiness.com/marketing-advertisi...    2.0   \n",
       "\n",
       "                                               title  \\\n",
       "0                                               None   \n",
       "1                                               None   \n",
       "2               \"Demo or die\" - 5 secrets to success   \n",
       "3  \"Shielded in a cloak of ignorance and enthusia...   \n",
       "4                             Lessons from Greatness   \n",
       "\n",
       "                                                text parts  descendants  \\\n",
       "0                             Bristol, UK; 2; 21, 20  None          NaN   \n",
       "1  I have no idea what you're talking about. To m...  None          NaN   \n",
       "2                                               None  None          0.0   \n",
       "3                                               None  None          1.0   \n",
       "4                                               None  None          0.0   \n",
       "\n",
       "   len_text  len_kids  \n",
       "0        22         0  \n",
       "1       224         1  \n",
       "2         0         0  \n",
       "3         0         1  \n",
       "4         0         0  "
      ]
     },
     "execution_count": 120,
     "metadata": {},
     "output_type": "execute_result"
    }
   ],
   "source": [
    "df.to_csv('hacker_news.csv', index=False)\n",
    "df.head()"
   ]
  },
  {
   "cell_type": "code",
   "execution_count": 145,
   "metadata": {},
   "outputs": [
    {
     "name": "stdout",
     "output_type": "stream",
     "text": [
      "(2320, 16)\n",
      "(2318, 16)\n"
     ]
    },
    {
     "data": {
      "text/html": [
       "<div>\n",
       "<style scoped>\n",
       "    .dataframe tbody tr th:only-of-type {\n",
       "        vertical-align: middle;\n",
       "    }\n",
       "\n",
       "    .dataframe tbody tr th {\n",
       "        vertical-align: top;\n",
       "    }\n",
       "\n",
       "    .dataframe thead th {\n",
       "        text-align: right;\n",
       "    }\n",
       "</style>\n",
       "<table border=\"1\" class=\"dataframe\">\n",
       "  <thead>\n",
       "    <tr style=\"text-align: right;\">\n",
       "      <th></th>\n",
       "      <th>id</th>\n",
       "      <th>type</th>\n",
       "      <th>by</th>\n",
       "      <th>time</th>\n",
       "      <th>dead</th>\n",
       "      <th>parent</th>\n",
       "      <th>poll</th>\n",
       "      <th>kids</th>\n",
       "      <th>url</th>\n",
       "      <th>score</th>\n",
       "      <th>title</th>\n",
       "      <th>text</th>\n",
       "      <th>parts</th>\n",
       "      <th>descendants</th>\n",
       "      <th>len_text</th>\n",
       "      <th>len_kids</th>\n",
       "      <th>r_time</th>\n",
       "      <th>dow</th>\n",
       "      <th>doy</th>\n",
       "    </tr>\n",
       "  </thead>\n",
       "  <tbody>\n",
       "    <tr>\n",
       "      <th>1</th>\n",
       "      <td>10234</td>\n",
       "      <td>comment</td>\n",
       "      <td>rolodex</td>\n",
       "      <td>1175990070</td>\n",
       "      <td>None</td>\n",
       "      <td>10140.0</td>\n",
       "      <td>None</td>\n",
       "      <td>[10244]</td>\n",
       "      <td>None</td>\n",
       "      <td>NaN</td>\n",
       "      <td>None</td>\n",
       "      <td>I have no idea what you're talking about. To m...</td>\n",
       "      <td>None</td>\n",
       "      <td>NaN</td>\n",
       "      <td>224</td>\n",
       "      <td>1</td>\n",
       "      <td>2007-04-07 23:54:30</td>\n",
       "      <td>Saturday</td>\n",
       "      <td>97</td>\n",
       "    </tr>\n",
       "    <tr>\n",
       "      <th>2</th>\n",
       "      <td>10233</td>\n",
       "      <td>story</td>\n",
       "      <td>danw</td>\n",
       "      <td>1175989806</td>\n",
       "      <td>None</td>\n",
       "      <td>NaN</td>\n",
       "      <td>None</td>\n",
       "      <td>None</td>\n",
       "      <td>http://www.zephoria.org/thoughts/archives/2007...</td>\n",
       "      <td>6.0</td>\n",
       "      <td>\"Demo or die\" - 5 secrets to success</td>\n",
       "      <td>None</td>\n",
       "      <td>None</td>\n",
       "      <td>0.0</td>\n",
       "      <td>0</td>\n",
       "      <td>0</td>\n",
       "      <td>2007-04-07 23:50:06</td>\n",
       "      <td>Saturday</td>\n",
       "      <td>97</td>\n",
       "    </tr>\n",
       "    <tr>\n",
       "      <th>3</th>\n",
       "      <td>10232</td>\n",
       "      <td>story</td>\n",
       "      <td>danw</td>\n",
       "      <td>1175989725</td>\n",
       "      <td>None</td>\n",
       "      <td>NaN</td>\n",
       "      <td>None</td>\n",
       "      <td>[10296]</td>\n",
       "      <td>http://www.webkitchen.co.uk/2006/03/startup.html</td>\n",
       "      <td>3.0</td>\n",
       "      <td>\"Shielded in a cloak of ignorance and enthusia...</td>\n",
       "      <td>None</td>\n",
       "      <td>None</td>\n",
       "      <td>1.0</td>\n",
       "      <td>0</td>\n",
       "      <td>1</td>\n",
       "      <td>2007-04-07 23:48:45</td>\n",
       "      <td>Saturday</td>\n",
       "      <td>97</td>\n",
       "    </tr>\n",
       "    <tr>\n",
       "      <th>4</th>\n",
       "      <td>10231</td>\n",
       "      <td>story</td>\n",
       "      <td>kevinxray</td>\n",
       "      <td>1175989395</td>\n",
       "      <td>None</td>\n",
       "      <td>NaN</td>\n",
       "      <td>None</td>\n",
       "      <td>None</td>\n",
       "      <td>http://www.allbusiness.com/marketing-advertisi...</td>\n",
       "      <td>2.0</td>\n",
       "      <td>Lessons from Greatness</td>\n",
       "      <td>None</td>\n",
       "      <td>None</td>\n",
       "      <td>0.0</td>\n",
       "      <td>0</td>\n",
       "      <td>0</td>\n",
       "      <td>2007-04-07 23:43:15</td>\n",
       "      <td>Saturday</td>\n",
       "      <td>97</td>\n",
       "    </tr>\n",
       "    <tr>\n",
       "      <th>5</th>\n",
       "      <td>10230</td>\n",
       "      <td>story</td>\n",
       "      <td>kevinxray</td>\n",
       "      <td>1175989236</td>\n",
       "      <td>None</td>\n",
       "      <td>NaN</td>\n",
       "      <td>None</td>\n",
       "      <td>[10396]</td>\n",
       "      <td>http://blogs.zdnet.com/micro-markets/?p=1191</td>\n",
       "      <td>2.0</td>\n",
       "      <td>Why Google IS afraid of Microsoft, big time</td>\n",
       "      <td>None</td>\n",
       "      <td>None</td>\n",
       "      <td>1.0</td>\n",
       "      <td>0</td>\n",
       "      <td>1</td>\n",
       "      <td>2007-04-07 23:40:36</td>\n",
       "      <td>Saturday</td>\n",
       "      <td>97</td>\n",
       "    </tr>\n",
       "    <tr>\n",
       "      <th>6</th>\n",
       "      <td>10229</td>\n",
       "      <td>story</td>\n",
       "      <td>kevinxray</td>\n",
       "      <td>1175989110</td>\n",
       "      <td>None</td>\n",
       "      <td>NaN</td>\n",
       "      <td>None</td>\n",
       "      <td>[10269]</td>\n",
       "      <td>http://www.costar.com/News/Article.aspx?id=AE4...</td>\n",
       "      <td>1.0</td>\n",
       "      <td>Microsoft Expanding By 1 Million SF in Bellevue</td>\n",
       "      <td>None</td>\n",
       "      <td>None</td>\n",
       "      <td>1.0</td>\n",
       "      <td>0</td>\n",
       "      <td>1</td>\n",
       "      <td>2007-04-07 23:38:30</td>\n",
       "      <td>Saturday</td>\n",
       "      <td>97</td>\n",
       "    </tr>\n",
       "    <tr>\n",
       "      <th>7</th>\n",
       "      <td>10228</td>\n",
       "      <td>comment</td>\n",
       "      <td>jward</td>\n",
       "      <td>1175988936</td>\n",
       "      <td>None</td>\n",
       "      <td>9986.0</td>\n",
       "      <td>None</td>\n",
       "      <td>None</td>\n",
       "      <td>None</td>\n",
       "      <td>NaN</td>\n",
       "      <td>None</td>\n",
       "      <td>Edmonton, Alberta, Canada;2;26,28</td>\n",
       "      <td>None</td>\n",
       "      <td>NaN</td>\n",
       "      <td>33</td>\n",
       "      <td>0</td>\n",
       "      <td>2007-04-07 23:35:36</td>\n",
       "      <td>Saturday</td>\n",
       "      <td>97</td>\n",
       "    </tr>\n",
       "    <tr>\n",
       "      <th>8</th>\n",
       "      <td>10227</td>\n",
       "      <td>comment</td>\n",
       "      <td>bartsimpson007</td>\n",
       "      <td>1175988354</td>\n",
       "      <td>None</td>\n",
       "      <td>10013.0</td>\n",
       "      <td>None</td>\n",
       "      <td>None</td>\n",
       "      <td>None</td>\n",
       "      <td>NaN</td>\n",
       "      <td>None</td>\n",
       "      <td>To rephrase, does Paul suggest that Apple is d...</td>\n",
       "      <td>None</td>\n",
       "      <td>NaN</td>\n",
       "      <td>146</td>\n",
       "      <td>0</td>\n",
       "      <td>2007-04-07 23:25:54</td>\n",
       "      <td>Saturday</td>\n",
       "      <td>97</td>\n",
       "    </tr>\n",
       "    <tr>\n",
       "      <th>9</th>\n",
       "      <td>10226</td>\n",
       "      <td>comment</td>\n",
       "      <td>randallsquared</td>\n",
       "      <td>1175988265</td>\n",
       "      <td>None</td>\n",
       "      <td>10113.0</td>\n",
       "      <td>None</td>\n",
       "      <td>None</td>\n",
       "      <td>None</td>\n",
       "      <td>NaN</td>\n",
       "      <td>None</td>\n",
       "      <td>I think not selecting anyone would be bad for ...</td>\n",
       "      <td>None</td>\n",
       "      <td>NaN</td>\n",
       "      <td>249</td>\n",
       "      <td>0</td>\n",
       "      <td>2007-04-07 23:24:25</td>\n",
       "      <td>Saturday</td>\n",
       "      <td>97</td>\n",
       "    </tr>\n",
       "    <tr>\n",
       "      <th>10</th>\n",
       "      <td>10225</td>\n",
       "      <td>story</td>\n",
       "      <td>danw</td>\n",
       "      <td>1175988171</td>\n",
       "      <td>None</td>\n",
       "      <td>NaN</td>\n",
       "      <td>None</td>\n",
       "      <td>None</td>\n",
       "      <td>http://maps.google.co.uk/maps/ms?ie=UTF8&amp;hl=en...</td>\n",
       "      <td>1.0</td>\n",
       "      <td>London Valley Map - Google MyMap of London sta...</td>\n",
       "      <td>None</td>\n",
       "      <td>None</td>\n",
       "      <td>0.0</td>\n",
       "      <td>0</td>\n",
       "      <td>0</td>\n",
       "      <td>2007-04-07 23:22:51</td>\n",
       "      <td>Saturday</td>\n",
       "      <td>97</td>\n",
       "    </tr>\n",
       "    <tr>\n",
       "      <th>11</th>\n",
       "      <td>10224</td>\n",
       "      <td>comment</td>\n",
       "      <td>kawabago</td>\n",
       "      <td>1175988168</td>\n",
       "      <td>None</td>\n",
       "      <td>9770.0</td>\n",
       "      <td>None</td>\n",
       "      <td>None</td>\n",
       "      <td>None</td>\n",
       "      <td>NaN</td>\n",
       "      <td>None</td>\n",
       "      <td>Will the corpse of Microsoft be considered tox...</td>\n",
       "      <td>None</td>\n",
       "      <td>NaN</td>\n",
       "      <td>56</td>\n",
       "      <td>0</td>\n",
       "      <td>2007-04-07 23:22:48</td>\n",
       "      <td>Saturday</td>\n",
       "      <td>97</td>\n",
       "    </tr>\n",
       "    <tr>\n",
       "      <th>12</th>\n",
       "      <td>10223</td>\n",
       "      <td>comment</td>\n",
       "      <td>ecuzzillo</td>\n",
       "      <td>1175988094</td>\n",
       "      <td>None</td>\n",
       "      <td>9770.0</td>\n",
       "      <td>None</td>\n",
       "      <td>None</td>\n",
       "      <td>None</td>\n",
       "      <td>NaN</td>\n",
       "      <td>None</td>\n",
       "      <td>I think the link from the essay to this commen...</td>\n",
       "      <td>None</td>\n",
       "      <td>NaN</td>\n",
       "      <td>154</td>\n",
       "      <td>0</td>\n",
       "      <td>2007-04-07 23:21:34</td>\n",
       "      <td>Saturday</td>\n",
       "      <td>97</td>\n",
       "    </tr>\n",
       "    <tr>\n",
       "      <th>13</th>\n",
       "      <td>10222</td>\n",
       "      <td>comment</td>\n",
       "      <td>amichail</td>\n",
       "      <td>1175988026</td>\n",
       "      <td>None</td>\n",
       "      <td>10201.0</td>\n",
       "      <td>None</td>\n",
       "      <td>[10339, 10257]</td>\n",
       "      <td>None</td>\n",
       "      <td>NaN</td>\n",
       "      <td>None</td>\n",
       "      <td>See:&lt;p&gt;&lt;a href=\"http://www.seroundtable.com/ar...</td>\n",
       "      <td>None</td>\n",
       "      <td>NaN</td>\n",
       "      <td>189</td>\n",
       "      <td>2</td>\n",
       "      <td>2007-04-07 23:20:26</td>\n",
       "      <td>Saturday</td>\n",
       "      <td>97</td>\n",
       "    </tr>\n",
       "    <tr>\n",
       "      <th>14</th>\n",
       "      <td>10221</td>\n",
       "      <td>comment</td>\n",
       "      <td>RamonFHerrera</td>\n",
       "      <td>1175987584</td>\n",
       "      <td>None</td>\n",
       "      <td>10212.0</td>\n",
       "      <td>None</td>\n",
       "      <td>None</td>\n",
       "      <td>None</td>\n",
       "      <td>NaN</td>\n",
       "      <td>None</td>\n",
       "      <td>MS no longer to be feared? Sure, but, uh, in ...</td>\n",
       "      <td>None</td>\n",
       "      <td>NaN</td>\n",
       "      <td>536</td>\n",
       "      <td>0</td>\n",
       "      <td>2007-04-07 23:13:04</td>\n",
       "      <td>Saturday</td>\n",
       "      <td>97</td>\n",
       "    </tr>\n",
       "    <tr>\n",
       "      <th>15</th>\n",
       "      <td>10220</td>\n",
       "      <td>comment</td>\n",
       "      <td>Goladus</td>\n",
       "      <td>1175987568</td>\n",
       "      <td>None</td>\n",
       "      <td>9847.0</td>\n",
       "      <td>None</td>\n",
       "      <td>None</td>\n",
       "      <td>None</td>\n",
       "      <td>NaN</td>\n",
       "      <td>None</td>\n",
       "      <td>The language makes it sound more like they are...</td>\n",
       "      <td>None</td>\n",
       "      <td>NaN</td>\n",
       "      <td>109</td>\n",
       "      <td>0</td>\n",
       "      <td>2007-04-07 23:12:48</td>\n",
       "      <td>Saturday</td>\n",
       "      <td>97</td>\n",
       "    </tr>\n",
       "    <tr>\n",
       "      <th>16</th>\n",
       "      <td>10219</td>\n",
       "      <td>comment</td>\n",
       "      <td>gibsonf1</td>\n",
       "      <td>1175987299</td>\n",
       "      <td>None</td>\n",
       "      <td>10204.0</td>\n",
       "      <td>None</td>\n",
       "      <td>[10435]</td>\n",
       "      <td>None</td>\n",
       "      <td>NaN</td>\n",
       "      <td>None</td>\n",
       "      <td>Maybe the best solution to avoid all the confu...</td>\n",
       "      <td>None</td>\n",
       "      <td>NaN</td>\n",
       "      <td>260</td>\n",
       "      <td>1</td>\n",
       "      <td>2007-04-07 23:08:19</td>\n",
       "      <td>Saturday</td>\n",
       "      <td>97</td>\n",
       "    </tr>\n",
       "    <tr>\n",
       "      <th>17</th>\n",
       "      <td>10218</td>\n",
       "      <td>comment</td>\n",
       "      <td>mint</td>\n",
       "      <td>1175986814</td>\n",
       "      <td>None</td>\n",
       "      <td>9770.0</td>\n",
       "      <td>None</td>\n",
       "      <td>None</td>\n",
       "      <td>None</td>\n",
       "      <td>NaN</td>\n",
       "      <td>None</td>\n",
       "      <td>well, is IBM dead?&lt;p&gt;It seems to me that the w...</td>\n",
       "      <td>None</td>\n",
       "      <td>NaN</td>\n",
       "      <td>1682</td>\n",
       "      <td>0</td>\n",
       "      <td>2007-04-07 23:00:14</td>\n",
       "      <td>Saturday</td>\n",
       "      <td>97</td>\n",
       "    </tr>\n",
       "    <tr>\n",
       "      <th>18</th>\n",
       "      <td>10217</td>\n",
       "      <td>comment</td>\n",
       "      <td>RamonFHerrera</td>\n",
       "      <td>1175986767</td>\n",
       "      <td>None</td>\n",
       "      <td>9770.0</td>\n",
       "      <td>None</td>\n",
       "      <td>None</td>\n",
       "      <td>None</td>\n",
       "      <td>NaN</td>\n",
       "      <td>None</td>\n",
       "      <td>A dead snake can still kill you.&lt;p&gt;-Ramon&lt;p&gt;</td>\n",
       "      <td>None</td>\n",
       "      <td>NaN</td>\n",
       "      <td>44</td>\n",
       "      <td>0</td>\n",
       "      <td>2007-04-07 22:59:27</td>\n",
       "      <td>Saturday</td>\n",
       "      <td>97</td>\n",
       "    </tr>\n",
       "    <tr>\n",
       "      <th>19</th>\n",
       "      <td>10216</td>\n",
       "      <td>comment</td>\n",
       "      <td>dohmer</td>\n",
       "      <td>1175986334</td>\n",
       "      <td>None</td>\n",
       "      <td>9986.0</td>\n",
       "      <td>None</td>\n",
       "      <td>[10371]</td>\n",
       "      <td>None</td>\n",
       "      <td>NaN</td>\n",
       "      <td>None</td>\n",
       "      <td>Hamilton, New Zealand, 1, 24</td>\n",
       "      <td>None</td>\n",
       "      <td>NaN</td>\n",
       "      <td>28</td>\n",
       "      <td>1</td>\n",
       "      <td>2007-04-07 22:52:14</td>\n",
       "      <td>Saturday</td>\n",
       "      <td>97</td>\n",
       "    </tr>\n",
       "    <tr>\n",
       "      <th>20</th>\n",
       "      <td>10215</td>\n",
       "      <td>comment</td>\n",
       "      <td>seandc</td>\n",
       "      <td>1175986322</td>\n",
       "      <td>None</td>\n",
       "      <td>9770.0</td>\n",
       "      <td>None</td>\n",
       "      <td>None</td>\n",
       "      <td>None</td>\n",
       "      <td>NaN</td>\n",
       "      <td>None</td>\n",
       "      <td>Quote: \"It now seems inevitable that applicati...</td>\n",
       "      <td>None</td>\n",
       "      <td>NaN</td>\n",
       "      <td>394</td>\n",
       "      <td>0</td>\n",
       "      <td>2007-04-07 22:52:02</td>\n",
       "      <td>Saturday</td>\n",
       "      <td>97</td>\n",
       "    </tr>\n",
       "  </tbody>\n",
       "</table>\n",
       "</div>"
      ],
      "text/plain": [
       "       id     type              by        time  dead   parent  poll  \\\n",
       "1   10234  comment         rolodex  1175990070  None  10140.0  None   \n",
       "2   10233    story            danw  1175989806  None      NaN  None   \n",
       "3   10232    story            danw  1175989725  None      NaN  None   \n",
       "4   10231    story       kevinxray  1175989395  None      NaN  None   \n",
       "5   10230    story       kevinxray  1175989236  None      NaN  None   \n",
       "6   10229    story       kevinxray  1175989110  None      NaN  None   \n",
       "7   10228  comment           jward  1175988936  None   9986.0  None   \n",
       "8   10227  comment  bartsimpson007  1175988354  None  10013.0  None   \n",
       "9   10226  comment  randallsquared  1175988265  None  10113.0  None   \n",
       "10  10225    story            danw  1175988171  None      NaN  None   \n",
       "11  10224  comment        kawabago  1175988168  None   9770.0  None   \n",
       "12  10223  comment       ecuzzillo  1175988094  None   9770.0  None   \n",
       "13  10222  comment        amichail  1175988026  None  10201.0  None   \n",
       "14  10221  comment   RamonFHerrera  1175987584  None  10212.0  None   \n",
       "15  10220  comment         Goladus  1175987568  None   9847.0  None   \n",
       "16  10219  comment        gibsonf1  1175987299  None  10204.0  None   \n",
       "17  10218  comment            mint  1175986814  None   9770.0  None   \n",
       "18  10217  comment   RamonFHerrera  1175986767  None   9770.0  None   \n",
       "19  10216  comment          dohmer  1175986334  None   9986.0  None   \n",
       "20  10215  comment          seandc  1175986322  None   9770.0  None   \n",
       "\n",
       "              kids                                                url  score  \\\n",
       "1          [10244]                                               None    NaN   \n",
       "2             None  http://www.zephoria.org/thoughts/archives/2007...    6.0   \n",
       "3          [10296]   http://www.webkitchen.co.uk/2006/03/startup.html    3.0   \n",
       "4             None  http://www.allbusiness.com/marketing-advertisi...    2.0   \n",
       "5          [10396]       http://blogs.zdnet.com/micro-markets/?p=1191    2.0   \n",
       "6          [10269]  http://www.costar.com/News/Article.aspx?id=AE4...    1.0   \n",
       "7             None                                               None    NaN   \n",
       "8             None                                               None    NaN   \n",
       "9             None                                               None    NaN   \n",
       "10            None  http://maps.google.co.uk/maps/ms?ie=UTF8&hl=en...    1.0   \n",
       "11            None                                               None    NaN   \n",
       "12            None                                               None    NaN   \n",
       "13  [10339, 10257]                                               None    NaN   \n",
       "14            None                                               None    NaN   \n",
       "15            None                                               None    NaN   \n",
       "16         [10435]                                               None    NaN   \n",
       "17            None                                               None    NaN   \n",
       "18            None                                               None    NaN   \n",
       "19         [10371]                                               None    NaN   \n",
       "20            None                                               None    NaN   \n",
       "\n",
       "                                                title  \\\n",
       "1                                                None   \n",
       "2                \"Demo or die\" - 5 secrets to success   \n",
       "3   \"Shielded in a cloak of ignorance and enthusia...   \n",
       "4                              Lessons from Greatness   \n",
       "5         Why Google IS afraid of Microsoft, big time   \n",
       "6     Microsoft Expanding By 1 Million SF in Bellevue   \n",
       "7                                                None   \n",
       "8                                                None   \n",
       "9                                                None   \n",
       "10  London Valley Map - Google MyMap of London sta...   \n",
       "11                                               None   \n",
       "12                                               None   \n",
       "13                                               None   \n",
       "14                                               None   \n",
       "15                                               None   \n",
       "16                                               None   \n",
       "17                                               None   \n",
       "18                                               None   \n",
       "19                                               None   \n",
       "20                                               None   \n",
       "\n",
       "                                                 text parts  descendants  \\\n",
       "1   I have no idea what you're talking about. To m...  None          NaN   \n",
       "2                                                None  None          0.0   \n",
       "3                                                None  None          1.0   \n",
       "4                                                None  None          0.0   \n",
       "5                                                None  None          1.0   \n",
       "6                                                None  None          1.0   \n",
       "7                   Edmonton, Alberta, Canada;2;26,28  None          NaN   \n",
       "8   To rephrase, does Paul suggest that Apple is d...  None          NaN   \n",
       "9   I think not selecting anyone would be bad for ...  None          NaN   \n",
       "10                                               None  None          0.0   \n",
       "11  Will the corpse of Microsoft be considered tox...  None          NaN   \n",
       "12  I think the link from the essay to this commen...  None          NaN   \n",
       "13  See:<p><a href=\"http://www.seroundtable.com/ar...  None          NaN   \n",
       "14   MS no longer to be feared? Sure, but, uh, in ...  None          NaN   \n",
       "15  The language makes it sound more like they are...  None          NaN   \n",
       "16  Maybe the best solution to avoid all the confu...  None          NaN   \n",
       "17  well, is IBM dead?<p>It seems to me that the w...  None          NaN   \n",
       "18       A dead snake can still kill you.<p>-Ramon<p>  None          NaN   \n",
       "19                       Hamilton, New Zealand, 1, 24  None          NaN   \n",
       "20  Quote: \"It now seems inevitable that applicati...  None          NaN   \n",
       "\n",
       "    len_text  len_kids              r_time       dow  doy  \n",
       "1        224         1 2007-04-07 23:54:30  Saturday   97  \n",
       "2          0         0 2007-04-07 23:50:06  Saturday   97  \n",
       "3          0         1 2007-04-07 23:48:45  Saturday   97  \n",
       "4          0         0 2007-04-07 23:43:15  Saturday   97  \n",
       "5          0         1 2007-04-07 23:40:36  Saturday   97  \n",
       "6          0         1 2007-04-07 23:38:30  Saturday   97  \n",
       "7         33         0 2007-04-07 23:35:36  Saturday   97  \n",
       "8        146         0 2007-04-07 23:25:54  Saturday   97  \n",
       "9        249         0 2007-04-07 23:24:25  Saturday   97  \n",
       "10         0         0 2007-04-07 23:22:51  Saturday   97  \n",
       "11        56         0 2007-04-07 23:22:48  Saturday   97  \n",
       "12       154         0 2007-04-07 23:21:34  Saturday   97  \n",
       "13       189         2 2007-04-07 23:20:26  Saturday   97  \n",
       "14       536         0 2007-04-07 23:13:04  Saturday   97  \n",
       "15       109         0 2007-04-07 23:12:48  Saturday   97  \n",
       "16       260         1 2007-04-07 23:08:19  Saturday   97  \n",
       "17      1682         0 2007-04-07 23:00:14  Saturday   97  \n",
       "18        44         0 2007-04-07 22:59:27  Saturday   97  \n",
       "19        28         1 2007-04-07 22:52:14  Saturday   97  \n",
       "20       394         0 2007-04-07 22:52:02  Saturday   97  "
      ]
     },
     "execution_count": 145,
     "metadata": {},
     "output_type": "execute_result"
    }
   ],
   "source": [
    "print(df.shape)\n",
    "df2 = df[(df[\"time\"] > 1175385601) & (df[\"time\"] < 1175990340)].copy()\n",
    "print(df2.shape)\n",
    "df2[\"r_time\"] = pd.to_datetime(df2['time'],unit='s')\n",
    "df2[\"dow\"] = df2[\"r_time\"].dt.day_name()\n",
    "df2[\"doy\"] = df2[\"r_time\"].dt.day_of_year\n",
    "df2.head(20)"
   ]
  },
  {
   "cell_type": "code",
   "execution_count": 123,
   "metadata": {},
   "outputs": [
    {
     "name": "stdout",
     "output_type": "stream",
     "text": [
      "10234 7917 2318\n"
     ]
    }
   ],
   "source": [
    "print(df2.id.max(), df2.id.min(), len(df2.id.values))"
   ]
  },
  {
   "cell_type": "markdown",
   "metadata": {},
   "source": [
    "<br><br>\n",
    "\n",
    "### Questions\n",
    "\n",
    "<br><br>\n",
    "\n",
    "**Question 1.** How many stories were created during the period??"
   ]
  },
  {
   "cell_type": "code",
   "execution_count": 125,
   "metadata": {},
   "outputs": [
    {
     "data": {
      "text/plain": [
       "487"
      ]
     },
     "execution_count": 125,
     "metadata": {},
     "output_type": "execute_result"
    }
   ],
   "source": [
    "df2[df2['type']=='story'].shape[0]"
   ]
  },
  {
   "cell_type": "code",
   "execution_count": null,
   "metadata": {},
   "outputs": [],
   "source": [
    "answer_part_1 = 487"
   ]
  },
  {
   "cell_type": "markdown",
   "metadata": {},
   "source": [
    "<br>\n",
    "\n",
    "**Question 2.** What was the length of the longest story?"
   ]
  },
  {
   "cell_type": "code",
   "execution_count": 201,
   "metadata": {},
   "outputs": [
    {
     "data": {
      "text/plain": [
       "445"
      ]
     },
     "execution_count": 201,
     "metadata": {},
     "output_type": "execute_result"
    }
   ],
   "source": [
    "int(df2[df2['type']=='story']['descendants'].max())"
   ]
  },
  {
   "cell_type": "code",
   "execution_count": null,
   "metadata": {},
   "outputs": [],
   "source": [
    "answer_part_2 = 445"
   ]
  },
  {
   "cell_type": "markdown",
   "metadata": {},
   "source": [
    "<br>\n",
    "\n",
    "**Question 3.** What user left the most comments?"
   ]
  },
  {
   "cell_type": "code",
   "execution_count": 133,
   "metadata": {},
   "outputs": [
    {
     "name": "stdout",
     "output_type": "stream",
     "text": [
      "62\n",
      "62\n",
      "pg\n"
     ]
    }
   ],
   "source": [
    "print(df2[df2['type']=='comment'].groupby('by')['id'].count()['pg'])\n",
    "print(df2[df2['type']=='comment'].groupby('by')['id'].count().max())\n",
    "print(df2[df2['type']=='comment'].groupby('by')['id'].count().idxmax())"
   ]
  },
  {
   "cell_type": "code",
   "execution_count": 130,
   "metadata": {},
   "outputs": [
    {
     "data": {
      "text/plain": [
       "'pg'"
      ]
     },
     "execution_count": 130,
     "metadata": {},
     "output_type": "execute_result"
    }
   ],
   "source": [
    "df2[df2['type']=='comment'].groupby('by')['id'].count().idxmax()"
   ]
  },
  {
   "cell_type": "code",
   "execution_count": null,
   "metadata": {},
   "outputs": [],
   "source": [
    "answer_part_3 = 'pg'"
   ]
  },
  {
   "cell_type": "code",
   "execution_count": null,
   "metadata": {},
   "outputs": [],
   "source": [
    "# Setting our answers to grader. Do not change!\n",
    "grader.set_answer(\"QQkMj\", answer_part_3)"
   ]
  },
  {
   "cell_type": "markdown",
   "metadata": {},
   "source": [
    "<br>\n",
    "\n",
    "**Question 4.** What user created the most stories?"
   ]
  },
  {
   "cell_type": "code",
   "execution_count": 135,
   "metadata": {},
   "outputs": [
    {
     "name": "stdout",
     "output_type": "stream",
     "text": [
      "34\n",
      "34\n",
      "usablecontent\n"
     ]
    }
   ],
   "source": [
    "print(df2[df2['type']=='story'].groupby('by')['id'].count()['usablecontent'])\n",
    "print(df2[df2['type']=='story'].groupby('by')['id'].count().max())\n",
    "print(df2[df2['type']=='story'].groupby('by')['id'].count().idxmax())"
   ]
  },
  {
   "cell_type": "code",
   "execution_count": null,
   "metadata": {},
   "outputs": [],
   "source": [
    "answer_part_4 = \"usablecontent\""
   ]
  },
  {
   "cell_type": "code",
   "execution_count": null,
   "metadata": {},
   "outputs": [],
   "source": [
    "# Setting our answers to grader. Do not change!\n",
    "grader.set_answer(\"CNPy6\", answer_part_4)"
   ]
  },
  {
   "cell_type": "markdown",
   "metadata": {},
   "source": [
    "<br>\n",
    "\n",
    "**Question 5.** What is day of the week with the most stories created? Enter one of the following as an answer: Monday, Tuesday, Wednesday, Thursday, Friday, Saturday, Sunday."
   ]
  },
  {
   "cell_type": "code",
   "execution_count": 139,
   "metadata": {},
   "outputs": [
    {
     "name": "stdout",
     "output_type": "stream",
     "text": [
      "Wednesday\n"
     ]
    },
    {
     "data": {
      "text/plain": [
       "dow\n",
       "Friday       68\n",
       "Monday       88\n",
       "Saturday     53\n",
       "Sunday       38\n",
       "Thursday     67\n",
       "Tuesday      81\n",
       "Wednesday    92\n",
       "Name: id, dtype: int64"
      ]
     },
     "execution_count": 139,
     "metadata": {},
     "output_type": "execute_result"
    }
   ],
   "source": [
    "print(df2[df2['type']=='story'].groupby('dow')['id'].count().idxmax())\n",
    "df2[df2['type']=='story'].groupby('dow')['id'].count()"
   ]
  },
  {
   "cell_type": "code",
   "execution_count": null,
   "metadata": {},
   "outputs": [],
   "source": [
    "answer_part_5 = \"Wednesday\""
   ]
  },
  {
   "cell_type": "markdown",
   "metadata": {},
   "source": [
    "<br><br>\n",
    "\n",
    "**Question 6.** What is day of the week with the most comments left? Enter one of the following as an answer: Monday, Tuesday, Wednesday, Thursday, Friday, Saturday, Sunday."
   ]
  },
  {
   "cell_type": "code",
   "execution_count": 140,
   "metadata": {},
   "outputs": [
    {
     "name": "stdout",
     "output_type": "stream",
     "text": [
      "Thursday\n"
     ]
    },
    {
     "data": {
      "text/plain": [
       "dow\n",
       "Friday       250\n",
       "Monday       201\n",
       "Saturday     410\n",
       "Sunday       124\n",
       "Thursday     414\n",
       "Tuesday      194\n",
       "Wednesday    238\n",
       "Name: id, dtype: int64"
      ]
     },
     "execution_count": 140,
     "metadata": {},
     "output_type": "execute_result"
    }
   ],
   "source": [
    "print(df2[df2['type']=='comment'].groupby('dow')['id'].count().idxmax())\n",
    "df2[df2['type']=='comment'].groupby('dow')['id'].count()"
   ]
  },
  {
   "cell_type": "code",
   "execution_count": null,
   "metadata": {},
   "outputs": [],
   "source": [
    "answer_part_6 = \"Thursday\""
   ]
  },
  {
   "cell_type": "markdown",
   "metadata": {},
   "source": [
    "<br>\n",
    "\n",
    "**Question 7.** How many comments does user leave on average?"
   ]
  },
  {
   "cell_type": "code",
   "execution_count": 142,
   "metadata": {},
   "outputs": [
    {
     "name": "stdout",
     "output_type": "stream",
     "text": [
      "4.755844155844156\n"
     ]
    },
    {
     "data": {
      "text/plain": [
       "by\n",
       "Alex3917    13\n",
       "AurSaraf     1\n",
       "BearOfNH     1\n",
       "Benja        3\n",
       "BitGeek     12\n",
       "            ..\n",
       "yc1          1\n",
       "zach        21\n",
       "zaidf       47\n",
       "zkinion     24\n",
       "zzzeek       1\n",
       "Name: id, Length: 385, dtype: int64"
      ]
     },
     "execution_count": 142,
     "metadata": {},
     "output_type": "execute_result"
    }
   ],
   "source": [
    "print(df2[df2['type']=='comment'].groupby('by')['id'].count().mean())\n",
    "df2[df2['type']=='comment'].groupby('by')['id'].count()"
   ]
  },
  {
   "cell_type": "code",
   "execution_count": null,
   "metadata": {},
   "outputs": [],
   "source": [
    "answer_part_7 = 4.755844155844156"
   ]
  },
  {
   "cell_type": "markdown",
   "metadata": {},
   "source": [
    "<br>\n",
    "\n",
    "**Question 8.** What is a median comments per user?"
   ]
  },
  {
   "cell_type": "code",
   "execution_count": 143,
   "metadata": {},
   "outputs": [
    {
     "name": "stdout",
     "output_type": "stream",
     "text": [
      "2.0\n"
     ]
    },
    {
     "data": {
      "text/plain": [
       "by\n",
       "Alex3917    13\n",
       "AurSaraf     1\n",
       "BearOfNH     1\n",
       "Benja        3\n",
       "BitGeek     12\n",
       "            ..\n",
       "yc1          1\n",
       "zach        21\n",
       "zaidf       47\n",
       "zkinion     24\n",
       "zzzeek       1\n",
       "Name: id, Length: 385, dtype: int64"
      ]
     },
     "execution_count": 143,
     "metadata": {},
     "output_type": "execute_result"
    }
   ],
   "source": [
    "print(df2[df2['type']=='comment'].groupby('by')['id'].count().median())\n",
    "df2[df2['type']=='comment'].groupby('by')['id'].count()"
   ]
  },
  {
   "cell_type": "code",
   "execution_count": null,
   "metadata": {},
   "outputs": [],
   "source": [
    "answer_part_8 = 2"
   ]
  },
  {
   "cell_type": "markdown",
   "metadata": {},
   "source": [
    "<br>\n",
    "\n",
    "**Question 9.** What is an average number of stories per day?"
   ]
  },
  {
   "cell_type": "code",
   "execution_count": 149,
   "metadata": {},
   "outputs": [
    {
     "data": {
      "text/plain": [
       "7"
      ]
     },
     "execution_count": 149,
     "metadata": {},
     "output_type": "execute_result"
    }
   ],
   "source": [
    "df2.doy.nunique()"
   ]
  },
  {
   "cell_type": "code",
   "execution_count": 147,
   "metadata": {},
   "outputs": [
    {
     "name": "stdout",
     "output_type": "stream",
     "text": [
      "69.57142857142857\n"
     ]
    },
    {
     "data": {
      "text/plain": [
       "doy\n",
       "91    38\n",
       "92    88\n",
       "93    81\n",
       "94    92\n",
       "95    67\n",
       "96    68\n",
       "97    53\n",
       "Name: id, dtype: int64"
      ]
     },
     "execution_count": 147,
     "metadata": {},
     "output_type": "execute_result"
    }
   ],
   "source": [
    "print(df2[df2['type']=='story'].groupby('doy')['id'].count().mean())\n",
    "df2[df2['type']=='story'].groupby('doy')['id'].count()"
   ]
  },
  {
   "cell_type": "code",
   "execution_count": null,
   "metadata": {},
   "outputs": [],
   "source": [
    "answer_part_9 = 69.57142857142857"
   ]
  },
  {
   "cell_type": "markdown",
   "metadata": {},
   "source": [
    "<br>\n",
    "\n",
    "**Question 10.** How many comments per day are left on average?"
   ]
  },
  {
   "cell_type": "code",
   "execution_count": 148,
   "metadata": {},
   "outputs": [
    {
     "name": "stdout",
     "output_type": "stream",
     "text": [
      "261.57142857142856\n"
     ]
    },
    {
     "data": {
      "text/plain": [
       "doy\n",
       "91    124\n",
       "92    201\n",
       "93    194\n",
       "94    238\n",
       "95    414\n",
       "96    250\n",
       "97    410\n",
       "Name: id, dtype: int64"
      ]
     },
     "execution_count": 148,
     "metadata": {},
     "output_type": "execute_result"
    }
   ],
   "source": [
    "print(df2[df2['type']=='comment'].groupby('doy')['id'].count().mean())\n",
    "df2[df2['type']=='comment'].groupby('doy')['id'].count()"
   ]
  },
  {
   "cell_type": "code",
   "execution_count": null,
   "metadata": {},
   "outputs": [],
   "source": [
    "answer_part_10 = 261.57142857142856"
   ]
  },
  {
   "cell_type": "markdown",
   "metadata": {},
   "source": [
    "<br>\n",
    "<br>\n",
    "\n",
    "### Submitting answers"
   ]
  },
  {
   "cell_type": "code",
   "execution_count": null,
   "metadata": {},
   "outputs": [],
   "source": [
    "# you can make submission with answers so far to check yourself at this stage\n",
    "grader.submit(COURSERA_EMAIL, COURSERA_TOKEN)"
   ]
  }
 ],
 "metadata": {
  "kernelspec": {
   "display_name": "Python 3 (ipykernel)",
   "language": "python",
   "name": "python3"
  },
  "language_info": {
   "codemirror_mode": {
    "name": "ipython",
    "version": 3
   },
   "file_extension": ".py",
   "mimetype": "text/x-python",
   "name": "python",
   "nbconvert_exporter": "python",
   "pygments_lexer": "ipython3",
   "version": "3.8.13"
  }
 },
 "nbformat": 4,
 "nbformat_minor": 4
}
