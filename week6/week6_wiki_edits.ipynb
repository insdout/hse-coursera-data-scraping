{
 "cells": [
  {
   "cell_type": "markdown",
   "metadata": {
    "pycharm": {
     "name": "#%% md\n"
    }
   },
   "source": [
    "# Wikipedia Edits"
   ]
  },
  {
   "cell_type": "markdown",
   "metadata": {
    "pycharm": {
     "name": "#%% md\n"
    }
   },
   "source": [
    "## Week 6. Practice Programming Assignment 1"
   ]
  },
  {
   "cell_type": "markdown",
   "metadata": {
    "pycharm": {
     "name": "#%% md\n"
    }
   },
   "source": [
    "Let's look at top-5 countries of the European Union by population. They are [Germany](https://en.wikipedia.org/w/index.php?title=Germany), [France](https://en.wikipedia.org/w/index.php?title=France), [Italy](https://en.wikipedia.org/w/index.php?title=Italy), [Spain](https://en.wikipedia.org/w/index.php?title=Spain), [Poland](https://en.wikipedia.org/w/index.php?title=Poland).\n",
    "\n",
    "\n",
    "In this assignment you are required to look at wikipedia pages of these countries. More specifically, at history of edits of the pages (Click on 'View History' at the top right when you are on wikipedia article page). You are free to use any scraping tools we have covered to answer the questions, that you will find below."
   ]
  },
  {
   "cell_type": "markdown",
   "metadata": {
    "pycharm": {
     "name": "#%% md\n"
    }
   },
   "source": [
    "###### Import coursera grader tools"
   ]
  },
  {
   "cell_type": "code",
   "execution_count": 41,
   "metadata": {
    "pycharm": {
     "name": "#%%\n"
    }
   },
   "outputs": [],
   "source": [
    "\n",
    "import numpy as np\n"
   ]
  },
  {
   "cell_type": "code",
   "execution_count": null,
   "metadata": {
    "pycharm": {
     "name": "#%%\n"
    }
   },
   "outputs": [],
   "source": []
  },
  {
   "cell_type": "markdown",
   "metadata": {
    "pycharm": {
     "name": "#%% md\n"
    }
   },
   "source": [
    "<br><br><br><br>"
   ]
  },
  {
   "cell_type": "markdown",
   "metadata": {
    "pycharm": {
     "name": "#%% md\n"
    }
   },
   "source": [
    "### Coding part"
   ]
  },
  {
   "cell_type": "code",
   "execution_count": 6,
   "metadata": {
    "pycharm": {
     "name": "#%%\n"
    }
   },
   "outputs": [],
   "source": [
    "from bs4 import BeautifulSoup as bs\n",
    "import requests"
   ]
  },
  {
   "cell_type": "markdown",
   "metadata": {
    "pycharm": {
     "name": "#%% md\n"
    }
   },
   "source": [
    "<br><br>\n",
    "\n",
    "### Questions\n",
    "\n",
    "<br><br>\n",
    "\n",
    "**Question 1.** How many edits overall were made on pages of all the countries in 2019?"
   ]
  },
  {
   "cell_type": "code",
   "execution_count": 25,
   "outputs": [
    {
     "name": "stdout",
     "output_type": "stream",
     "text": [
      "200\n"
     ]
    }
   ],
   "source": [
    "url = \"https://en.wikipedia.org/w/index.php?title=Germany&offset=&limit=1000&action=history\"\n",
    "response = requests.get(url)\n",
    "print(response.status_code)"
   ],
   "metadata": {
    "collapsed": false,
    "pycharm": {
     "name": "#%%\n"
    }
   }
  },
  {
   "cell_type": "code",
   "execution_count": 46,
   "outputs": [
    {
     "name": "stdout",
     "output_type": "stream",
     "text": [
      "2019\n",
      "1000\n"
     ]
    }
   ],
   "source": [
    "import datetime\n",
    "soup = bs(response.text)\n",
    "#print(soup.prettify())\n",
    "attr = { \"class\":\"mw-changeslist-date\"}\n",
    "edits = soup.find_all(\"a\", attrs=attr, limit=1000)\n",
    "for e in edits[0]:\n",
    "    print(datetime.datetime.strptime(e.text, '%H:%M, %d %B %Y').year)\n",
    "print(len(edits))\n"
   ],
   "metadata": {
    "collapsed": false,
    "pycharm": {
     "name": "#%%\n"
    }
   }
  },
  {
   "cell_type": "code",
   "execution_count": 57,
   "outputs": [
    {
     "data": {
      "text/plain": "'Radom1967'"
     },
     "execution_count": 57,
     "metadata": {},
     "output_type": "execute_result"
    }
   ],
   "source": [
    "e.findParent().findParent().find(\"a\", attrs={\"class\":\"mw-userlink\"}).text"
   ],
   "metadata": {
    "collapsed": false,
    "pycharm": {
     "name": "#%%\n"
    }
   }
  },
  {
   "cell_type": "code",
   "execution_count": 188,
   "outputs": [
    {
     "name": "stdout",
     "output_type": "stream",
     "text": [
      "Germany 296\n",
      "France 401\n",
      "Italy 601\n",
      "Spain 375\n",
      "Poland 530\n"
     ]
    }
   ],
   "source": [
    "countries = [\"Germany\", \"France\", \"Italy\", \"Spain\", \"Poland\"]\n",
    "total_edits = []\n",
    "for c in countries:\n",
    "    c_edits = 0\n",
    "    url = f\"https://en.wikipedia.org/w/index.php?title={c}&offset=&limit=1000&year=2019&tagfilter=&action=history\"\n",
    "    response = requests.get(url)\n",
    "    if response.status_code == 200:\n",
    "        soup = bs(response.text)\n",
    "#print(soup.prettify())\n",
    "        attr = { \"class\":\"mw-changeslist-date\"}\n",
    "        edits = soup.find_all(\"a\", attrs=attr)\n",
    "        for e in edits:\n",
    "            if datetime.datetime.strptime(e.text, '%H:%M, %d %B %Y').year == 2019:\n",
    "                c_edits += 1\n",
    "            else:\n",
    "                break\n",
    "        total_edits.append(c_edits)\n",
    "        print(c, c_edits)\n",
    "    else:\n",
    "        print(\"Error!\")"
   ],
   "metadata": {
    "collapsed": false,
    "pycharm": {
     "name": "#%%\n"
    }
   }
  },
  {
   "cell_type": "code",
   "execution_count": 122,
   "outputs": [
    {
     "name": "stdout",
     "output_type": "stream",
     "text": [
      "105 296\n",
      "109 401\n",
      "95 601\n",
      "96 375\n",
      "59 530\n"
     ]
    }
   ],
   "source": [
    "user_set = set()\n",
    "for k in d.keys():\n",
    "    user_set=set(d[k].keys())\n",
    "    print(len(user_set), sum(d[k].values()))"
   ],
   "metadata": {
    "collapsed": false,
    "pycharm": {
     "name": "#%%\n"
    }
   }
  },
  {
   "cell_type": "code",
   "execution_count": 39,
   "outputs": [
    {
     "data": {
      "text/plain": "2203"
     },
     "execution_count": 39,
     "metadata": {},
     "output_type": "execute_result"
    }
   ],
   "source": [
    "sum(total_edits)"
   ],
   "metadata": {
    "collapsed": false,
    "pycharm": {
     "name": "#%%\n"
    }
   }
  },
  {
   "cell_type": "code",
   "execution_count": null,
   "metadata": {
    "pycharm": {
     "name": "#%%\n"
    }
   },
   "outputs": [],
   "source": [
    "answer_part_1 = 2203\n"
   ]
  },
  {
   "cell_type": "markdown",
   "metadata": {
    "pycharm": {
     "name": "#%% md\n"
    }
   },
   "source": [
    "<br>\n",
    "\n",
    "**Question 2.** What is the highest number of edits per country in 2019 among all countries present?"
   ]
  },
  {
   "cell_type": "code",
   "execution_count": 44,
   "outputs": [
    {
     "name": "stdout",
     "output_type": "stream",
     "text": [
      "601\n",
      "Italy\n"
     ]
    }
   ],
   "source": [
    "print(total_edits[np.argmax(total_edits)])\n",
    "print(countries[np.argmax(total_edits)])"
   ],
   "metadata": {
    "collapsed": false,
    "pycharm": {
     "name": "#%%\n"
    }
   }
  },
  {
   "cell_type": "code",
   "execution_count": null,
   "metadata": {
    "pycharm": {
     "name": "#%%\n"
    }
   },
   "outputs": [],
   "source": [
    "answer_part_2 = 601"
   ]
  },
  {
   "cell_type": "code",
   "execution_count": null,
   "metadata": {
    "pycharm": {
     "name": "#%%\n"
    }
   },
   "outputs": [],
   "source": [
    "# Setting our answers to grader. Do not change!\n",
    "grader.set_answer(\"dPTWK\", answer_part_2)"
   ]
  },
  {
   "cell_type": "markdown",
   "metadata": {
    "pycharm": {
     "name": "#%% md\n"
    }
   },
   "source": [
    "<br>\n",
    "\n",
    "**Question 3.** What is the lowest number of edits per country in 2019 among all countries present?"
   ]
  },
  {
   "cell_type": "code",
   "execution_count": 45,
   "outputs": [
    {
     "name": "stdout",
     "output_type": "stream",
     "text": [
      "296\n",
      "Germany\n"
     ]
    }
   ],
   "source": [
    "print(total_edits[np.argmin(total_edits)])\n",
    "print(countries[np.argmin(total_edits)])"
   ],
   "metadata": {
    "collapsed": false,
    "pycharm": {
     "name": "#%%\n"
    }
   }
  },
  {
   "cell_type": "code",
   "execution_count": null,
   "metadata": {
    "pycharm": {
     "name": "#%%\n"
    }
   },
   "outputs": [],
   "source": [
    "answer_part_3 = 296"
   ]
  },
  {
   "cell_type": "code",
   "execution_count": null,
   "metadata": {
    "pycharm": {
     "name": "#%%\n"
    }
   },
   "outputs": [],
   "source": [
    "# Setting our answers to grader. Do not change!\n",
    "grader.set_answer(\"JquX6\", answer_part_3)"
   ]
  },
  {
   "cell_type": "markdown",
   "metadata": {
    "pycharm": {
     "name": "#%% md\n"
    }
   },
   "source": [
    "<br>\n",
    "\n",
    "**Question 4.** How many users overall made edits on the countries' pages in 2019?"
   ]
  },
  {
   "cell_type": "code",
   "execution_count": 193,
   "outputs": [],
   "source": [
    "import collections\n",
    "import re\n",
    "d = collections.defaultdict(dict)\n",
    "usr = []\n",
    "countries = [\"Germany\", \"France\", \"Italy\", \"Spain\", \"Poland\"]\n",
    "for c in countries:\n",
    "    url = f\"https://en.wikipedia.org/w/index.php?title={c}&offset=&limit=1000&year=2019&tagfilter=&action=history\"\n",
    "    response = requests.get(url)\n",
    "    if response.status_code == 200:\n",
    "        soup = bs(response.text)\n",
    "        attr = { \"class\":\"mw-changeslist-date\"}\n",
    "        edits = soup.find_all(\"a\", attrs=attr,  string=re.compile('2019'))\n",
    "        for e in edits:\n",
    "            user = e.parent.find(\"bdi\").text\n",
    "            usr.append(user)\n",
    "            if user not in d[c]:\n",
    "                d[c][user] = 1\n",
    "            else:\n",
    "                d[c][user] += 1\n"
   ],
   "metadata": {
    "collapsed": false,
    "pycharm": {
     "name": "#%%\n"
    }
   }
  },
  {
   "cell_type": "code",
   "execution_count": 194,
   "outputs": [
    {
     "name": "stdout",
     "output_type": "stream",
     "text": [
      "135 296\n",
      "152 401\n",
      "139 601\n",
      "125 375\n",
      "96 530\n"
     ]
    }
   ],
   "source": [
    "user_set = set()\n",
    "for k in d.keys():\n",
    "    user_set=set(d[k].keys())\n",
    "    print(len(user_set), sum(d[k].values()))"
   ],
   "metadata": {
    "collapsed": false,
    "pycharm": {
     "name": "#%%\n"
    }
   }
  },
  {
   "cell_type": "code",
   "execution_count": 213,
   "outputs": [
    {
     "data": {
      "text/plain": "[]"
     },
     "execution_count": 213,
     "metadata": {},
     "output_type": "execute_result"
    }
   ],
   "source": [
    "soup.select('p[class=\\'top\\'][role=\\'navigation\\']')"
   ],
   "metadata": {
    "collapsed": false,
    "pycharm": {
     "name": "#%%\n"
    }
   }
  },
  {
   "cell_type": "code",
   "execution_count": 169,
   "outputs": [
    {
     "data": {
      "text/plain": "defaultdict(dict,\n            {'Germany': {'Zutt': 1,\n              'Monkbot': 3,\n              'InternetArchiveBot': 5,\n              'DDWilliams1': 1,\n              'Bender the Bot': 2,\n              'TheHistoryBuff101': 20,\n              'TheCyclonicStorm': 1,\n              'Jaellee': 2,\n              'Astrokalender': 1,\n              'ClaireFanch': 4,\n              'Alinstan': 1,\n              'SharabSalam': 1,\n              'Interstellarity': 1,\n              'Nikury2004': 11,\n              'Yossarian flew': 1,\n              'BegbertBiggs': 1,\n              'Connor Straube': 1,\n              'IamNotU': 16,\n              'Balolay': 2,\n              'Moxy': 6,\n              'MS47': 2,\n              'JJMC89 bot III': 1,\n              'Megyeye': 1,\n              'Csimma Viktor': 1,\n              'Dinan8': 1,\n              'KREOH': 4,\n              'Flags200': 3,\n              'Nillurcheier': 3,\n              'MarkH21': 1,\n              'Mich. Mar. 987': 2,\n              'Boulevard of broken dreams': 1,\n              'Bokmanrocks01': 1,\n              'Concordia1899': 4,\n              'Hrodvarsson': 4,\n              'DuckeggAlex': 3,\n              'Certes': 1,\n              'Wzanderoyisk': 3,\n              'Sm4rk0': 1,\n              'Maxeto0910': 2,\n              'Marianna251': 1,\n              'Anthologetes': 1,\n              'Glottran': 1,\n              'Age20035': 1,\n              'Doric Loon': 2,\n              'Jellysandwich0': 1,\n              '1980fast': 9,\n              'BaeyerDrewson': 1,\n              'RL0919': 1,\n              'Jnnc19': 13,\n              '77snekkins': 1,\n              'Merangs': 3,\n              'BroVic': 1,\n              'Anasaitis': 1,\n              'Tobby72': 2,\n              'Nordostsüdwest': 2,\n              'Xqq1238': 16,\n              'Shellwood': 1,\n              'Kozuch': 2,\n              'Afus199620': 1,\n              'Plk': 2,\n              'Canterbury Tail': 1,\n              'Vsmith': 1,\n              'Kinetic37': 1,\n              'Векочел': 1,\n              'TheCarlos1975': 2,\n              'JustAMuggle': 1,\n              'Mandarax': 1,\n              'GreenC bot': 2,\n              'DrKay': 3,\n              'Malcolmxl5': 1,\n              'AnomieBOT': 2,\n              'Prophet of Truth and Knowledge': 1,\n              'BrownHairedGirl': 1,\n              'Tionran': 1,\n              'MikeLynch': 1,\n              'HerkusMonte': 1,\n              'Eyer': 1,\n              'Illegitimate Barrister': 5,\n              'Ouzhoulang': 1,\n              'I dream of horses': 2,\n              'Viva Nicolás': 1,\n              'Timothy2b': 1,\n              'Rocket1': 2,\n              'Yamla': 1,\n              'Monopoly31121993(2)': 2,\n              'Jack90s15': 1,\n              'IznoRepeat': 1,\n              'BrugesFR': 5,\n              'TI1880': 1,\n              'StAnselm': 1,\n              'RandiGashti': 4,\n              'Mikeblas': 1,\n              'Cristiano Tomás': 1,\n              'LJF2019': 1,\n              'MarcusVetus': 1,\n              'Jaywubba1887': 3,\n              'Île flottante': 1,\n              'SS49': 1,\n              'RudnikU': 1,\n              'HWSager': 1,\n              'Strawberry': 1,\n              'Nicbou': 1,\n              'Sorabino': 1,\n              'Espoo': 1,\n              'Eem dik doun in toene': 2,\n              'MTWEmperor': 2,\n              'Wikirictor': 1,\n              'Epiphyllumlover': 1,\n              'Allice Hunter': 1,\n              'RhinosF1': 5,\n              'Kgfleischmann': 2,\n              'Foster tree': 4,\n              'MiXT4PE': 1,\n              'Genadigeno': 3,\n              'John of Reading': 1,\n              'WhisperToMe': 1,\n              'Khajidha': 1,\n              'Sashko1999': 1,\n              'E-960': 2,\n              'Leo Sammallahti': 1,\n              'Rodw': 1,\n              'PAustin4thApril1980': 1,\n              'JaneHuds93': 1,\n              'MosheA': 2,\n              'Alektor89': 1,\n              'XodoX': 2,\n              'Xjs': 1,\n              'Moonraker': 2,\n              'Bassball Batman': 1,\n              'MURIEL43': 1,\n              'Qualitätssteigerung': 2,\n              'ArminKow': 1,\n              'Joefromrandb': 1,\n              'Snipershot325': 1,\n              'Nyttend': 1},\n             'France': {'Monkbot': 2,\n              'LucaGaletti95': 1,\n              'Bender the Bot': 3,\n              'Zurkhardo': 6,\n              'Stevekeiretsu': 1,\n              'Khajidha': 2,\n              'InternetArchiveBot': 6,\n              'Suavemarimagno': 6,\n              'Philippe49730': 1,\n              'Arjayay': 2,\n              'ClaireFanch': 2,\n              'Lhommeayantdelajeunesse': 1,\n              'FlightTime': 1,\n              'Jim Michael': 1,\n              'TheHistoryBuff101': 40,\n              'Alinstan': 3,\n              'Satyabrat Shanu': 1,\n              'Interstellarity': 1,\n              'Phil wink': 1,\n              'AnnaBruta': 4,\n              'DavideVeloria88': 3,\n              'Theo sandhu': 1,\n              'Euanjohnb': 3,\n              'JJMC89 bot III': 1,\n              'Megyeye': 1,\n              'Arinid': 1,\n              'AnomieBOT': 4,\n              'KREOH': 4,\n              'Qualcomm250': 1,\n              'Météo&Nature': 2,\n              'Rodw': 2,\n              'Moxy': 14,\n              '3knolls': 1,\n              '5 albert square': 1,\n              'Joshua khor': 2,\n              'Robynthehode': 1,\n              'Anthony Baratier': 2,\n              'Mattcymru2': 1,\n              'Tony1': 3,\n              'Ssolbergj': 2,\n              'Hugue008': 1,\n              'Aman.kumar.goel': 2,\n              'SkyRobin': 1,\n              'Balolay': 1,\n              'Psherman122': 1,\n              'RL0919': 2,\n              'Currentlybiscuit': 2,\n              'Huiva': 3,\n              'Flags200': 1,\n              'Renamed user 2563edsdasdvas1d': 1,\n              'Kbb2': 5,\n              'Aacases': 1,\n              'Trappist the monk': 2,\n              'Kahtar': 1,\n              'MB': 1,\n              'Billinghurst': 1,\n              'Þjarkur': 1,\n              'IvanScrooge98': 1,\n              'Claquerat': 1,\n              'Royalistandlegitimist': 1,\n              'Akshay888777': 2,\n              'BrownHairedGirl': 1,\n              'Soveryvivid': 1,\n              'Somedifferentstuff': 2,\n              'Roselle Charles': 2,\n              'Danski454': 1,\n              'Dino245': 1,\n              'Canterbury Tail': 1,\n              'Kozuch': 1,\n              'Xqq1238': 7,\n              'RandomIntrigue': 2,\n              'Векочел': 1,\n              'Mistakefinder': 1,\n              'Mitchellhobbs': 1,\n              'Euandrew': 1,\n              'FrescoBot': 1,\n              \"Neptune's Trident\": 3,\n              'GreenC bot': 3,\n              'Hihellowhatsup': 1,\n              'Mandarax': 1,\n              'GreenMeansGo': 1,\n              'Fwaig': 1,\n              'JalenFolf': 1,\n              'Eco-climber': 2,\n              'GrandEscogriffe': 1,\n              'Favonian': 2,\n              'Kinderda': 5,\n              'Keith D': 1,\n              'Thomas.W': 1,\n              'RandiGashti': 2,\n              'M.Bitton': 3,\n              'RMSBCM': 11,\n              'Lemarche': 2,\n              'Futurist110': 2,\n              'DadaNeem': 1,\n              'OwenBlacker': 1,\n              'LaVieEstSympathique': 7,\n              'Pauli133': 1,\n              'Nuitetjour': 1,\n              'BrugesFR': 5,\n              'Vif12vf': 1,\n              'HDI2001': 1,\n              'Rantemario': 1,\n              'Timothy2b': 2,\n              'Fireandblood02': 2,\n              'Cristiano Tomás': 1,\n              'Dash9Z': 1,\n              'Iconic272': 1,\n              'Guardian101': 1,\n              'Maltrópa': 1,\n              'Funnyhat': 3,\n              'PaLaPaPaLo': 1,\n              'Imintery': 17,\n              'Mukogodo': 1,\n              'Williamxaviertanner': 1,\n              'Robert.stefan.m': 3,\n              'Merangs': 2,\n              'SS49': 1,\n              'Kaloyan34-FR': 2,\n              'Erp': 2,\n              'Alfwin Fernando': 6,\n              'Cassiopeia': 1,\n              'Shellwood': 1,\n              'Josvebot': 1,\n              'Rchard2scout': 1,\n              'Gerardogoldenberg': 18,\n              'Erlisitz': 1,\n              'Jgmccue': 1,\n              'JimRenge': 2,\n              'Doughton': 7,\n              'NiciVampireHeart': 2,\n              'Aboideau': 1,\n              'Highway 89': 1,\n              'NicoScribe': 1,\n              'GoodDay': 1,\n              'Callind': 35,\n              'Dr.K.': 3,\n              'Blaue Max': 7,\n              'Kuru': 1,\n              'Kingerikthesecond': 1,\n              'Georgepodros': 1,\n              'Citation bot': 1,\n              'AlanJohnZimmermann': 1,\n              'Sashko1999': 1,\n              'Kanguole': 1,\n              'BD2412': 1,\n              'Srich32977': 1,\n              'Koopinator': 1,\n              'Cymru.lass': 1,\n              'Radom1967': 1,\n              'Ynmsn': 3,\n              'DynamoDegsy': 1},\n             'Italy': {'Barjimoa': 33,\n              'Monkbot': 3,\n              'Bender the Bot': 1,\n              'Yakme': 42,\n              'InternetArchiveBot': 13,\n              'Stevekeiretsu': 1,\n              'Daringsmith': 1,\n              'Alborzagros': 1,\n              'DavideVeloria88': 96,\n              'Alinstan': 2,\n              'Citation bot': 2,\n              'Nick.mon': 10,\n              'Interstellarity': 1,\n              'Paul2520': 1,\n              'Shack76': 1,\n              'ForensicReapers': 1,\n              'Deacon Vorbis': 2,\n              'Nihil novi': 2,\n              'Lord Cornwallis': 1,\n              'RL0919': 3,\n              'JJMC89 bot III': 1,\n              'Megyeye': 1,\n              'Bellowhead678': 1,\n              'KREOH': 4,\n              'Jellysandwich0': 1,\n              'Enullnull': 2,\n              'Mazewaxie': 2,\n              'Dino245': 2,\n              'Rodw': 2,\n              'LukeWiller': 1,\n              'SmithGraves': 3,\n              'Madreterra': 33,\n              'Ita140188': 1,\n              'Sbb1413': 1,\n              'Goldsztajn': 2,\n              'Vaselineeeeeeee': 4,\n              'KingofGangsters': 1,\n              \"Isaac D'Freitas\": 1,\n              'Diannaa': 1,\n              'IvarT': 1,\n              'The-': 2,\n              'Jaywubba1887': 1,\n              'Luc19': 1,\n              'Oronsay': 1,\n              'MatiW97': 1,\n              'David1775': 1,\n              'Île flottante': 1,\n              'Haqeem Putra': 1,\n              'Moxy': 20,\n              'DerTorx': 1,\n              'Bornsommer': 1,\n              'BrownHairedGirl': 1,\n              'Davey2010': 1,\n              'Kozuch': 1,\n              'Amscheip': 3,\n              'Afus199620': 1,\n              'TheNavigatrr': 3,\n              'Aledownload': 4,\n              'BernardaAlba': 1,\n              'MB': 1,\n              'GreenC bot': 2,\n              'Zojomars': 1,\n              'Xqq1238': 1,\n              'Yeungkahchun': 1,\n              'Orenburg1': 1,\n              'AnomieBOT': 3,\n              'TheRealLB': 1,\n              '33Hudsonbay33': 16,\n              'Merangs': 1,\n              'Scip.': 2,\n              'Houseofmhatre': 1,\n              'LucaGaletti95': 3,\n              'EddieHugh': 12,\n              'Trappist the monk': 1,\n              'Roastedturkey': 1,\n              'Myasuda': 1,\n              'Jjdelv': 1,\n              'Kenwick': 3,\n              'JTPOB': 1,\n              'ChrisTakey': 1,\n              'Yayan550': 2,\n              'TheWikipedian1250': 3,\n              'BrugesFR': 5,\n              'Italewe': 7,\n              'Zziccardi': 1,\n              'EdmundT': 1,\n              'Charlie Foxtrot66': 1,\n              'ThecentreCZ': 1,\n              'Vanished user 355622': 1,\n              'RandiGashti': 2,\n              'Cristiano Tomás': 1,\n              'Berean Hunter': 1,\n              'DavisAndrew416': 7,\n              'Izno': 1,\n              'Epf2018': 10,\n              'DIYeditor': 2,\n              'Onel5969': 2,\n              'Iffy': 1,\n              'Havsjö': 1,\n              'JustAMuggle': 1,\n              'Rostockhansa': 44,\n              'AlfaRocket': 1,\n              'Rchard2scout': 1,\n              'Dk1919 Franking': 8,\n              'ComplexRational': 1,\n              'Auric': 1,\n              'Narky Blert': 1,\n              'Favonian': 2,\n              'ChirpSk8r': 1,\n              'Pithon314': 1,\n              'Marcobetticarboncini1': 26,\n              'Jpo': 1,\n              'Doughton': 37,\n              'Vif12vf': 5,\n              'Doug Weller': 1,\n              'Alessandro57': 1,\n              'Thenabster126': 1,\n              'Randy Kryn': 1,\n              'Haakonsson': 1,\n              'DancingPhilosopher': 2,\n              'JJMC89 bot': 1,\n              'Mai-Sachme': 1,\n              'Gjcdeluxe': 1,\n              'Inoteator': 8,\n              'Sashko1999': 1,\n              'Leo Sammallahti': 1,\n              'Ragityman': 3,\n              'Kanguole': 1,\n              'BD2412': 2,\n              'Simostar': 1,\n              'Haribanshnp': 2,\n              'InfoSearcher999': 1,\n              'Srich32977': 1,\n              'Wikifresc': 1,\n              'WikiInspector42': 1,\n              'Fbergo': 1,\n              'Iaof2017': 1,\n              'CitationCleanerBot': 1,\n              'Radom1967': 1},\n             'Spain': {'Bender the Bot': 1,\n              'Minketorn': 2,\n              'Jonesey95': 1,\n              'TheCyclonicStorm': 1,\n              'InternetArchiveBot': 3,\n              'Wowimsonick': 1,\n              'Alinstan': 2,\n              'Barjimoa': 4,\n              'PrussianOwl': 6,\n              'Alsoriano97': 2,\n              'Interstellarity': 1,\n              'Rodw': 1,\n              'BrugesFR': 11,\n              'AnnaBruta': 4,\n              'Elizium23': 3,\n              'Merangs': 2,\n              'QuestFour': 3,\n              'BernardaAlba': 31,\n              'Levivich': 1,\n              'Megyeye': 1,\n              'Lojwe': 2,\n              'KREOH': 3,\n              'Hildeoc': 1,\n              'Kessler': 7,\n              'Carlstak': 2,\n              'Cristiano Tomás': 3,\n              'SmithGraves': 5,\n              'SkyRobin': 1,\n              'Pip bittersweet': 1,\n              'Dharmalion76': 1,\n              'Generic515': 1,\n              'Monkbot': 2,\n              'Moxy': 12,\n              'Canterbury Tail': 1,\n              'Roselle Charles': 1,\n              'Califate123': 1,\n              'Boothsift': 1,\n              'Euanjohnb': 2,\n              'David O. Johnson': 1,\n              'RL0919': 2,\n              'Kbb2': 1,\n              'Melroross': 4,\n              'Jaywubba1887': 1,\n              'Shadow4ya': 1,\n              'Gashibenghor': 1,\n              'Henryshaw21': 1,\n              'Aude9331': 2,\n              'Egsan Bacon': 1,\n              'IamNotU': 6,\n              'Tobby72': 1,\n              'Anasaitis': 2,\n              'Aacases': 1,\n              'Error': 1,\n              'Asqueladd': 24,\n              'Jacob34T': 1,\n              'BrownHairedGirl': 2,\n              'Dino245': 2,\n              'Kozuch': 1,\n              'Xqq1238': 5,\n              'Thederpinator': 2,\n              'Julietdeltalima': 1,\n              'Frietjes': 2,\n              'Isra2911': 1,\n              'GreenC bot': 1,\n              'Onel5969': 2,\n              'TheNavigatrr': 2,\n              'Favonian': 4,\n              'Briantri': 1,\n              'AnomieBOT': 3,\n              'IznoRepeat': 1,\n              'Monorster': 5,\n              'EddieHugh': 2,\n              'Comeonduckling': 1,\n              'PhagoCytosis': 3,\n              'Cloigtheach': 1,\n              'Timothy2b': 1,\n              'Alonso de Mendoza': 5,\n              'Valenciano': 2,\n              'TheRichic': 2,\n              'RandiGashti': 4,\n              'Molisone': 1,\n              'Bender235': 1,\n              'Nikki070': 1,\n              'Þjarkur': 1,\n              'Melrorross': 2,\n              'Subtropical-man': 1,\n              'Prattlement': 1,\n              'Cwmhiraeth': 1,\n              'Snowflake91': 1,\n              'The Professor (Time Lord)': 1,\n              'DavisAndrew416': 1,\n              'Equawikipedizer': 1,\n              'Imintery': 12,\n              'Narciso003': 1,\n              'Corriebertus': 1,\n              'Conejero intl': 1,\n              'Rchard2scout': 1,\n              'DavidLupin7': 4,\n              'El cid, el campeador': 1,\n              'Blade and the rest': 4,\n              'William Avery': 2,\n              'IvanScrooge98': 1,\n              'Giraffedata': 2,\n              'ZFT': 1,\n              'Estoy Aquí': 2,\n              'Jprg1966': 1,\n              'AlHazen': 1,\n              'TechnicianGB': 6,\n              'Dustz': 1,\n              'JamesOredan': 2,\n              'HombreDHojalata': 2,\n              'Alexandros TW': 1,\n              'Leo Sammallahti': 1,\n              'Musicfan122': 22,\n              'Healandn': 4,\n              'Kanguole': 1,\n              'Ineedisin': 43,\n              'Hannah Abbott': 1,\n              'Coastside': 1,\n              'Bellowhead678': 2,\n              'KylieTastic': 1,\n              'Srich32977': 1,\n              'Rene Bascos Sarabia Jr.': 1,\n              'DavideVeloria88': 1,\n              'Diannaa': 1},\n             'Poland': {'Radom1967': 9,\n              'LaCucaracha91': 4,\n              'François Robere': 1,\n              'Marcocapelle': 1,\n              'E-960': 67,\n              'Shkrata': 2,\n              'Piotrus': 1,\n              'BattyBot': 1,\n              'Monkbot': 5,\n              'KIENGIR': 2,\n              'Bender the Bot': 2,\n              'KREOH': 18,\n              'LordParsifal': 3,\n              'InternetArchiveBot': 11,\n              'AnomieBOT': 2,\n              'The Banner': 3,\n              'Merangs': 148,\n              'Of 19': 2,\n              'Alinstan': 1,\n              'TheHistoryBuff101': 38,\n              'Interstellarity': 1,\n              'Pawello071': 1,\n              'Moxy': 8,\n              'MozeTak': 1,\n              'Howcheng': 1,\n              'Frietjes': 1,\n              'Megyeye': 1,\n              'Rich Farmbrough': 1,\n              'Flyguy1020': 1,\n              'SoulMen98': 1,\n              'Kallerna': 1,\n              'Wtmitchell': 1,\n              'Sonukumar13341': 1,\n              'Dino245': 5,\n              'PavKls': 19,\n              'NeonFor': 3,\n              'Oshawott 12': 1,\n              'Illegitimate Barrister': 1,\n              'Jellysandwich0': 1,\n              'Oklollmao': 1,\n              'RL0919': 1,\n              'A2soup': 1,\n              'Abbyjjjj96': 2,\n              'Xx236': 2,\n              'Super Miron': 1,\n              'Jaywubba1887': 3,\n              'Onedayiwillediteverypageventhemainpage2': 1,\n              'Narky Blert': 2,\n              'Madreterra': 2,\n              'Roselle Charles': 3,\n              'Jack90s15': 6,\n              'Volunteer Marek': 3,\n              'Icewhiz': 6,\n              'JWilk': 1,\n              'Kozuch': 2,\n              'Cosmopolitan268': 1,\n              \"Robert P. O'Shea\": 1,\n              'Tobby72': 2,\n              'Pofka': 1,\n              'Seba00PL': 2,\n              'GreenC bot': 1,\n              'GreenMeansGo': 1,\n              'BrownHairedGirl': 2,\n              'Jirka.h23': 3,\n              'AudmanOut': 2,\n              '33Hudsonbay33': 24,\n              'EddieHugh': 15,\n              'Mitleser': 1,\n              'Dynamo458': 3,\n              'BrugesFR': 12,\n              'Vif12vf': 1,\n              'HDI2001': 2,\n              'Paul Zawkiewicz': 1,\n              'Rocket1': 1,\n              'Double sharp': 1,\n              'RandiGashti': 4,\n              'Cassjus': 1,\n              'Urabura': 13,\n              'Zaslav': 1,\n              'Boscaswell': 1,\n              'Rogerd': 1,\n              'Str1977': 1,\n              'Rchard2scout': 1,\n              'ProhibitOnions': 2,\n              'SealStealer': 1,\n              'StringRay': 1,\n              'SS49': 1,\n              'Subtropical-man': 1,\n              'Imoti95': 5,\n              'HorCrux48': 4,\n              'Kanguole': 1,\n              'Babooneh': 1,\n              'Srich32977': 2,\n              'PrimaPrime': 1,\n              'Haribanshnp': 1,\n              'Powertranz': 1}})"
     },
     "execution_count": 169,
     "metadata": {},
     "output_type": "execute_result"
    }
   ],
   "source": [
    "d"
   ],
   "metadata": {
    "collapsed": false,
    "pycharm": {
     "name": "#%%\n"
    }
   }
  },
  {
   "cell_type": "code",
   "execution_count": 173,
   "outputs": [
    {
     "data": {
      "text/plain": "296"
     },
     "execution_count": 173,
     "metadata": {},
     "output_type": "execute_result"
    }
   ],
   "source": [
    "sum(d[\"Germany\"].values())"
   ],
   "metadata": {
    "collapsed": false,
    "pycharm": {
     "name": "#%%\n"
    }
   }
  },
  {
   "cell_type": "code",
   "execution_count": 187,
   "outputs": [
    {
     "data": {
      "text/plain": "480"
     },
     "execution_count": 187,
     "metadata": {},
     "output_type": "execute_result"
    }
   ],
   "source": [
    "len(set(usr))"
   ],
   "metadata": {
    "collapsed": false,
    "pycharm": {
     "name": "#%%\n"
    }
   }
  },
  {
   "cell_type": "code",
   "execution_count": 175,
   "outputs": [
    {
     "name": "stdout",
     "output_type": "stream",
     "text": [
      "296\n",
      "401\n",
      "601\n",
      "375\n",
      "530\n",
      "480\n"
     ]
    }
   ],
   "source": [
    "user_set = set()\n",
    "for k in d.keys():\n",
    "    user_set.update(d[k].keys())\n",
    "    print(sum(d[k].values()))\n",
    "print(len(user_set))"
   ],
   "metadata": {
    "collapsed": false,
    "pycharm": {
     "name": "#%%\n"
    }
   }
  },
  {
   "cell_type": "code",
   "execution_count": null,
   "metadata": {
    "pycharm": {
     "name": "#%%\n"
    }
   },
   "outputs": [],
   "source": [
    "answer_part_4 = 480"
   ]
  },
  {
   "cell_type": "code",
   "execution_count": null,
   "metadata": {
    "pycharm": {
     "name": "#%%\n"
    }
   },
   "outputs": [],
   "source": [
    "# Setting our answers to grader. Do not change!\n",
    "grader.set_answer(\"Yjvdq\", answer_part_4)"
   ]
  },
  {
   "cell_type": "markdown",
   "metadata": {
    "pycharm": {
     "name": "#%% md\n"
    }
   },
   "source": [
    "<br>\n",
    "\n",
    "**Question 5.** What is the highest number of users made edits on country's page among all countries present in 2019?"
   ]
  },
  {
   "cell_type": "code",
   "execution_count": 176,
   "outputs": [
    {
     "name": "stdout",
     "output_type": "stream",
     "text": [
      "Germany 135\n",
      "France 152\n",
      "Italy 139\n",
      "Spain 125\n",
      "Poland 96\n"
     ]
    }
   ],
   "source": [
    "for k in d.keys():\n",
    "    print(k, len(d[k].keys()))\n"
   ],
   "metadata": {
    "collapsed": false,
    "pycharm": {
     "name": "#%%\n"
    }
   }
  },
  {
   "cell_type": "code",
   "execution_count": null,
   "metadata": {
    "pycharm": {
     "name": "#%%\n"
    }
   },
   "outputs": [],
   "source": [
    "answer_part_5 = 152"
   ]
  },
  {
   "cell_type": "code",
   "execution_count": null,
   "metadata": {
    "pycharm": {
     "name": "#%%\n"
    }
   },
   "outputs": [],
   "source": [
    "# Setting our answers to grader. Do not change!\n",
    "grader.set_answer(\"L53Sc\", answer_part_5)"
   ]
  },
  {
   "cell_type": "markdown",
   "metadata": {
    "pycharm": {
     "name": "#%% md\n"
    }
   },
   "source": [
    "<br><br>\n",
    "\n",
    "**Question 6.** What user made the most edits?"
   ]
  },
  {
   "cell_type": "code",
   "execution_count": null,
   "outputs": [],
   "source": [],
   "metadata": {
    "collapsed": false,
    "pycharm": {
     "name": "#%%\n"
    }
   }
  },
  {
   "cell_type": "code",
   "execution_count": 90,
   "outputs": [
    {
     "data": {
      "text/plain": "('Germany',\n {'Zutt': 1,\n  'Monkbot': 7,\n  'DDWilliams1': 2,\n  'Bender the Bot': 5,\n  'Jaellee': 2,\n  'ClaireFanch': 5,\n  'TheHistoryBuff101': 5,\n  'Alinstan': 1,\n  'SharabSalam': 1,\n  'Interstellarity': 1,\n  'Nikury2004': 13,\n  'Yossarian flew': 1,\n  'BegbertBiggs': 2,\n  'IamNotU': 22,\n  'Moxy': 4,\n  'InternetArchiveBot': 2,\n  'JJMC89 bot III': 1,\n  'Megyeye': 1,\n  'Csimma Viktor': 1,\n  'Dinan8': 1,\n  'KREOH': 5,\n  'Nillurcheier': 3,\n  'MarkH21': 7,\n  'Concordia1899': 1,\n  'Hrodvarsson': 3,\n  'DuckeggAlex': 3,\n  'Certes': 1,\n  'Wzanderoyisk': 6,\n  'Sm4rk0': 1,\n  'Maxeto0910': 3,\n  'Marianna251': 1,\n  'Anthologetes': 1,\n  'Age20035': 1,\n  'Doric Loon': 2,\n  'Jellysandwich0': 1,\n  '1980fast': 9,\n  'BaeyerDrewson': 1,\n  'RL0919': 1,\n  'Jnnc19': 14,\n  '77snekkins': 1,\n  'Merangs': 6,\n  'BroVic': 1,\n  'Anasaitis': 1,\n  'Tobby72': 1,\n  'Nordostsüdwest': 2,\n  'Shellwood': 6,\n  'Afus199620': 2,\n  'Plk': 5,\n  'Vsmith': 1,\n  'Kinetic37': 3,\n  'Xqq1238': 3,\n  'JustAMuggle': 2,\n  'Mandarax': 1,\n  'GreenC bot': 2,\n  'DrKay': 3,\n  'Malcolmxl5': 1,\n  'AnomieBOT': 3,\n  'BrownHairedGirl': 6,\n  'HerkusMonte': 1,\n  'Eyer': 3,\n  'Ouzhoulang': 1,\n  'I dream of horses': 2,\n  'Viva Nicolás': 1,\n  'Timothy2b': 4,\n  'Rocket1': 2,\n  'Yamla': 1,\n  'Monopoly31121993(2)': 2,\n  'Jack90s15': 1,\n  'BrugesFR': 5,\n  'TI1880': 1,\n  'StAnselm': 1,\n  'Mikeblas': 5,\n  'LJF2019': 1,\n  'TheCarlos1975': 1,\n  'MarcusVetus': 1,\n  'Jaywubba1887': 3,\n  'Île flottante': 13,\n  'SS49': 1,\n  'RudnikU': 1,\n  'HWSager': 1,\n  'Strawberry': 1,\n  'Nicbou': 1,\n  'Sorabino': 1,\n  'Eem dik doun in toene': 2,\n  'MTWEmperor': 2,\n  'Wikirictor': 1,\n  'Epiphyllumlover': 1,\n  'Allice Hunter': 2,\n  'RhinosF1': 5,\n  'Kgfleischmann': 6,\n  'MiXT4PE': 1,\n  'Genadigeno': 3,\n  'John of Reading': 1,\n  'WhisperToMe': 2,\n  'Sashko1999': 3,\n  'Rodw': 1,\n  'PAustin4thApril1980': 1,\n  'JaneHuds93': 1,\n  'E-960': 3,\n  'Alektor89': 3,\n  'Xjs': 1,\n  'Moonraker': 3,\n  'MURIEL43': 4,\n  'Joefromrandb': 1,\n  'Snipershot325': 2})"
     },
     "execution_count": 90,
     "metadata": {},
     "output_type": "execute_result"
    }
   ],
   "source": [],
   "metadata": {
    "collapsed": false,
    "pycharm": {
     "name": "#%%\n"
    }
   }
  },
  {
   "cell_type": "code",
   "execution_count": 177,
   "outputs": [
    {
     "data": {
      "text/plain": "[148, 'Merangs']"
     },
     "execution_count": 177,
     "metadata": {},
     "output_type": "execute_result"
    }
   ],
   "source": [
    "max_comments = [0, None]\n",
    "for k in d.keys():\n",
    "    for u in d[k].keys():\n",
    "        if d[k][u] > max_comments[0]:\n",
    "            max_comments[0], max_comments[1] = d[k][u], u\n",
    "max_comments"
   ],
   "metadata": {
    "collapsed": false,
    "pycharm": {
     "name": "#%%\n"
    }
   }
  },
  {
   "cell_type": "code",
   "execution_count": null,
   "metadata": {
    "pycharm": {
     "name": "#%%\n"
    }
   },
   "outputs": [],
   "source": [
    "answer_part_6 = Merangs"
   ]
  },
  {
   "cell_type": "code",
   "execution_count": null,
   "metadata": {
    "pycharm": {
     "name": "#%%\n"
    }
   },
   "outputs": [],
   "source": [
    "# Setting our answers to grader. Do not change!\n",
    "grader.set_answer(\"XUNG7\", answer_part_6)"
   ]
  },
  {
   "cell_type": "markdown",
   "metadata": {
    "pycharm": {
     "name": "#%% md\n"
    }
   },
   "source": [
    "<br>\n",
    "\n",
    "**Question 7.** What is average number of edits per day in 2019?"
   ]
  },
  {
   "cell_type": "code",
   "execution_count": null,
   "outputs": [],
   "source": [],
   "metadata": {
    "collapsed": false,
    "pycharm": {
     "name": "#%%\n"
    }
   }
  },
  {
   "cell_type": "code",
   "execution_count": 178,
   "outputs": [
    {
     "name": "stdout",
     "output_type": "stream",
     "text": [
      "365\n"
     ]
    }
   ],
   "source": [
    "from datetime import date\n",
    "f_date = date(2019, 1, 1)\n",
    "l_date = date(2019, 12, 31)\n",
    "delta = (l_date - f_date).days + 1\n",
    "print(delta)"
   ],
   "metadata": {
    "collapsed": false,
    "pycharm": {
     "name": "#%%\n"
    }
   }
  },
  {
   "cell_type": "code",
   "execution_count": 179,
   "outputs": [
    {
     "data": {
      "text/plain": "6.035616438356165"
     },
     "execution_count": 179,
     "metadata": {},
     "output_type": "execute_result"
    }
   ],
   "source": [
    "sum(total_edits)/delta"
   ],
   "metadata": {
    "collapsed": false,
    "pycharm": {
     "name": "#%%\n"
    }
   }
  },
  {
   "cell_type": "code",
   "execution_count": null,
   "metadata": {
    "pycharm": {
     "name": "#%%\n"
    }
   },
   "outputs": [],
   "source": [
    "answer_part_7 = 6.03561"
   ]
  },
  {
   "cell_type": "code",
   "execution_count": null,
   "metadata": {
    "pycharm": {
     "name": "#%%\n"
    }
   },
   "outputs": [],
   "source": [
    "# Setting our answers to grader. Do not change!\n",
    "grader.set_answer(\"hyfsg\", answer_part_7)"
   ]
  },
  {
   "cell_type": "markdown",
   "metadata": {
    "pycharm": {
     "name": "#%% md\n"
    }
   },
   "source": [
    "<br>\n",
    "\n",
    "**Question 8.** What is average number of edits per user in 2019?"
   ]
  },
  {
   "cell_type": "code",
   "execution_count": 180,
   "outputs": [
    {
     "data": {
      "text/plain": "4.589583333333334"
     },
     "execution_count": 180,
     "metadata": {},
     "output_type": "execute_result"
    }
   ],
   "source": [
    "sum(total_edits)/len(user_set)"
   ],
   "metadata": {
    "collapsed": false,
    "pycharm": {
     "name": "#%%\n"
    }
   }
  },
  {
   "cell_type": "code",
   "execution_count": 99,
   "outputs": [
    {
     "data": {
      "text/plain": "350"
     },
     "execution_count": 99,
     "metadata": {},
     "output_type": "execute_result"
    }
   ],
   "source": [
    "len(user_set)"
   ],
   "metadata": {
    "collapsed": false,
    "pycharm": {
     "name": "#%%\n"
    }
   }
  },
  {
   "cell_type": "code",
   "execution_count": null,
   "metadata": {
    "pycharm": {
     "name": "#%%\n"
    }
   },
   "outputs": [],
   "source": [
    "answer_part_8 = 4.589583333333334"
   ]
  },
  {
   "cell_type": "code",
   "execution_count": null,
   "metadata": {
    "pycharm": {
     "name": "#%%\n"
    }
   },
   "outputs": [],
   "source": [
    "# Setting our answers to grader. Do not change!\n",
    "grader.set_answer(\"8S5EP\", answer_part_8)"
   ]
  },
  {
   "cell_type": "markdown",
   "metadata": {
    "pycharm": {
     "name": "#%% md\n"
    }
   },
   "source": [
    "<br>\n",
    "\n",
    "**Question 9.** What is average number of edits per day in the country with most edits in 2019?"
   ]
  },
  {
   "cell_type": "code",
   "execution_count": 181,
   "outputs": [
    {
     "data": {
      "text/plain": "1.6465753424657534"
     },
     "execution_count": 181,
     "metadata": {},
     "output_type": "execute_result"
    }
   ],
   "source": [
    "max(total_edits)/delta"
   ],
   "metadata": {
    "collapsed": false,
    "pycharm": {
     "name": "#%%\n"
    }
   }
  },
  {
   "cell_type": "code",
   "execution_count": null,
   "metadata": {
    "pycharm": {
     "name": "#%%\n"
    }
   },
   "outputs": [],
   "source": [
    "answer_part_9 = 1.6465753424657534"
   ]
  },
  {
   "cell_type": "code",
   "execution_count": null,
   "metadata": {
    "pycharm": {
     "name": "#%%\n"
    }
   },
   "outputs": [],
   "source": [
    "# Setting our answers to grader. Do not change!\n",
    "grader.set_answer(\"ZNeVq\", answer_part_9)"
   ]
  },
  {
   "cell_type": "markdown",
   "metadata": {
    "pycharm": {
     "name": "#%% md\n"
    }
   },
   "source": [
    "<br>\n",
    "\n",
    "**Question 10.** What is average number of edits per user in the country with most edits in 2019?"
   ]
  },
  {
   "cell_type": "code",
   "execution_count": 182,
   "outputs": [
    {
     "data": {
      "text/plain": "4.323741007194244"
     },
     "execution_count": 182,
     "metadata": {},
     "output_type": "execute_result"
    }
   ],
   "source": [
    "max(total_edits)/len(d[countries[total_edits.index(max(total_edits))]].keys())"
   ],
   "metadata": {
    "collapsed": false,
    "pycharm": {
     "name": "#%%\n"
    }
   }
  },
  {
   "cell_type": "code",
   "execution_count": 183,
   "outputs": [
    {
     "data": {
      "text/plain": "139"
     },
     "execution_count": 183,
     "metadata": {},
     "output_type": "execute_result"
    }
   ],
   "source": [
    "len(d[countries[total_edits.index(max(total_edits))]].keys())"
   ],
   "metadata": {
    "collapsed": false,
    "pycharm": {
     "name": "#%%\n"
    }
   }
  },
  {
   "cell_type": "code",
   "execution_count": null,
   "metadata": {
    "pycharm": {
     "name": "#%%\n"
    }
   },
   "outputs": [],
   "source": [
    "answer_part_10 = 4.323741007194244"
   ]
  }
 ],
 "metadata": {
  "kernelspec": {
   "display_name": "Python 3",
   "language": "python",
   "name": "python3"
  },
  "language_info": {
   "codemirror_mode": {
    "name": "ipython",
    "version": 3
   },
   "file_extension": ".py",
   "mimetype": "text/x-python",
   "name": "python",
   "nbconvert_exporter": "python",
   "pygments_lexer": "ipython3",
   "version": "3.7.6"
  }
 },
 "nbformat": 4,
 "nbformat_minor": 4
}