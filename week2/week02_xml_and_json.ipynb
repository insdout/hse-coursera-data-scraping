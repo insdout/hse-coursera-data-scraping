{
 "cells": [
  {
   "cell_type": "markdown",
   "metadata": {
    "pycharm": {
     "name": "#%% md\n"
    }
   },
   "source": [
    "# Parsing XML and JSON"
   ]
  },
  {
   "cell_type": "markdown",
   "metadata": {
    "pycharm": {
     "name": "#%% md\n"
    }
   },
   "source": [
    "## Week 2. Practice Programming Assignment 1"
   ]
  },
  {
   "cell_type": "markdown",
   "metadata": {
    "pycharm": {
     "name": "#%% md\n"
    }
   },
   "source": [
    "In this assignment you are provided with an XML file and JSON file. The files contain some information about stock prices from Moscow Stock Exchange. You will need to inspect the data to answer some questions. "
   ]
  },
  {
   "cell_type": "markdown",
   "metadata": {
    "pycharm": {
     "name": "#%% md\n"
    }
   },
   "source": [
    "###### Import coursera grader tools"
   ]
  },
  {
   "cell_type": "code",
   "execution_count": 1,
   "outputs": [],
   "source": [
    "import tabula\n",
    "import fitz"
   ],
   "metadata": {
    "collapsed": false,
    "pycharm": {
     "name": "#%%\n"
    }
   }
  },
  {
   "cell_type": "markdown",
   "metadata": {
    "pycharm": {
     "name": "#%% md\n"
    }
   },
   "source": [
    "<br><br><br><br>"
   ]
  },
  {
   "cell_type": "markdown",
   "metadata": {
    "pycharm": {
     "name": "#%% md\n"
    }
   },
   "source": [
    "### Part 1. XML"
   ]
  },
  {
   "cell_type": "markdown",
   "metadata": {
    "pycharm": {
     "name": "#%% md\n"
    }
   },
   "source": [
    "You are provided with file `securities.xml`. Explore it to answer the quesionts."
   ]
  },
  {
   "cell_type": "code",
   "execution_count": 39,
   "outputs": [],
   "source": [
    "import xml.etree.ElementTree as ET"
   ],
   "metadata": {
    "collapsed": false,
    "pycharm": {
     "name": "#%%\n"
    }
   }
  },
  {
   "cell_type": "code",
   "execution_count": 40,
   "outputs": [],
   "source": [
    "input_file = ET.parse('securities.xml')"
   ],
   "metadata": {
    "collapsed": false,
    "pycharm": {
     "name": "#%%\n"
    }
   }
  },
  {
   "cell_type": "code",
   "execution_count": 41,
   "outputs": [
    {
     "data": {
      "text/plain": "xml.etree.ElementTree.ElementTree"
     },
     "execution_count": 41,
     "metadata": {},
     "output_type": "execute_result"
    }
   ],
   "source": [
    "type(input_file)"
   ],
   "metadata": {
    "collapsed": false,
    "pycharm": {
     "name": "#%%\n"
    }
   }
  },
  {
   "cell_type": "code",
   "execution_count": 42,
   "outputs": [],
   "source": [
    "root = input_file.getroot()"
   ],
   "metadata": {
    "collapsed": false,
    "pycharm": {
     "name": "#%%\n"
    }
   }
  },
  {
   "cell_type": "code",
   "execution_count": 43,
   "outputs": [
    {
     "data": {
      "text/plain": "xml.etree.ElementTree.Element"
     },
     "execution_count": 43,
     "metadata": {},
     "output_type": "execute_result"
    }
   ],
   "source": [
    "type(root)"
   ],
   "metadata": {
    "collapsed": false,
    "pycharm": {
     "name": "#%%\n"
    }
   }
  },
  {
   "cell_type": "code",
   "execution_count": 44,
   "outputs": [
    {
     "name": "stdout",
     "output_type": "stream",
     "text": [
      "data {'id': 'history'}\n",
      "data {'id': 'history.cursor'}\n"
     ]
    }
   ],
   "source": [
    "for child in root:\n",
    "    print(child.tag, child.attrib)"
   ],
   "metadata": {
    "collapsed": false,
    "pycharm": {
     "name": "#%%\n"
    }
   }
  },
  {
   "cell_type": "code",
   "execution_count": 45,
   "outputs": [
    {
     "name": "stdout",
     "output_type": "stream",
     "text": [
      "88\n"
     ]
    }
   ],
   "source": [
    "answ1 = sum([1 for _ in root.iter(\"*\")])\n",
    "print(answ1)"
   ],
   "metadata": {
    "collapsed": false,
    "pycharm": {
     "name": "#%%\n"
    }
   }
  },
  {
   "cell_type": "code",
   "execution_count": 46,
   "outputs": [
    {
     "name": "stdout",
     "output_type": "stream",
     "text": [
      "document {}\n",
      "data {'id': 'history'}\n",
      "metadata {}\n",
      "columns {}\n",
      "column {'name': 'BOARDID', 'type': 'string', 'bytes': '12', 'max_size': '0'}\n",
      "column {'name': 'TRADEDATE', 'type': 'date', 'bytes': '10', 'max_size': '0'}\n",
      "column {'name': 'SHORTNAME', 'type': 'string', 'bytes': '189', 'max_size': '0'}\n",
      "column {'name': 'SECID', 'type': 'string', 'bytes': '36', 'max_size': '0'}\n",
      "column {'name': 'NUMTRADES', 'type': 'double'}\n",
      "column {'name': 'VALUE', 'type': 'double'}\n",
      "column {'name': 'OPEN', 'type': 'double'}\n",
      "column {'name': 'LOW', 'type': 'double'}\n",
      "column {'name': 'HIGH', 'type': 'double'}\n",
      "column {'name': 'LEGALCLOSEPRICE', 'type': 'double'}\n",
      "column {'name': 'WAPRICE', 'type': 'double'}\n",
      "column {'name': 'CLOSE', 'type': 'double'}\n",
      "column {'name': 'VOLUME', 'type': 'double'}\n",
      "column {'name': 'MARKETPRICE2', 'type': 'double'}\n",
      "column {'name': 'MARKETPRICE3', 'type': 'double'}\n",
      "column {'name': 'ADMITTEDQUOTE', 'type': 'double'}\n",
      "column {'name': 'MP2VALTRD', 'type': 'double'}\n",
      "column {'name': 'MARKETPRICE3TRADESVALUE', 'type': 'double'}\n",
      "column {'name': 'ADMITTEDVALUE', 'type': 'double'}\n",
      "column {'name': 'WAVAL', 'type': 'double'}\n",
      "column {'name': 'TRADINGSESSION', 'type': 'int32'}\n",
      "rows {}\n",
      "row {'BOARDID': 'TQBR', 'TRADEDATE': '2013-12-20', 'SHORTNAME': 'Аэрофлот', 'SECID': 'AFLT', 'NUMTRADES': '7409', 'VALUE': '486422167', 'OPEN': '78.05', 'LOW': '76.1', 'HIGH': '80.3', 'LEGALCLOSEPRICE': '79.62', 'WAPRICE': '78.32', 'CLOSE': '79.23', 'VOLUME': '6211000', 'MARKETPRICE2': '78.32', 'MARKETPRICE3': '78.32', 'ADMITTEDQUOTE': '78.32', 'MP2VALTRD': '486375337', 'MARKETPRICE3TRADESVALUE': '486375337', 'ADMITTEDVALUE': '486375337', 'WAVAL': '', 'TRADINGSESSION': '3'}\n",
      "row {'BOARDID': 'TQBR', 'TRADEDATE': '2013-12-20', 'SHORTNAME': 'АЛРОСА ао', 'SECID': 'ALRS', 'NUMTRADES': '572', 'VALUE': '29721623.2', 'OPEN': '34.29', 'LOW': '34.155', 'HIGH': '34.635', 'LEGALCLOSEPRICE': '34.63', 'WAPRICE': '34.492', 'CLOSE': '34.63', 'VOLUME': '861700', 'MARKETPRICE2': '34.492', 'MARKETPRICE3': '34.492', 'ADMITTEDQUOTE': '34.492', 'MP2VALTRD': '29721623.2', 'MARKETPRICE3TRADESVALUE': '29721623.2', 'ADMITTEDVALUE': '29721623.2', 'WAVAL': '', 'TRADINGSESSION': '3'}\n",
      "row {'BOARDID': 'TQBR', 'TRADEDATE': '2013-12-20', 'SHORTNAME': 'ДИКСИ ао', 'SECID': 'DIXY', 'NUMTRADES': '310', 'VALUE': '25604142.8', 'OPEN': '415', 'LOW': '408.25', 'HIGH': '417.96', 'LEGALCLOSEPRICE': '413.21', 'WAPRICE': '414.71', 'CLOSE': '414.85', 'VOLUME': '61740', 'MARKETPRICE2': '414.71', 'MARKETPRICE3': '414.71', 'ADMITTEDQUOTE': '414.71', 'MP2VALTRD': '25604142.8', 'MARKETPRICE3TRADESVALUE': '25604142.8', 'ADMITTEDVALUE': '25604142.8', 'WAVAL': '', 'TRADINGSESSION': '3'}\n",
      "row {'BOARDID': 'TQBR', 'TRADEDATE': '2013-12-20', 'SHORTNAME': 'FXDE ETF', 'SECID': 'FXDE', 'NUMTRADES': '0', 'VALUE': '0', 'OPEN': '', 'LOW': '', 'HIGH': '', 'LEGALCLOSEPRICE': '1078.7', 'WAPRICE': '', 'CLOSE': '', 'VOLUME': '0', 'MARKETPRICE2': '', 'MARKETPRICE3': '', 'ADMITTEDQUOTE': '', 'MP2VALTRD': '0', 'MARKETPRICE3TRADESVALUE': '0', 'ADMITTEDVALUE': '0', 'WAVAL': '4809.18', 'TRADINGSESSION': '3'}\n",
      "row {'BOARDID': 'TQBR', 'TRADEDATE': '2013-12-20', 'SHORTNAME': 'iFXIT ETF', 'SECID': 'FXIT', 'NUMTRADES': '0', 'VALUE': '0', 'OPEN': '', 'LOW': '', 'HIGH': '', 'LEGALCLOSEPRICE': '1059.3', 'WAPRICE': '', 'CLOSE': '', 'VOLUME': '0', 'MARKETPRICE2': '', 'MARKETPRICE3': '', 'ADMITTEDQUOTE': '', 'MP2VALTRD': '0', 'MARKETPRICE3TRADESVALUE': '0', 'ADMITTEDVALUE': '0', 'WAVAL': '2142.16', 'TRADINGSESSION': '3'}\n",
      "row {'BOARDID': 'TQBR', 'TRADEDATE': '2013-12-20', 'SHORTNAME': 'FXJP ETF', 'SECID': 'FXJP', 'NUMTRADES': '0', 'VALUE': '0', 'OPEN': '', 'LOW': '', 'HIGH': '', 'LEGALCLOSEPRICE': '960.5', 'WAPRICE': '', 'CLOSE': '', 'VOLUME': '0', 'MARKETPRICE2': '', 'MARKETPRICE3': '', 'ADMITTEDQUOTE': '', 'MP2VALTRD': '0', 'MARKETPRICE3TRADESVALUE': '0', 'ADMITTEDVALUE': '0', 'WAVAL': '1964.59', 'TRADINGSESSION': '3'}\n",
      "row {'BOARDID': 'TQBR', 'TRADEDATE': '2013-12-20', 'SHORTNAME': 'FXRB ETF', 'SECID': 'FXRB', 'NUMTRADES': '0', 'VALUE': '0', 'OPEN': '', 'LOW': '', 'HIGH': '', 'LEGALCLOSEPRICE': '1016', 'WAPRICE': '', 'CLOSE': '', 'VOLUME': '0', 'MARKETPRICE2': '1018', 'MARKETPRICE3': '1018', 'ADMITTEDQUOTE': '1018', 'MP2VALTRD': '14456616', 'MARKETPRICE3TRADESVALUE': '7127016', 'ADMITTEDVALUE': '14456616', 'WAVAL': '2391310.35', 'TRADINGSESSION': '3'}\n",
      "row {'BOARDID': 'TQBR', 'TRADEDATE': '2013-12-20', 'SHORTNAME': 'FXRU ETF', 'SECID': 'FXRU', 'NUMTRADES': '0', 'VALUE': '0', 'OPEN': '', 'LOW': '', 'HIGH': '', 'LEGALCLOSEPRICE': '3334.8', 'WAPRICE': '', 'CLOSE': '', 'VOLUME': '0', 'MARKETPRICE2': '', 'MARKETPRICE3': '', 'ADMITTEDQUOTE': '', 'MP2VALTRD': '0', 'MARKETPRICE3TRADESVALUE': '0', 'ADMITTEDVALUE': '0', 'WAVAL': '', 'TRADINGSESSION': '3'}\n",
      "row {'BOARDID': 'TQBR', 'TRADEDATE': '2013-12-20', 'SHORTNAME': 'FXUK ETF', 'SECID': 'FXUK', 'NUMTRADES': '0', 'VALUE': '0', 'OPEN': '', 'LOW': '', 'HIGH': '', 'LEGALCLOSEPRICE': '1034.5', 'WAPRICE': '', 'CLOSE': '', 'VOLUME': '0', 'MARKETPRICE2': '', 'MARKETPRICE3': '', 'ADMITTEDQUOTE': '', 'MP2VALTRD': '0', 'MARKETPRICE3TRADESVALUE': '0', 'ADMITTEDVALUE': '0', 'WAVAL': '2548.54', 'TRADINGSESSION': '3'}\n",
      "row {'BOARDID': 'TQBR', 'TRADEDATE': '2013-12-20', 'SHORTNAME': 'ЧеркизГ-ао', 'SECID': 'GCHE', 'NUMTRADES': '45', 'VALUE': '473901.9', 'OPEN': '589.3', 'LOW': '570', 'HIGH': '590', 'LEGALCLOSEPRICE': '582', 'WAPRICE': '583.6', 'CLOSE': '582', 'VOLUME': '812', 'MARKETPRICE2': '', 'MARKETPRICE3': '583', 'ADMITTEDQUOTE': '', 'MP2VALTRD': '0', 'MARKETPRICE3TRADESVALUE': '762597.8', 'ADMITTEDVALUE': '0', 'WAVAL': '', 'TRADINGSESSION': '3'}\n",
      "row {'BOARDID': 'TQBR', 'TRADEDATE': '2013-12-20', 'SHORTNAME': 'РусГидро', 'SECID': 'HYDR', 'NUMTRADES': '9979', 'VALUE': '389818203.3', 'OPEN': '0.587', 'LOW': '0.584', 'HIGH': '0.5932', 'LEGALCLOSEPRICE': '0.589', 'WAPRICE': '0.5883', 'CLOSE': '0.5885', 'VOLUME': '662632000', 'MARKETPRICE2': '0.5883', 'MARKETPRICE3': '0.5883', 'ADMITTEDQUOTE': '0.5883', 'MP2VALTRD': '389430055.2', 'MARKETPRICE3TRADESVALUE': '389430055.2', 'ADMITTEDVALUE': '389430055.2', 'WAVAL': '', 'TRADINGSESSION': '3'}\n",
      "row {'BOARDID': 'TQBR', 'TRADEDATE': '2013-12-20', 'SHORTNAME': 'ИнтерРАОао', 'SECID': 'IRAO', 'NUMTRADES': '11893', 'VALUE': '625248746.1', 'OPEN': '0.0098', 'LOW': '0.009564', 'HIGH': '0.01005', 'LEGALCLOSEPRICE': '0.01', 'WAPRICE': '0.009829', 'CLOSE': '0.01', 'VOLUME': '63615300000', 'MARKETPRICE2': '0.009829', 'MARKETPRICE3': '0.009829', 'ADMITTEDQUOTE': '0.009829', 'MP2VALTRD': '624969446.1', 'MARKETPRICE3TRADESVALUE': '624969446.1', 'ADMITTEDVALUE': '624969446.1', 'WAVAL': '', 'TRADINGSESSION': '3'}\n",
      "row {'BOARDID': 'TQBR', 'TRADEDATE': '2013-12-20', 'SHORTNAME': 'ЛУКОЙЛ', 'SECID': 'LKOH', 'NUMTRADES': '16083', 'VALUE': '1657322660.2', 'OPEN': '2037.6', 'LOW': '2019.3', 'HIGH': '2040.1', 'LEGALCLOSEPRICE': '2027', 'WAPRICE': '2028.7', 'CLOSE': '2033', 'VOLUME': '816947', 'MARKETPRICE2': '2028.7', 'MARKETPRICE3': '2028.7', 'ADMITTEDQUOTE': '2028.7', 'MP2VALTRD': '1657306359.4', 'MARKETPRICE3TRADESVALUE': '1657306359.4', 'ADMITTEDVALUE': '1657306359.4', 'WAVAL': '', 'TRADINGSESSION': '3'}\n",
      "row {'BOARDID': 'TQBR', 'TRADEDATE': '2013-12-20', 'SHORTNAME': 'ЛСР ао', 'SECID': 'LSRG', 'NUMTRADES': '359', 'VALUE': '7511237.5', 'OPEN': '587.8', 'LOW': '577.9', 'HIGH': '587.8', 'LEGALCLOSEPRICE': '582.7', 'WAPRICE': '582.2', 'CLOSE': '577.9', 'VOLUME': '12901', 'MARKETPRICE2': '582.2', 'MARKETPRICE3': '582.2', 'ADMITTEDQUOTE': '582.2', 'MP2VALTRD': '7511237.5', 'MARKETPRICE3TRADESVALUE': '7511237.5', 'ADMITTEDVALUE': '7511237.5', 'WAVAL': '', 'TRADINGSESSION': '3'}\n",
      "row {'BOARDID': 'TQBR', 'TRADEDATE': '2013-12-20', 'SHORTNAME': 'Магнит ао', 'SECID': 'MGNT', 'NUMTRADES': '13441', 'VALUE': '1341924653', 'OPEN': '9123.3', 'LOW': '8928', 'HIGH': '9140', 'LEGALCLOSEPRICE': '8999.8', 'WAPRICE': '9017.6', 'CLOSE': '8960', 'VOLUME': '148811', 'MARKETPRICE2': '9017.6', 'MARKETPRICE3': '9017.6', 'ADMITTEDQUOTE': '9017.6', 'MP2VALTRD': '1341897283.1', 'MARKETPRICE3TRADESVALUE': '1341897283.1', 'ADMITTEDVALUE': '1341897283.1', 'WAVAL': '', 'TRADINGSESSION': '3'}\n",
      "row {'BOARDID': 'TQBR', 'TRADEDATE': '2013-12-20', 'SHORTNAME': 'МосБиржа', 'SECID': 'MOEX', 'NUMTRADES': '2492', 'VALUE': '241325809', 'OPEN': '62.37', 'LOW': '62.36', 'HIGH': '63.8', 'LEGALCLOSEPRICE': '63.8', 'WAPRICE': '63.26', 'CLOSE': '63.09', 'VOLUME': '3814910', 'MARKETPRICE2': '63.26', 'MARKETPRICE3': '63.26', 'ADMITTEDQUOTE': '63.26', 'MP2VALTRD': '241325809', 'MARKETPRICE3TRADESVALUE': '241325809', 'ADMITTEDVALUE': '241325809', 'WAVAL': '', 'TRADINGSESSION': '3'}\n",
      "row {'BOARDID': 'TQBR', 'TRADEDATE': '2013-12-20', 'SHORTNAME': 'МРСК Центр', 'SECID': 'MRKC', 'NUMTRADES': '174', 'VALUE': '2045137', 'OPEN': '0.2158', 'LOW': '0.21', 'HIGH': '0.2168', 'LEGALCLOSEPRICE': '0.2129', 'WAPRICE': '0.2138', 'CLOSE': '0.21', 'VOLUME': '9564000', 'MARKETPRICE2': '0.2138', 'MARKETPRICE3': '0.2138', 'ADMITTEDQUOTE': '0.2138', 'MP2VALTRD': '2045137', 'MARKETPRICE3TRADESVALUE': '2045137', 'ADMITTEDVALUE': '2045137', 'WAVAL': '', 'TRADINGSESSION': '3'}\n",
      "row {'BOARDID': 'TQBR', 'TRADEDATE': '2013-12-20', 'SHORTNAME': 'МРСК ЦП', 'SECID': 'MRKP', 'NUMTRADES': '56', 'VALUE': '1492188.6', 'OPEN': '0.0647', 'LOW': '0.0647', 'HIGH': '0.068', 'LEGALCLOSEPRICE': '0.06617', 'WAPRICE': '0.06614', 'CLOSE': '0.067', 'VOLUME': '22560000', 'MARKETPRICE2': '0.06615', 'MARKETPRICE3': '0.06615', 'ADMITTEDQUOTE': '0.06615', 'MP2VALTRD': '1489600.6', 'MARKETPRICE3TRADESVALUE': '1489600.6', 'ADMITTEDVALUE': '1489600.6', 'WAVAL': '', 'TRADINGSESSION': '3'}\n",
      "row {'BOARDID': 'TQBR', 'TRADEDATE': '2013-12-20', 'SHORTNAME': '+МосЭнерго', 'SECID': 'MSNG', 'NUMTRADES': '634', 'VALUE': '25346986.4', 'OPEN': '0.8425', 'LOW': '0.8425', 'HIGH': '0.8788', 'LEGALCLOSEPRICE': '0.8755', 'WAPRICE': '0.8672', 'CLOSE': '0.878', 'VOLUME': '29227000', 'MARKETPRICE2': '0.8672', 'MARKETPRICE3': '0.8672', 'ADMITTEDQUOTE': '0.8672', 'MP2VALTRD': '25346143.9', 'MARKETPRICE3TRADESVALUE': '25346143.9', 'ADMITTEDVALUE': '25346143.9', 'WAVAL': '', 'TRADINGSESSION': '3'}\n",
      "row {'BOARDID': 'TQBR', 'TRADEDATE': '2013-12-20', 'SHORTNAME': 'РСетиМР ао', 'SECID': 'MSRS', 'NUMTRADES': '283', 'VALUE': '7696546.1', 'OPEN': '1.3331', 'LOW': '1.333', 'HIGH': '1.376', 'LEGALCLOSEPRICE': '1.3692', 'WAPRICE': '1.3685', 'CLOSE': '1.3533', 'VOLUME': '5624000', 'MARKETPRICE2': '1.3685', 'MARKETPRICE3': '1.3685', 'ADMITTEDQUOTE': '1.3685', 'MP2VALTRD': '7696546.1', 'MARKETPRICE3TRADESVALUE': '7696546.1', 'ADMITTEDVALUE': '7696546.1', 'WAVAL': '', 'TRADINGSESSION': '3'}\n",
      "row {'BOARDID': 'TQBR', 'TRADEDATE': '2013-12-20', 'SHORTNAME': 'Мечел ао', 'SECID': 'MTLR', 'NUMTRADES': '2909', 'VALUE': '111505810.8', 'OPEN': '66.4', 'LOW': '65.3', 'HIGH': '66.9', 'LEGALCLOSEPRICE': '66.9', 'WAPRICE': '66.3', 'CLOSE': '66.9', 'VOLUME': '1682356', 'MARKETPRICE2': '66.3', 'MARKETPRICE3': '66.3', 'ADMITTEDQUOTE': '66.3', 'MP2VALTRD': '111475864.4', 'MARKETPRICE3TRADESVALUE': '111475864.4', 'ADMITTEDVALUE': '111475864.4', 'WAVAL': '', 'TRADINGSESSION': '3'}\n",
      "row {'BOARDID': 'TQBR', 'TRADEDATE': '2013-12-20', 'SHORTNAME': 'Мечел ап', 'SECID': 'MTLRP', 'NUMTRADES': '1119', 'VALUE': '5584224.6', 'OPEN': '37.31', 'LOW': '35.6', 'HIGH': '38.41', 'LEGALCLOSEPRICE': '36.25', 'WAPRICE': '37.12', 'CLOSE': '36.5', 'VOLUME': '150440', 'MARKETPRICE2': '37.12', 'MARKETPRICE3': '37.12', 'ADMITTEDQUOTE': '37.12', 'MP2VALTRD': '5584224.6', 'MARKETPRICE3TRADESVALUE': '5584224.6', 'ADMITTEDVALUE': '5584224.6', 'WAVAL': '', 'TRADINGSESSION': '3'}\n",
      "row {'BOARDID': 'TQBR', 'TRADEDATE': '2013-12-20', 'SHORTNAME': 'МТС-ао', 'SECID': 'MTSS', 'NUMTRADES': '6229', 'VALUE': '454077570', 'OPEN': '324.18', 'LOW': '322.12', 'HIGH': '325.5', 'LEGALCLOSEPRICE': '324.2', 'WAPRICE': '324.03', 'CLOSE': '324.2', 'VOLUME': '1401360', 'MARKETPRICE2': '324.03', 'MARKETPRICE3': '324.03', 'ADMITTEDQUOTE': '324.03', 'MP2VALTRD': '453967348.8', 'MARKETPRICE3TRADESVALUE': '453967348.8', 'ADMITTEDVALUE': '453967348.8', 'WAVAL': '', 'TRADINGSESSION': '3'}\n",
      "row {'BOARDID': 'TQBR', 'TRADEDATE': '2013-12-20', 'SHORTNAME': 'ОткрФКБ ао', 'SECID': 'NMOS', 'NUMTRADES': '11', 'VALUE': '3794212.1', 'OPEN': '957', 'LOW': '952', 'HIGH': '982', 'LEGALCLOSEPRICE': '956.9', 'WAPRICE': '959.1', 'CLOSE': '953', 'VOLUME': '3956', 'MARKETPRICE2': '959.1', 'MARKETPRICE3': '959.1', 'ADMITTEDQUOTE': '959.1', 'MP2VALTRD': '3794212.1', 'MARKETPRICE3TRADESVALUE': '3794212.1', 'ADMITTEDVALUE': '3794212.1', 'WAVAL': '', 'TRADINGSESSION': '3'}\n",
      "row {'BOARDID': 'TQBR', 'TRADEDATE': '2013-12-20', 'SHORTNAME': 'Новатэк ао', 'SECID': 'NVTK', 'NUMTRADES': '5127', 'VALUE': '512940218.6', 'OPEN': '401.5', 'LOW': '398', 'HIGH': '403.22', 'LEGALCLOSEPRICE': '399.27', 'WAPRICE': '401.34', 'CLOSE': '399.3', 'VOLUME': '1278080', 'MARKETPRICE2': '401.35', 'MARKETPRICE3': '401.35', 'ADMITTEDQUOTE': '401.35', 'MP2VALTRD': '515221140.14', 'MARKETPRICE3TRADESVALUE': '515221140.14', 'ADMITTEDVALUE': '515221140.14', 'WAVAL': '', 'TRADINGSESSION': '3'}\n",
      "row {'BOARDID': 'TQBR', 'TRADEDATE': '2013-12-20', 'SHORTNAME': 'ЭнелРос ао', 'SECID': 'OGKE', 'NUMTRADES': '278', 'VALUE': '4057663.6', 'OPEN': '1.1112', 'LOW': '1.0998', 'HIGH': '1.1484', 'LEGALCLOSEPRICE': '1.1417', 'WAPRICE': '1.1197', 'CLOSE': '1.14', 'VOLUME': '3624000', 'MARKETPRICE2': '1.1197', 'MARKETPRICE3': '1.1197', 'ADMITTEDQUOTE': '1.1197', 'MP2VALTRD': '4057663.6', 'MARKETPRICE3TRADESVALUE': '4057663.6', 'ADMITTEDVALUE': '4057663.6', 'WAVAL': '', 'TRADINGSESSION': '3'}\n",
      "row {'BOARDID': 'TQBR', 'TRADEDATE': '2013-12-20', 'SHORTNAME': 'ФосАгро ао', 'SECID': 'PHOR', 'NUMTRADES': '426', 'VALUE': '15020917.8', 'OPEN': '964.8', 'LOW': '962.1', 'HIGH': '980', 'LEGALCLOSEPRICE': '973.8', 'WAPRICE': '970.6', 'CLOSE': '966.6', 'VOLUME': '15476', 'MARKETPRICE2': '970.6', 'MARKETPRICE3': '970.6', 'ADMITTEDQUOTE': '970.6', 'MP2VALTRD': '15020917.8', 'MARKETPRICE3TRADESVALUE': '15020917.8', 'ADMITTEDVALUE': '15020917.8', 'WAVAL': '', 'TRADINGSESSION': '3'}\n",
      "row {'BOARDID': 'TQBR', 'TRADEDATE': '2013-12-20', 'SHORTNAME': 'ПИК ао', 'SECID': 'PIKK', 'NUMTRADES': '540', 'VALUE': '15478172.9', 'OPEN': '71.3', 'LOW': '69.7', 'HIGH': '71.31', 'LEGALCLOSEPRICE': '70.43', 'WAPRICE': '70.55', 'CLOSE': '70.4', 'VOLUME': '219380', 'MARKETPRICE2': '70.55', 'MARKETPRICE3': '70.55', 'ADMITTEDQUOTE': '70.55', 'MP2VALTRD': '15478172.9', 'MARKETPRICE3TRADESVALUE': '15478172.9', 'ADMITTEDVALUE': '15478172.9', 'WAVAL': '', 'TRADINGSESSION': '3'}\n",
      "row {'BOARDID': 'TQBR', 'TRADEDATE': '2013-12-20', 'SHORTNAME': 'Polymetal', 'SECID': 'POLY', 'NUMTRADES': '2701', 'VALUE': '77120073.45', 'OPEN': '276.5', 'LOW': '255.21', 'HIGH': '276.8', 'LEGALCLOSEPRICE': '261', 'WAPRICE': '262.76', 'CLOSE': '261', 'VOLUME': '293499', 'MARKETPRICE2': '262.76', 'MARKETPRICE3': '262.76', 'ADMITTEDQUOTE': '262.76', 'MP2VALTRD': '77120073.45', 'MARKETPRICE3TRADESVALUE': '77120073.45', 'ADMITTEDVALUE': '77120073.45', 'WAVAL': '', 'TRADINGSESSION': '3'}\n",
      "row {'BOARDID': 'TQBR', 'TRADEDATE': '2013-12-20', 'SHORTNAME': 'Ростел -ао', 'SECID': 'RTKM', 'NUMTRADES': '11584', 'VALUE': '452739891.2', 'OPEN': '112.4', 'LOW': '111.05', 'HIGH': '112.98', 'LEGALCLOSEPRICE': '111.05', 'WAPRICE': '111.8', 'CLOSE': '111.6', 'VOLUME': '4049410', 'MARKETPRICE2': '111.8', 'MARKETPRICE3': '111.8', 'ADMITTEDQUOTE': '111.8', 'MP2VALTRD': '452611755.2', 'MARKETPRICE3TRADESVALUE': '452611755.2', 'ADMITTEDVALUE': '452611755.2', 'WAVAL': '', 'TRADINGSESSION': '3'}\n",
      "row {'BOARDID': 'TQBR', 'TRADEDATE': '2013-12-20', 'SHORTNAME': 'Ростел -ап', 'SECID': 'RTKMP', 'NUMTRADES': '309', 'VALUE': '16359617', 'OPEN': '73.37', 'LOW': '73.2', 'HIGH': '73.95', 'LEGALCLOSEPRICE': '73.4', 'WAPRICE': '73.43', 'CLOSE': '73.2', 'VOLUME': '222800', 'MARKETPRICE2': '73.43', 'MARKETPRICE3': '73.43', 'ADMITTEDQUOTE': '73.43', 'MP2VALTRD': '16344943', 'MARKETPRICE3TRADESVALUE': '16344943', 'ADMITTEDVALUE': '16344943', 'WAVAL': '', 'TRADINGSESSION': '3'}\n",
      "row {'BOARDID': 'TQBR', 'TRADEDATE': '2013-12-20', 'SHORTNAME': 'СолИнММВБ', 'SECID': 'RU000A0ERNM8', 'NUMTRADES': '0', 'VALUE': '0', 'OPEN': '', 'LOW': '', 'HIGH': '', 'LEGALCLOSEPRICE': '139790', 'WAPRICE': '', 'CLOSE': '', 'VOLUME': '0', 'MARKETPRICE2': '', 'MARKETPRICE3': '', 'ADMITTEDQUOTE': '', 'MP2VALTRD': '0', 'MARKETPRICE3TRADESVALUE': '0', 'ADMITTEDVALUE': '0', 'WAVAL': '', 'TRADINGSESSION': '3'}\n",
      "row {'BOARDID': 'TQBR', 'TRADEDATE': '2013-12-20', 'SHORTNAME': 'ЗПИФ КапВл', 'SECID': 'RU000A0JNUM1', 'NUMTRADES': '21', 'VALUE': '351816', 'OPEN': '166.5', 'LOW': '166.5', 'HIGH': '168.55', 'LEGALCLOSEPRICE': '168.55', 'WAPRICE': '167.53', 'CLOSE': '168.55', 'VOLUME': '2100', 'MARKETPRICE2': '', 'MARKETPRICE3': '167.57', 'ADMITTEDQUOTE': '', 'MP2VALTRD': '0', 'MARKETPRICE3TRADESVALUE': '502716', 'ADMITTEDVALUE': '0', 'WAVAL': '', 'TRADINGSESSION': '3'}\n",
      "row {'BOARDID': 'TQBR', 'TRADEDATE': '2013-12-20', 'SHORTNAME': 'iЗПИФФинИТ', 'SECID': 'RU000A0JNUN9', 'NUMTRADES': '0', 'VALUE': '0', 'OPEN': '', 'LOW': '', 'HIGH': '', 'LEGALCLOSEPRICE': '579', 'WAPRICE': '', 'CLOSE': '', 'VOLUME': '0', 'MARKETPRICE2': '', 'MARKETPRICE3': '596.93', 'ADMITTEDQUOTE': '', 'MP2VALTRD': '0', 'MARKETPRICE3TRADESVALUE': '10744700.1', 'ADMITTEDVALUE': '0', 'WAVAL': '', 'TRADINGSESSION': '3'}\n",
      "row {'BOARDID': 'TQBR', 'TRADEDATE': '2013-12-20', 'SHORTNAME': 'ПИФ ПФН', 'SECID': 'RU000A0JPCY9', 'NUMTRADES': '0', 'VALUE': '0', 'OPEN': '', 'LOW': '', 'HIGH': '', 'LEGALCLOSEPRICE': '491900', 'WAPRICE': '', 'CLOSE': '', 'VOLUME': '0', 'MARKETPRICE2': '', 'MARKETPRICE3': '', 'ADMITTEDQUOTE': '', 'MP2VALTRD': '0', 'MARKETPRICE3TRADESVALUE': '0', 'ADMITTEDVALUE': '0', 'WAVAL': '', 'TRADINGSESSION': '3'}\n",
      "row {'BOARDID': 'TQBR', 'TRADEDATE': '2013-12-20', 'SHORTNAME': 'Агрокап.ип', 'SECID': 'RU000A0JQD06', 'NUMTRADES': '0', 'VALUE': '0', 'OPEN': '', 'LOW': '', 'HIGH': '', 'LEGALCLOSEPRICE': '2439', 'WAPRICE': '', 'CLOSE': '', 'VOLUME': '0', 'MARKETPRICE2': '2434.2', 'MARKETPRICE3': '2441.6', 'ADMITTEDQUOTE': '2434.2', 'MP2VALTRD': '5077765.8', 'MARKETPRICE3TRADESVALUE': '4477885.9', 'ADMITTEDVALUE': '5077765.8', 'WAVAL': '', 'TRADINGSESSION': '3'}\n",
      "row {'BOARDID': 'TQBR', 'TRADEDATE': '2013-12-20', 'SHORTNAME': 'ПИФ-Рент', 'SECID': 'RU000A0JQY19', 'NUMTRADES': '4', 'VALUE': '95367880', 'OPEN': '92070', 'LOW': '89520', 'HIGH': '93270', 'LEGALCLOSEPRICE': '89520', 'WAPRICE': '90050', 'CLOSE': '89520', 'VOLUME': '1059', 'MARKETPRICE2': '87770', 'MARKETPRICE3': '87770', 'ADMITTEDQUOTE': '87770', 'MP2VALTRD': '296561740', 'MARKETPRICE3TRADESVALUE': '296137120', 'ADMITTEDVALUE': '296561740', 'WAVAL': '', 'TRADINGSESSION': '3'}\n",
      "row {'BOARDID': 'TQBR', 'TRADEDATE': '2013-12-20', 'SHORTNAME': 'ВАбхазии', 'SECID': 'RU000A0JR1E9', 'NUMTRADES': '0', 'VALUE': '0', 'OPEN': '', 'LOW': '', 'HIGH': '', 'LEGALCLOSEPRICE': '1329', 'WAPRICE': '', 'CLOSE': '', 'VOLUME': '0', 'MARKETPRICE2': '', 'MARKETPRICE3': '1328.3', 'ADMITTEDQUOTE': '', 'MP2VALTRD': '0', 'MARKETPRICE3TRADESVALUE': '3129375', 'ADMITTEDVALUE': '0', 'WAVAL': '', 'TRADINGSESSION': '3'}\n",
      "row {'BOARDID': 'TQBR', 'TRADEDATE': '2013-12-20', 'SHORTNAME': 'ИСУ-1', 'SECID': 'RU000A0JTX17', 'NUMTRADES': '0', 'VALUE': '0', 'OPEN': '', 'LOW': '', 'HIGH': '', 'LEGALCLOSEPRICE': '', 'WAPRICE': '', 'CLOSE': '', 'VOLUME': '0', 'MARKETPRICE2': '', 'MARKETPRICE3': '', 'ADMITTEDQUOTE': '', 'MP2VALTRD': '0', 'MARKETPRICE3TRADESVALUE': '0', 'ADMITTEDVALUE': '0', 'WAVAL': '', 'TRADINGSESSION': '3'}\n",
      "row {'BOARDID': 'TQBR', 'TRADEDATE': '2013-12-20', 'SHORTNAME': 'ИСУ-2', 'SECID': 'RU000A0JTXM2', 'NUMTRADES': '0', 'VALUE': '0', 'OPEN': '', 'LOW': '', 'HIGH': '', 'LEGALCLOSEPRICE': '1148200', 'WAPRICE': '', 'CLOSE': '', 'VOLUME': '0', 'MARKETPRICE2': '', 'MARKETPRICE3': '', 'ADMITTEDQUOTE': '', 'MP2VALTRD': '0', 'MARKETPRICE3TRADESVALUE': '0', 'ADMITTEDVALUE': '0', 'WAVAL': '', 'TRADINGSESSION': '3'}\n",
      "row {'BOARDID': 'TQBR', 'TRADEDATE': '2013-12-20', 'SHORTNAME': 'ИСУ ЕФГ-1', 'SECID': 'RU000A0JUA37', 'NUMTRADES': '0', 'VALUE': '0', 'OPEN': '', 'LOW': '', 'HIGH': '', 'LEGALCLOSEPRICE': '', 'WAPRICE': '', 'CLOSE': '', 'VOLUME': '0', 'MARKETPRICE2': '', 'MARKETPRICE3': '', 'ADMITTEDQUOTE': '', 'MP2VALTRD': '0', 'MARKETPRICE3TRADESVALUE': '0', 'ADMITTEDVALUE': '0', 'WAVAL': '', 'TRADINGSESSION': '3'}\n",
      "row {'BOARDID': 'TQBR', 'TRADEDATE': '2013-12-20', 'SHORTNAME': 'Русал рдр', 'SECID': 'RUALR', 'NUMTRADES': '524', 'VALUE': '10658161.9', 'OPEN': '98.22', 'LOW': '94', 'HIGH': '99.5', 'LEGALCLOSEPRICE': '94', 'WAPRICE': '97.19', 'CLOSE': '94.85', 'VOLUME': '109660', 'MARKETPRICE2': '97.19', 'MARKETPRICE3': '97.19', 'ADMITTEDQUOTE': '97.19', 'MP2VALTRD': '10658161.9', 'MARKETPRICE3TRADESVALUE': '10658161.9', 'ADMITTEDVALUE': '10658161.9', 'WAVAL': '', 'TRADINGSESSION': '3'}\n",
      "row {'BOARDID': 'TQBR', 'TRADEDATE': '2013-12-20', 'SHORTNAME': 'Сбербанк', 'SECID': 'SBER', 'NUMTRADES': '37659', 'VALUE': '7701798327.7', 'OPEN': '101.85', 'LOW': '101.31', 'HIGH': '102.25', 'LEGALCLOSEPRICE': '102.2', 'WAPRICE': '101.81', 'CLOSE': '102.2', 'VOLUME': '75647410', 'MARKETPRICE2': '101.81', 'MARKETPRICE3': '101.81', 'ADMITTEDQUOTE': '101.81', 'MP2VALTRD': '7704984088.18', 'MARKETPRICE3TRADESVALUE': '7704984088.18', 'ADMITTEDVALUE': '7704984088.18', 'WAVAL': '', 'TRADINGSESSION': '3'}\n",
      "row {'BOARDID': 'TQBR', 'TRADEDATE': '2013-12-20', 'SHORTNAME': 'Сбербанк-п', 'SECID': 'SBERP', 'NUMTRADES': '9074', 'VALUE': '1064851917', 'OPEN': '80.06', 'LOW': '79.55', 'HIGH': '81.16', 'LEGALCLOSEPRICE': '80.59', 'WAPRICE': '80.11', 'CLOSE': '80.57', 'VOLUME': '13292200', 'MARKETPRICE2': '80.11', 'MARKETPRICE3': '80.11', 'ADMITTEDQUOTE': '80.11', 'MP2VALTRD': '1064606434.44', 'MARKETPRICE3TRADESVALUE': '1064606434.44', 'ADMITTEDVALUE': '1064606434.44', 'WAVAL': '', 'TRADINGSESSION': '3'}\n",
      "row {'BOARDID': 'TQBR', 'TRADEDATE': '2013-12-20', 'SHORTNAME': 'Селигдар-п', 'SECID': 'SELGP', 'NUMTRADES': '9', 'VALUE': '58516920', 'OPEN': '27.72', 'LOW': '27.72', 'HIGH': '27.72', 'LEGALCLOSEPRICE': '27.72', 'WAPRICE': '27.72', 'CLOSE': '27.72', 'VOLUME': '2111000', 'MARKETPRICE2': '27.786', 'MARKETPRICE3': '27.788', 'ADMITTEDQUOTE': '27.786', 'MP2VALTRD': '89135960', 'MARKETPRICE3TRADESVALUE': '88865960', 'ADMITTEDVALUE': '89135960', 'WAVAL': '', 'TRADINGSESSION': '3'}\n",
      "row {'BOARDID': 'TQBR', 'TRADEDATE': '2013-12-20', 'SHORTNAME': 'Татнфт 3ао', 'SECID': 'TATN', 'NUMTRADES': '5042', 'VALUE': '276473484.8', 'OPEN': '209.02', 'LOW': '206.25', 'HIGH': '209.43', 'LEGALCLOSEPRICE': '207.94', 'WAPRICE': '207.79', 'CLOSE': '207.93', 'VOLUME': '1330550', 'MARKETPRICE2': '207.79', 'MARKETPRICE3': '207.79', 'ADMITTEDQUOTE': '207.79', 'MP2VALTRD': '276237293', 'MARKETPRICE3TRADESVALUE': '276237293', 'ADMITTEDVALUE': '276237293', 'WAVAL': '', 'TRADINGSESSION': '3'}\n",
      "row {'BOARDID': 'TQBR', 'TRADEDATE': '2013-12-20', 'SHORTNAME': 'Татнфт 3ап', 'SECID': 'TATNP', 'NUMTRADES': '1870', 'VALUE': '32799295.2', 'OPEN': '117.09', 'LOW': '116', 'HIGH': '117.75', 'LEGALCLOSEPRICE': '117.35', 'WAPRICE': '116.79', 'CLOSE': '116.67', 'VOLUME': '280850', 'MARKETPRICE2': '116.79', 'MARKETPRICE3': '116.79', 'ADMITTEDQUOTE': '116.79', 'MP2VALTRD': '32799295.2', 'MARKETPRICE3TRADESVALUE': '32799295.2', 'ADMITTEDVALUE': '32799295.2', 'WAVAL': '', 'TRADINGSESSION': '3'}\n",
      "row {'BOARDID': 'TQBR', 'TRADEDATE': '2013-12-20', 'SHORTNAME': 'ТГК-1', 'SECID': 'TGKA', 'NUMTRADES': '196', 'VALUE': '4413592.5', 'OPEN': '0.006301', 'LOW': '0.00624', 'HIGH': '0.006451', 'LEGALCLOSEPRICE': '0.00645', 'WAPRICE': '0.006363', 'CLOSE': '0.00645', 'VOLUME': '693600000', 'MARKETPRICE2': '0.006363', 'MARKETPRICE3': '0.006363', 'ADMITTEDQUOTE': '0.006363', 'MP2VALTRD': '4413592.5', 'MARKETPRICE3TRADESVALUE': '4413592.5', 'ADMITTEDVALUE': '4413592.5', 'WAVAL': '', 'TRADINGSESSION': '3'}\n",
      "row {'BOARDID': 'TQBR', 'TRADEDATE': '2013-12-20', 'SHORTNAME': 'ТМК ао', 'SECID': 'TRMK', 'NUMTRADES': '497', 'VALUE': '4133835.1', 'OPEN': '95.05', 'LOW': '90.02', 'HIGH': '95.1', 'LEGALCLOSEPRICE': '92.99', 'WAPRICE': '92.96', 'CLOSE': '94.81', 'VOLUME': '44470', 'MARKETPRICE2': '92.96', 'MARKETPRICE3': '92.96', 'ADMITTEDQUOTE': '92.96', 'MP2VALTRD': '4133835.1', 'MARKETPRICE3TRADESVALUE': '4133835.1', 'ADMITTEDVALUE': '4133835.1', 'WAVAL': '', 'TRADINGSESSION': '3'}\n",
      "row {'BOARDID': 'TQBR', 'TRADEDATE': '2013-12-20', 'SHORTNAME': 'Транснф ап', 'SECID': 'TRNFP', 'NUMTRADES': '2716', 'VALUE': '516354366', 'OPEN': '85820', 'LOW': '84502', 'HIGH': '86065', 'LEGALCLOSEPRICE': '85000', 'WAPRICE': '85109', 'CLOSE': '85300', 'VOLUME': '6067', 'MARKETPRICE2': '85119', 'MARKETPRICE3': '85119', 'ADMITTEDQUOTE': '85119', 'MP2VALTRD': '525100566', 'MARKETPRICE3TRADESVALUE': '525100566', 'ADMITTEDVALUE': '525100566', 'WAVAL': '', 'TRADINGSESSION': '3'}\n",
      "row {'BOARDID': 'TQBR', 'TRADEDATE': '2013-12-20', 'SHORTNAME': 'Уркалий-ао', 'SECID': 'URKA', 'NUMTRADES': '16813', 'VALUE': '1392542951.6', 'OPEN': '170.65', 'LOW': '169.03', 'HIGH': '175.99', 'LEGALCLOSEPRICE': '175.4', 'WAPRICE': '172.95', 'CLOSE': '175.44', 'VOLUME': '8051680', 'MARKETPRICE2': '172.95', 'MARKETPRICE3': '172.95', 'ADMITTEDQUOTE': '172.95', 'MP2VALTRD': '1392543201.6', 'MARKETPRICE3TRADESVALUE': '1392543201.6', 'ADMITTEDVALUE': '1392543201.6', 'WAVAL': '', 'TRADINGSESSION': '3'}\n",
      "row {'BOARDID': 'TQBR', 'TRADEDATE': '2013-12-20', 'SHORTNAME': 'ЮТэйр ао', 'SECID': 'UTAR', 'NUMTRADES': '4', 'VALUE': '52050', 'OPEN': '23.65', 'LOW': '23.65', 'HIGH': '23.85', 'LEGALCLOSEPRICE': '23.85', 'WAPRICE': '23.659', 'CLOSE': '23.85', 'VOLUME': '2200', 'MARKETPRICE2': '23.953', 'MARKETPRICE3': '23.988', 'ADMITTEDQUOTE': '23.953', 'MP2VALTRD': '23334570.4', 'MARKETPRICE3TRADESVALUE': '10825723', 'ADMITTEDVALUE': '23334570.4', 'WAVAL': '', 'TRADINGSESSION': '3'}\n",
      "row {'BOARDID': 'TQBR', 'TRADEDATE': '2013-12-20', 'SHORTNAME': 'ВТБ ао', 'SECID': 'VTBR', 'NUMTRADES': '18886', 'VALUE': '3036093696.3', 'OPEN': '0.0478', 'LOW': '0.04757', 'HIGH': '0.04865', 'LEGALCLOSEPRICE': '0.04861', 'WAPRICE': '0.04825', 'CLOSE': '0.04853', 'VOLUME': '62924430000', 'MARKETPRICE2': '0.04825', 'MARKETPRICE3': '0.04825', 'ADMITTEDQUOTE': '0.04825', 'MP2VALTRD': '3041527747.9', 'MARKETPRICE3TRADESVALUE': '3041527747.9', 'ADMITTEDVALUE': '3041527747.9', 'WAVAL': '', 'TRADINGSESSION': '3'}\n",
      "row {'BOARDID': 'TQBR', 'TRADEDATE': '2013-12-20', 'SHORTNAME': 'Возрожд-ао', 'SECID': 'VZRZ', 'NUMTRADES': '48', 'VALUE': '709967.2', 'OPEN': '446.5', 'LOW': '443', 'HIGH': '449.9', 'LEGALCLOSEPRICE': '449.9', 'WAPRICE': '447.1', 'CLOSE': '449.9', 'VOLUME': '1588', 'MARKETPRICE2': '447.1', 'MARKETPRICE3': '447.1', 'ADMITTEDQUOTE': '447.1', 'MP2VALTRD': '709967.2', 'MARKETPRICE3TRADESVALUE': '709967.2', 'ADMITTEDVALUE': '709967.2', 'WAVAL': '', 'TRADINGSESSION': '3'}\n",
      "data {'id': 'history.cursor'}\n",
      "metadata {}\n",
      "columns {}\n",
      "column {'name': 'INDEX', 'type': 'int64'}\n",
      "column {'name': 'TOTAL', 'type': 'int64'}\n",
      "column {'name': 'PAGESIZE', 'type': 'int64'}\n",
      "rows {}\n",
      "row {'INDEX': '0', 'TOTAL': '54', 'PAGESIZE': '100'}\n"
     ]
    }
   ],
   "source": [
    "for child in root.iter(\"*\"):\n",
    "    print(child.tag, child.attrib)"
   ],
   "metadata": {
    "collapsed": false,
    "pycharm": {
     "name": "#%%\n"
    }
   }
  },
  {
   "cell_type": "code",
   "execution_count": 47,
   "outputs": [
    {
     "data": {
      "text/plain": "'document'"
     },
     "execution_count": 47,
     "metadata": {},
     "output_type": "execute_result"
    }
   ],
   "source": [
    "root.tag"
   ],
   "metadata": {
    "collapsed": false,
    "pycharm": {
     "name": "#%%\n"
    }
   }
  },
  {
   "cell_type": "code",
   "execution_count": 48,
   "outputs": [
    {
     "data": {
      "text/plain": "2"
     },
     "execution_count": 48,
     "metadata": {},
     "output_type": "execute_result"
    }
   ],
   "source": [
    "len(root)"
   ],
   "metadata": {
    "collapsed": false,
    "pycharm": {
     "name": "#%%\n"
    }
   }
  },
  {
   "cell_type": "code",
   "execution_count": 49,
   "outputs": [
    {
     "data": {
      "text/plain": "<xml.etree.ElementTree.ElementTree at 0x7f3f4142a690>"
     },
     "execution_count": 49,
     "metadata": {},
     "output_type": "execute_result"
    }
   ],
   "source": [
    "input_file"
   ],
   "metadata": {
    "collapsed": false,
    "pycharm": {
     "name": "#%%\n"
    }
   }
  },
  {
   "cell_type": "code",
   "execution_count": 50,
   "outputs": [
    {
     "name": "stdout",
     "output_type": "stream",
     "text": [
      "column {'name': 'BOARDID', 'type': 'string', 'bytes': '12', 'max_size': '0'}\n",
      "column {'name': 'TRADEDATE', 'type': 'date', 'bytes': '10', 'max_size': '0'}\n",
      "column {'name': 'SHORTNAME', 'type': 'string', 'bytes': '189', 'max_size': '0'}\n",
      "column {'name': 'SECID', 'type': 'string', 'bytes': '36', 'max_size': '0'}\n",
      "column {'name': 'NUMTRADES', 'type': 'double'}\n",
      "column {'name': 'VALUE', 'type': 'double'}\n",
      "column {'name': 'OPEN', 'type': 'double'}\n",
      "column {'name': 'LOW', 'type': 'double'}\n",
      "column {'name': 'HIGH', 'type': 'double'}\n",
      "column {'name': 'LEGALCLOSEPRICE', 'type': 'double'}\n",
      "column {'name': 'WAPRICE', 'type': 'double'}\n",
      "column {'name': 'CLOSE', 'type': 'double'}\n",
      "column {'name': 'VOLUME', 'type': 'double'}\n",
      "column {'name': 'MARKETPRICE2', 'type': 'double'}\n",
      "column {'name': 'MARKETPRICE3', 'type': 'double'}\n",
      "column {'name': 'ADMITTEDQUOTE', 'type': 'double'}\n",
      "column {'name': 'MP2VALTRD', 'type': 'double'}\n",
      "column {'name': 'MARKETPRICE3TRADESVALUE', 'type': 'double'}\n",
      "column {'name': 'ADMITTEDVALUE', 'type': 'double'}\n",
      "column {'name': 'WAVAL', 'type': 'double'}\n",
      "column {'name': 'TRADINGSESSION', 'type': 'int32'}\n",
      "column {'name': 'INDEX', 'type': 'int64'}\n",
      "column {'name': 'TOTAL', 'type': 'int64'}\n",
      "column {'name': 'PAGESIZE', 'type': 'int64'}\n"
     ]
    }
   ],
   "source": [
    "for column in input_file.iter('column'):\n",
    "    print(column.tag, column.attrib)"
   ],
   "metadata": {
    "collapsed": false,
    "pycharm": {
     "name": "#%%\n"
    }
   }
  },
  {
   "cell_type": "markdown",
   "metadata": {
    "pycharm": {
     "name": "#%% md\n"
    }
   },
   "source": [
    "**Question 1.** How many elements are in the XML file?"
   ]
  },
  {
   "cell_type": "code",
   "execution_count": 172,
   "metadata": {
    "pycharm": {
     "name": "#%%\n"
    }
   },
   "outputs": [],
   "source": [
    "answer_part_1 = 88"
   ]
  },
  {
   "cell_type": "markdown",
   "metadata": {
    "pycharm": {
     "name": "#%% md\n"
    }
   },
   "source": [
    "<br>\n",
    "\n",
    "**Question 2.** How many XML elements named 'row' are in the XML-file?"
   ]
  },
  {
   "cell_type": "code",
   "execution_count": 52,
   "outputs": [
    {
     "data": {
      "text/plain": "55"
     },
     "execution_count": 52,
     "metadata": {},
     "output_type": "execute_result"
    }
   ],
   "source": [
    "len(input_file.findall('data/rows/row'))"
   ],
   "metadata": {
    "collapsed": false,
    "pycharm": {
     "name": "#%%\n"
    }
   }
  },
  {
   "cell_type": "code",
   "execution_count": 173,
   "metadata": {
    "pycharm": {
     "name": "#%%\n"
    }
   },
   "outputs": [],
   "source": [
    "answer_part_2 = 55"
   ]
  },
  {
   "cell_type": "markdown",
   "metadata": {
    "pycharm": {
     "name": "#%% md\n"
    }
   },
   "source": [
    "<br>\n",
    "\n",
    "**Question 3.** What is the height of the file's XML tree? \n",
    "\n",
    "<br>\n",
    "\n",
    "*Note:* By the height of the tree we mean the length of the longest sequence of nodes from root element to a leaf element. For example: let's look at the following XML:\n",
    "\n",
    "```\n",
    "<root>\n",
    "    <element1>\n",
    "        <some_element></some_element>\n",
    "    </element1>\n",
    "    <element_2></element_2>\n",
    "</root>\n",
    "```\n",
    "\n",
    "The height of the tree here is 3, since there are two sequences from root to leaf:\n",
    "\n",
    "1. `<root>` - `<element_1>` - `<some_element>`\n",
    "2. `<root>` - `<element_2>`\n",
    "\n",
    "The first sequence is the longest, and its length is 3."
   ]
  },
  {
   "cell_type": "code",
   "execution_count": 54,
   "outputs": [
    {
     "name": "stdout",
     "output_type": "stream",
     "text": [
      "e: <Element 'document' at 0x7f3f41429bf0> 0\n",
      "e: <Element 'data' at 0x7f3f413a06b0> 1\n",
      "e: <Element 'metadata' at 0x7f3f413a0710> 2\n",
      "e: <Element 'columns' at 0x7f3f413a0ad0> 3\n",
      "e: <Element 'column' at 0x7f3f413a0b30> 4\n",
      "e: None 5\n",
      "e: <Element 'column' at 0x7f3f413a0b90> 4\n",
      "e: None 5\n",
      "e: <Element 'column' at 0x7f3f413a0bf0> 4\n",
      "e: None 5\n",
      "e: <Element 'column' at 0x7f3f413a0c50> 4\n",
      "e: None 5\n",
      "e: <Element 'column' at 0x7f3f413a0cb0> 4\n",
      "e: None 5\n",
      "e: <Element 'column' at 0x7f3f413a0d10> 4\n",
      "e: None 5\n",
      "e: <Element 'column' at 0x7f3f413a0d70> 4\n",
      "e: None 5\n",
      "e: <Element 'column' at 0x7f3f413a0650> 4\n",
      "e: None 5\n",
      "e: <Element 'column' at 0x7f3f413a0050> 4\n",
      "e: None 5\n",
      "e: <Element 'column' at 0x7f3f413a00b0> 4\n",
      "e: None 5\n",
      "e: <Element 'column' at 0x7f3f413a0110> 4\n",
      "e: None 5\n",
      "e: <Element 'column' at 0x7f3f413a0170> 4\n",
      "e: None 5\n",
      "e: <Element 'column' at 0x7f3f413a01d0> 4\n",
      "e: None 5\n",
      "e: <Element 'column' at 0x7f3f413a0230> 4\n",
      "e: None 5\n",
      "e: <Element 'column' at 0x7f3f413a04d0> 4\n",
      "e: None 5\n",
      "e: <Element 'column' at 0x7f3f413a0530> 4\n",
      "e: None 5\n",
      "e: <Element 'column' at 0x7f3f413a0590> 4\n",
      "e: None 5\n",
      "e: <Element 'column' at 0x7f3f413a05f0> 4\n",
      "e: None 5\n",
      "e: <Element 'column' at 0x7f3f413a0e30> 4\n",
      "e: None 5\n",
      "e: <Element 'column' at 0x7f3f413a0e90> 4\n",
      "e: None 5\n",
      "e: <Element 'column' at 0x7f3f413a0ef0> 4\n",
      "e: None 5\n",
      "e: None 4\n",
      "e: None 3\n",
      "e: <Element 'rows' at 0x7f3f413a0f50> 2\n",
      "e: <Element 'row' at 0x7f3f413a0fb0> 3\n",
      "e: None 4\n",
      "e: <Element 'row' at 0x7f3f413bc050> 3\n",
      "e: None 4\n",
      "e: <Element 'row' at 0x7f3f413bc0b0> 3\n",
      "e: None 4\n",
      "e: <Element 'row' at 0x7f3f413bc110> 3\n",
      "e: None 4\n",
      "e: <Element 'row' at 0x7f3f413bc170> 3\n",
      "e: None 4\n",
      "e: <Element 'row' at 0x7f3f413bc1d0> 3\n",
      "e: None 4\n",
      "e: <Element 'row' at 0x7f3f413bc230> 3\n",
      "e: None 4\n",
      "e: <Element 'row' at 0x7f3f413bc290> 3\n",
      "e: None 4\n",
      "e: <Element 'row' at 0x7f3f413bc2f0> 3\n",
      "e: None 4\n",
      "e: <Element 'row' at 0x7f3f413bc350> 3\n",
      "e: None 4\n",
      "e: <Element 'row' at 0x7f3f413bc3b0> 3\n",
      "e: None 4\n",
      "e: <Element 'row' at 0x7f3f413bc470> 3\n",
      "e: None 4\n",
      "e: <Element 'row' at 0x7f3f413bc4d0> 3\n",
      "e: None 4\n",
      "e: <Element 'row' at 0x7f3f413bc590> 3\n",
      "e: None 4\n",
      "e: <Element 'row' at 0x7f3f413bc5f0> 3\n",
      "e: None 4\n",
      "e: <Element 'row' at 0x7f3f413bc650> 3\n",
      "e: None 4\n",
      "e: <Element 'row' at 0x7f3f413bc6b0> 3\n",
      "e: None 4\n",
      "e: <Element 'row' at 0x7f3f413bc710> 3\n",
      "e: None 4\n",
      "e: <Element 'row' at 0x7f3f413bc770> 3\n",
      "e: None 4\n",
      "e: <Element 'row' at 0x7f3f413bc7d0> 3\n",
      "e: None 4\n",
      "e: <Element 'row' at 0x7f3f413bc830> 3\n",
      "e: None 4\n",
      "e: <Element 'row' at 0x7f3f413bc890> 3\n",
      "e: None 4\n",
      "e: <Element 'row' at 0x7f3f413bc950> 3\n",
      "e: None 4\n",
      "e: <Element 'row' at 0x7f3f413bc9b0> 3\n",
      "e: None 4\n",
      "e: <Element 'row' at 0x7f3f413bca10> 3\n",
      "e: None 4\n",
      "e: <Element 'row' at 0x7f3f413bca70> 3\n",
      "e: None 4\n",
      "e: <Element 'row' at 0x7f3f413bcad0> 3\n",
      "e: None 4\n",
      "e: <Element 'row' at 0x7f3f413bcb90> 3\n",
      "e: None 4\n",
      "e: <Element 'row' at 0x7f3f413bcbf0> 3\n",
      "e: None 4\n",
      "e: <Element 'row' at 0x7f3f413bcc50> 3\n",
      "e: None 4\n",
      "e: <Element 'row' at 0x7f3f413bccb0> 3\n",
      "e: None 4\n",
      "e: <Element 'row' at 0x7f3f413bcd10> 3\n",
      "e: None 4\n",
      "e: <Element 'row' at 0x7f3f413bcd70> 3\n",
      "e: None 4\n",
      "e: <Element 'row' at 0x7f3f413bcdd0> 3\n",
      "e: None 4\n",
      "e: <Element 'row' at 0x7f3f413bce30> 3\n",
      "e: None 4\n",
      "e: <Element 'row' at 0x7f3f413bce90> 3\n",
      "e: None 4\n",
      "e: <Element 'row' at 0x7f3f413bcef0> 3\n",
      "e: None 4\n",
      "e: <Element 'row' at 0x7f3f413bcf50> 3\n",
      "e: None 4\n",
      "e: <Element 'row' at 0x7f3f413a5050> 3\n",
      "e: None 4\n",
      "e: <Element 'row' at 0x7f3f413a5110> 3\n",
      "e: None 4\n",
      "e: <Element 'row' at 0x7f3f413a5170> 3\n",
      "e: None 4\n",
      "e: <Element 'row' at 0x7f3f413a51d0> 3\n",
      "e: None 4\n",
      "e: <Element 'row' at 0x7f3f413a5230> 3\n",
      "e: None 4\n",
      "e: <Element 'row' at 0x7f3f413a5290> 3\n",
      "e: None 4\n",
      "e: <Element 'row' at 0x7f3f413a52f0> 3\n",
      "e: None 4\n",
      "e: <Element 'row' at 0x7f3f413a5350> 3\n",
      "e: None 4\n",
      "e: <Element 'row' at 0x7f3f413a53b0> 3\n",
      "e: None 4\n",
      "e: <Element 'row' at 0x7f3f413a5470> 3\n",
      "e: None 4\n",
      "e: <Element 'row' at 0x7f3f413a5530> 3\n",
      "e: None 4\n",
      "e: <Element 'row' at 0x7f3f413a5590> 3\n",
      "e: None 4\n",
      "e: <Element 'row' at 0x7f3f413a55f0> 3\n",
      "e: None 4\n",
      "e: <Element 'row' at 0x7f3f413a5650> 3\n",
      "e: None 4\n",
      "e: <Element 'row' at 0x7f3f413a5710> 3\n",
      "e: None 4\n",
      "e: <Element 'row' at 0x7f3f413a5770> 3\n",
      "e: None 4\n",
      "e: None 3\n",
      "e: None 2\n",
      "e: <Element 'data' at 0x7f3f413a57d0> 1\n",
      "e: <Element 'metadata' at 0x7f3f413a5830> 2\n",
      "e: <Element 'columns' at 0x7f3f413a5890> 3\n",
      "e: <Element 'column' at 0x7f3f413a58f0> 4\n",
      "e: None 5\n",
      "e: <Element 'column' at 0x7f3f413a5950> 4\n",
      "e: None 5\n",
      "e: <Element 'column' at 0x7f3f413a59b0> 4\n",
      "e: None 5\n",
      "e: None 4\n",
      "e: None 3\n",
      "e: <Element 'rows' at 0x7f3f413a5a10> 2\n",
      "e: <Element 'row' at 0x7f3f413a5a70> 3\n",
      "e: None 4\n",
      "e: None 3\n",
      "e: None 2\n",
      "e: None 1\n",
      "e: None 0\n",
      "5\n"
     ]
    }
   ],
   "source": [
    "def depth_iter(element, tag=None):\n",
    "    stack = []\n",
    "    stack.append(iter([element]))\n",
    "    while stack:\n",
    "        e = next(stack[-1], None)\n",
    "        print(\"e:\", e, len(stack) -1)\n",
    "        if e == None:\n",
    "            stack.pop()\n",
    "        else:\n",
    "            stack.append(iter(e))\n",
    "            if tag == None or e.tag == tag:\n",
    "                yield (e, len(stack) - 1)\n",
    "\n",
    "print(max(map(lambda x: x[1], depth_iter(root))))"
   ],
   "metadata": {
    "collapsed": false,
    "pycharm": {
     "name": "#%%\n"
    }
   }
  },
  {
   "cell_type": "code",
   "execution_count": 174,
   "metadata": {
    "pycharm": {
     "name": "#%%\n"
    }
   },
   "outputs": [],
   "source": [
    "answer_part_3 = 5"
   ]
  },
  {
   "cell_type": "markdown",
   "metadata": {
    "pycharm": {
     "name": "#%% md\n"
    }
   },
   "source": [
    "<br>\n",
    "\n",
    "Each `row` element contains data about some stock in its attribute values. For example, attributes CLOSE and OPEN stand for close price and open price for a stock in this day accordingly. Attribute VOLUME stands for total trade volume of the stock in this particular day.\n",
    "\n",
    "**Question 4.** What is average value of a difference between CLOSE and OPEN prices among all stocks present? \n",
    "\n",
    "*Note:* If a stock doesn't have data about its CLOSE and OPEN prices, skip it."
   ]
  },
  {
   "cell_type": "code",
   "execution_count": 78,
   "outputs": [
    {
     "name": "stdout",
     "output_type": "stream",
     "text": [
      "<Element 'data' at 0x7f3f413a06b0>\n"
     ]
    }
   ],
   "source": [
    "print(root.find(\"data\"))"
   ],
   "metadata": {
    "collapsed": false,
    "pycharm": {
     "name": "#%%\n"
    }
   }
  },
  {
   "cell_type": "code",
   "execution_count": 97,
   "outputs": [
    {
     "name": "stdout",
     "output_type": "stream",
     "text": [
      "-81.72016052499997\n",
      "0.0007582807839039579\n"
     ]
    }
   ],
   "source": [
    "dif = []\n",
    "vol = []\n",
    "for row in input_file.findall('data[1]/rows/row'):\n",
    "    if row.attrib[\"OPEN\"] != \"\" and row.attrib[\"CLOSE\"] != \"\":\n",
    "        vol.append(float(row.attrib[\"VOLUME\"]))\n",
    "        dif.append((float(row.attrib[\"CLOSE\"]) - float(row.attrib[\"OPEN\"])))\n",
    "        #print(row.attrib[\"OPEN\"], row.attrib[\"CLOSE\"])\n",
    "\n",
    "print(sum(dif)/len(dif))\n",
    "print(sum([vol[i]*dif[i] for i in range(len(dif))])/sum(vol))"
   ],
   "metadata": {
    "collapsed": false,
    "pycharm": {
     "name": "#%%\n"
    }
   }
  },
  {
   "cell_type": "code",
   "execution_count": null,
   "outputs": [],
   "source": [],
   "metadata": {
    "collapsed": false,
    "pycharm": {
     "name": "#%%\n"
    }
   }
  },
  {
   "cell_type": "code",
   "execution_count": 176,
   "metadata": {
    "pycharm": {
     "name": "#%%\n"
    }
   },
   "outputs": [],
   "source": [
    "answer_part_4 = -81.72016052499997"
   ]
  },
  {
   "cell_type": "markdown",
   "metadata": {
    "pycharm": {
     "name": "#%% md\n"
    }
   },
   "source": [
    "<br>\n",
    "\n",
    "**Question 5.** What is the value of largest VOLUME among all stocks present?"
   ]
  },
  {
   "cell_type": "code",
   "execution_count": 100,
   "outputs": [
    {
     "data": {
      "text/plain": "63615300000"
     },
     "execution_count": 100,
     "metadata": {},
     "output_type": "execute_result"
    }
   ],
   "source": [
    "int(max(vol))"
   ],
   "metadata": {
    "collapsed": false,
    "pycharm": {
     "name": "#%%\n"
    }
   }
  },
  {
   "cell_type": "code",
   "execution_count": 177,
   "metadata": {
    "pycharm": {
     "name": "#%%\n"
    }
   },
   "outputs": [],
   "source": [
    "answer_part_5 = 63615300000 #Correct"
   ]
  },
  {
   "cell_type": "markdown",
   "metadata": {
    "pycharm": {
     "name": "#%% md\n"
    }
   },
   "source": [
    "<br><br><br><br><br>"
   ]
  },
  {
   "cell_type": "markdown",
   "metadata": {
    "pycharm": {
     "name": "#%% md\n"
    }
   },
   "source": [
    "### Part 2. JSON"
   ]
  },
  {
   "cell_type": "markdown",
   "metadata": {
    "pycharm": {
     "name": "#%% md\n"
    }
   },
   "source": [
    "You are provided with file `securities.json`. It also has some information about stocks, but It has a slightly different structure. Explore it to answer the quesionts.\n",
    "\n",
    "*Note:* `data`-element in the file containts rows with data values. To see names for these values (what data value means what) you need to check element `securities['history']['columns']`\n",
    "\n",
    "<br>"
   ]
  },
  {
   "cell_type": "code",
   "execution_count": 102,
   "outputs": [],
   "source": [
    "import json\n",
    "with open(\"securities.json\") as f:\n",
    "    inp_json = json.load(f)"
   ],
   "metadata": {
    "collapsed": false,
    "pycharm": {
     "name": "#%%\n"
    }
   }
  },
  {
   "cell_type": "code",
   "execution_count": 106,
   "outputs": [
    {
     "data": {
      "text/plain": "{'history': {'metadata': {'BOARDID': {'type': 'string',\n    'bytes': 12,\n    'max_size': 0},\n   'SECID': {'type': 'string', 'bytes': 36, 'max_size': 0},\n   'TRADEDATE': {'type': 'date', 'bytes': 10, 'max_size': 0},\n   'SHORTNAME': {'type': 'string', 'bytes': 189, 'max_size': 0},\n   'NAME': {'type': 'string', 'bytes': 765, 'max_size': 0},\n   'CLOSE': {'type': 'double'},\n   'OPEN': {'type': 'double'},\n   'HIGH': {'type': 'double'},\n   'LOW': {'type': 'double'},\n   'VALUE': {'type': 'double'},\n   'DURATION': {'type': 'int32'},\n   'YIELD': {'type': 'double'},\n   'DECIMALS': {'type': 'int32'},\n   'CAPITALIZATION': {'type': 'double'},\n   'CURRENCYID': {'type': 'string', 'bytes': 9, 'max_size': 0},\n   'DIVISOR': {'type': 'double'}},\n  'columns': ['BOARDID',\n   'SECID',\n   'TRADEDATE',\n   'SHORTNAME',\n   'NAME',\n   'CLOSE',\n   'OPEN',\n   'HIGH',\n   'LOW',\n   'VALUE',\n   'DURATION',\n   'YIELD',\n   'DECIMALS',\n   'CAPITALIZATION',\n   'CURRENCYID',\n   'DIVISOR'],\n  'data': [['RTSI',\n    'BPSI',\n    '2010-08-20',\n    'Субиндекс облигаций',\n    'Индексы активов пенсионных накоплений - Субиндекс облигаций',\n    1315.1298,\n    1315.1298,\n    1315.1298,\n    1315.1298,\n    0,\n    None,\n    None,\n    2,\n    684697089959.935,\n    'RUB',\n    0.001],\n   ['RTSI',\n    'EPSI',\n    '2010-08-20',\n    'Субиндекс акций',\n    'Индексы активов пенсионных накоплений - Субиндекс акций',\n    835.2574,\n    835.2574,\n    835.2574,\n    835.2574,\n    0,\n    None,\n    None,\n    2,\n    635065565066.761,\n    'RUB',\n    999999.999999],\n   ['SNDX',\n    'IMOEX',\n    '2010-08-20',\n    'Индекс МосБиржи',\n    'Индекс МосБиржи',\n    1366.32,\n    1375.11,\n    1379.36,\n    1357.94,\n    33925165595,\n    None,\n    None,\n    2,\n    None,\n    'RUB',\n    None],\n   ['RTSI',\n    'MCFTR',\n    '2010-08-20',\n    'MOEX Russia Total Return',\n    'Индекс МосБиржи полной доходности «брутто»',\n    1487.85,\n    1487.85,\n    1487.85,\n    1487.85,\n    0,\n    None,\n    None,\n    2,\n    0,\n    None,\n    None],\n   ['RTSI',\n    'MCFTRN',\n    '2010-08-20',\n    'MOEX Russia Net-TR-NR',\n    'Индекс МосБиржи полной доходности «нетто» (по налоговым ставкам иностранных организаций)',\n    1469,\n    1469,\n    1469,\n    1469,\n    0,\n    None,\n    None,\n    2,\n    0,\n    None,\n    None],\n   ['RTSI',\n    'MCFTRR',\n    '2010-08-20',\n    'MOEX Russia Net-TR-Res',\n    'Индекс МосБиржи полной доходности «нетто» (по налоговым ставкам российских организаций)',\n    1476.51,\n    1476.51,\n    1476.51,\n    1476.51,\n    0,\n    None,\n    None,\n    2,\n    0,\n    None,\n    None],\n   ['RTSI',\n    'MEBCTR',\n    '2010-08-20',\n    'MOEX Blue Chip Total Return',\n    'Индекс МосБиржи голубых фишек полной доходности «брутто»',\n    9452.64,\n    9452.64,\n    9452.64,\n    9452.64,\n    0,\n    None,\n    None,\n    2,\n    0,\n    'RUB',\n    None],\n   ['RTSI',\n    'MEBCTRN',\n    '2010-08-20',\n    'MOEX Blue Chip Net-TR-NR',\n    'Индекс МосБиржи голубых фишек полной доходности «нетто» (по налоговым ставкам иностр. орг.)',\n    9438.27,\n    9438.27,\n    9438.27,\n    9438.27,\n    0,\n    None,\n    None,\n    2,\n    0,\n    'RUB',\n    None],\n   ['RTSI',\n    'MEBCTRR',\n    '2010-08-20',\n    'MOEX Blue Chip Net-TR-Res',\n    'Индекс МосБиржи голубых фишек полной доходности «нетто» (по налоговым ставкам росс. орг.)',\n    9444.02,\n    9444.02,\n    9444.02,\n    9444.02,\n    0,\n    None,\n    None,\n    2,\n    0,\n    'RUB',\n    None],\n   ['SNDX',\n    'MICEXBORR1W',\n    '2010-08-20',\n    'MCX BO 1W',\n    'ММВБ РЕПО обл 7 дней',\n    3.75,\n    None,\n    None,\n    None,\n    9492954739.7,\n    None,\n    None,\n    2,\n    None,\n    'RUB',\n    None],\n   ['SNDX',\n    'MICEXBORR2W',\n    '2010-08-20',\n    'MCX BO 2W',\n    'ММВБ РЕПО обл 14 дней',\n    3.88,\n    None,\n    None,\n    None,\n    2006203924,\n    None,\n    None,\n    2,\n    None,\n    'RUB',\n    None],\n   ['SNDX',\n    'MICEXBORRON',\n    '2010-08-20',\n    'MCX BO ON',\n    'ММВБ РЕПО обл 1 день',\n    3.17,\n    None,\n    None,\n    None,\n    99504847457.27,\n    None,\n    None,\n    2,\n    None,\n    'RUB',\n    None],\n   ['SNDX',\n    'MICEXCBIGP',\n    '2010-08-20',\n    'ММВБ корп обл (вал)',\n    'ММВБ корп обл (вал)',\n    97.73,\n    97.82,\n    97.82,\n    97.73,\n    2634304586,\n    792,\n    6.94,\n    2,\n    None,\n    'RUB',\n    None],\n   ['SNDX',\n    'MICEXCBIGP3Y',\n    '2010-08-20',\n    'ММВБ корп обл (вал) 1-3',\n    'ММВБ корп обл (вал) 1-3',\n    98.8,\n    98.94,\n    98.94,\n    98.8,\n    1694084776,\n    553,\n    6.58,\n    2,\n    None,\n    'RUB',\n    None],\n   ['SNDX',\n    'MICEXCBIGP5Y',\n    '2010-08-20',\n    'ММВБ корп обл (вал) 3-5',\n    'ММВБ корп обл (вал) 3-5',\n    114.69,\n    114.71,\n    114.72,\n    114.69,\n    708279404,\n    1156,\n    7.57,\n    2,\n    None,\n    'RUB',\n    None],\n   ['SNDX',\n    'MICEXEQRR1W',\n    '2010-08-20',\n    'MCX EQ 1W',\n    'ММВБ РЕПО акц 7 дней',\n    1.69,\n    None,\n    None,\n    None,\n    793472033.43,\n    None,\n    None,\n    2,\n    None,\n    'RUB',\n    None],\n   ['SNDX',\n    'MICEXEQRR2W',\n    '2010-08-20',\n    'MCX EQ 2W',\n    'ММВБ РЕПО акц 14 дней',\n    8.84,\n    None,\n    None,\n    None,\n    10509861.5,\n    None,\n    None,\n    2,\n    None,\n    'RUB',\n    None],\n   ['SNDX',\n    'MICEXEQRRON',\n    '2010-08-20',\n    'MCX EQ ON',\n    'ММВБ РЕПО акц 1 день',\n    2.81,\n    None,\n    None,\n    None,\n    33813183646.53,\n    None,\n    None,\n    2,\n    None,\n    'RUB',\n    None],\n   ['SNDX',\n    'MICEXLC',\n    '2010-08-20',\n    'MICEX LC',\n    'ММВБ высокая кап',\n    2210.63,\n    2223.45,\n    2231.02,\n    2194.75,\n    28886785565,\n    None,\n    None,\n    2,\n    None,\n    'RUB',\n    None],\n   ['SNDX',\n    'MICEXMBIGP',\n    '2010-08-20',\n    'MICEXMBIGP',\n    'ММВБ муни обл (вал)',\n    102.28,\n    102.31,\n    102.31,\n    102.19,\n    2130291716,\n    798,\n    7.27,\n    2,\n    None,\n    'RUB',\n    None],\n   ['SNDX',\n    'MICEXMC',\n    '2010-08-20',\n    'MICEX MC',\n    'ММВБ стандарт кап',\n    2535.51,\n    2570.01,\n    2573.89,\n    2533.49,\n    1387241871,\n    None,\n    None,\n    2,\n    None,\n    'RUB',\n    None],\n   ['SNDX',\n    'MICEXMNF',\n    '2010-08-20',\n    'Машиностроение',\n    'Индекс машиностроения Московской Биржи',\n    1875.6,\n    1872.07,\n    1884.11,\n    1861.52,\n    34085345,\n    None,\n    None,\n    2,\n    None,\n    'RUB',\n    None],\n   ['SNDX',\n    'MICEXSC',\n    '2010-08-20',\n    'Второй эшелон',\n    'Индекс второго эшелона Московской Биржи',\n    4368.33,\n    4395.44,\n    4395.44,\n    4355.14,\n    415601780,\n    None,\n    None,\n    2,\n    None,\n    'RUB',\n    None],\n   ['SNDX',\n    'MOEX10',\n    '2010-08-20',\n    'Индекс МосБиржи 10',\n    'Индекс МосБиржи 10',\n    3238.22,\n    3255.29,\n    3271.67,\n    3211.43,\n    31618584880,\n    None,\n    None,\n    2,\n    None,\n    'RUB',\n    None],\n   ['RTSI',\n    'MOEXBC',\n    '2010-08-20',\n    'Индекс голубых фишек',\n    'Индекс МосБиржи голубых фишек',\n    9357.1,\n    9421.95,\n    9454.11,\n    9290.14,\n    16274758584.82,\n    None,\n    None,\n    2,\n    3810822121826.06,\n    'RUB',\n    999999.999999],\n   ['SNDX',\n    'MOEXCH',\n    '2010-08-20',\n    'Индекс химии и нефтехимии',\n    'Индекс МосБиржи химии и нефтехимии',\n    4438.8,\n    4472.81,\n    4500.98,\n    4433.45,\n    459653428,\n    None,\n    None,\n    2,\n    None,\n    'RUB',\n    None],\n   ['SNDX',\n    'MOEXCN',\n    '2010-08-20',\n    'Индекс потребительского сектора / Индекс потребит сектора',\n    'Индекс МосБиржи потребительского сектора',\n    4200.98,\n    4227.96,\n    4228.99,\n    4197.64,\n    81343817,\n    None,\n    None,\n    2,\n    None,\n    'RUB',\n    None],\n   ['SNDX',\n    'MOEXEU',\n    '2010-08-20',\n    'Индекс электроэнергетики',\n    'Индекс МосБиржи электроэнергетики',\n    3007.64,\n    3038.92,\n    3047.9,\n    3003.45,\n    1284934360,\n    None,\n    None,\n    2,\n    None,\n    'RUB',\n    None],\n   ['SNDX',\n    'MOEXFN',\n    '2010-08-20',\n    'Индекс финансов',\n    'Индекс МосБиржи финансов',\n    5577.14,\n    5621.61,\n    5636.58,\n    5552.11,\n    15607459329,\n    None,\n    None,\n    2,\n    None,\n    'RUB',\n    None],\n   ['SNDX',\n    'MOEXINN',\n    '2010-08-20',\n    'Индекс МосБиржи инноваций',\n    'Индекс МосБиржи инноваций',\n    848.06,\n    850.21,\n    853.94,\n    842.52,\n    6286908.03,\n    None,\n    None,\n    2,\n    None,\n    'RUB',\n    None],\n   ['SNDX',\n    'MOEXMM',\n    '2010-08-20',\n    'Индекс металлов и добычи',\n    'Индекс МосБиржи металлов и добычи',\n    4234.65,\n    4299.34,\n    4299.34,\n    4217.01,\n    3584786349,\n    None,\n    None,\n    2,\n    None,\n    'RUB',\n    None],\n   ['SNDX',\n    'MOEXOG',\n    '2010-08-20',\n    'Индекс нефти и газа',\n    'Индекс МосБиржи нефти и газа',\n    2514.53,\n    2527.44,\n    2534.93,\n    2495.59,\n    13285496505,\n    None,\n    None,\n    2,\n    None,\n    'RUB',\n    None],\n   ['SNDX',\n    'MOEXTL',\n    '2010-08-20',\n    'Индекс телекоммуникаций',\n    'Индекс МосБиржи телекоммуникаций',\n    2001.61,\n    2010.14,\n    2013.77,\n    1999.1,\n    493264262,\n    None,\n    None,\n    2,\n    None,\n    'RUB',\n    None],\n   ['SNDX',\n    'MOEXTN',\n    '2010-08-20',\n    'Индекс транспорта',\n    'Индекс МосБиржи транспорта',\n    1583.29,\n    1583.29,\n    1583.29,\n    1583.29,\n    38016345.64,\n    None,\n    None,\n    2,\n    None,\n    'RUB',\n    None],\n   ['RTSI',\n    'OPSI',\n    '2010-08-20',\n    'Субиндекс ОФЗ',\n    'Индексы активов пенсионных накоплений - Субиндекс ОФЗ',\n    1096.747,\n    1096.747,\n    1096.747,\n    1096.747,\n    0,\n    None,\n    None,\n    2,\n    0,\n    'RUB',\n    None],\n   ['RTSI',\n    'RTS2',\n    '2010-08-20',\n    'Второй эшелон в $',\n    'Индекс второго эшелона Московской Биржи в долларах',\n    1734.3,\n    1779.99,\n    1779.99,\n    1734.3,\n    547966.94,\n    None,\n    None,\n    2,\n    23250932818.101,\n    'USD',\n    999999.999999],\n   ['RTSI',\n    'RTSch',\n    '2010-08-20',\n    'Индекс РТС химии и нефтехимии',\n    'Индекс РТС химии и нефтехимии',\n    147.47,\n    147.83,\n    148.73,\n    147.04,\n    14984968.7849,\n    None,\n    None,\n    2,\n    0,\n    'USD',\n    None],\n   ['RTSI',\n    'RTScr',\n    '2010-08-20',\n    'Индекс РТС потреб. сектора',\n    'Индекс РТС потребительских товаров и розничной торговли',\n    321.7,\n    327.49,\n    327.55,\n    321.7,\n    159950,\n    None,\n    None,\n    2,\n    2386919628.1915,\n    'USD',\n    999999.999999],\n   ['RTSI',\n    'RTSeu',\n    '2010-08-20',\n    'Индекс РТС электроэнергетики',\n    'Индекс РТС электроэнергетики',\n    241.42,\n    248.54,\n    248.54,\n    241.12,\n    1859692.6072,\n    None,\n    None,\n    2,\n    12615266286.805,\n    'USD',\n    999999.999999],\n   ['RTSI',\n    'RTSfn',\n    '2010-08-20',\n    'Индекс РТС финансов',\n    'Индекс РТС финансов',\n    345.48,\n    349.95,\n    351.2,\n    345.13,\n    188591958.6166,\n    None,\n    None,\n    2,\n    2926577766.789,\n    'USD',\n    999999.999999],\n   ['RTSI',\n    'RTSI',\n    '2010-08-20',\n    'Индекс РТС',\n    'Индекс РТС',\n    1425.03,\n    1446.15,\n    1449.47,\n    1422.54,\n    533011124.6467,\n    None,\n    None,\n    2,\n    152844250842.831,\n    'USD',\n    999999.999999],\n   ['RTSI',\n    'RTSin',\n    '2010-08-20',\n    'Машиностроение в $',\n    'Индекс машиностроения Московской Биржи в долларах',\n    140.73,\n    145.42,\n    145.42,\n    140.73,\n    47334,\n    None,\n    None,\n    2,\n    819065136.066,\n    'USD',\n    999999.999999],\n   ['RTSI',\n    'RTSmm',\n    '2010-08-20',\n    'Индекс РТС металлов и добычи',\n    'Индекс РТС металлов и добычи',\n    254.45,\n    260.13,\n    260.13,\n    254.22,\n    35531301.436,\n    None,\n    None,\n    2,\n    16073403493.0029,\n    'USD',\n    999999.999999],\n   ['RTSI',\n    'RTSog',\n    '2010-08-20',\n    'Индекс РТС нефти и газа',\n    'Индекс РТС нефти и газа',\n    170.35,\n    171.76,\n    172.22,\n    168.76,\n    299570681.9136,\n    None,\n    None,\n    2,\n    63374693107.3994,\n    'USD',\n    999999.999999],\n   ['RTSI',\n    'RTSSIB',\n    '2010-08-20',\n    'Индекс ММВБ Сибирь',\n    'Индекс ММВБ Сибирь',\n    822.26,\n    854.29,\n    854.63,\n    821.88,\n    945680710.5335,\n    None,\n    None,\n    2,\n    82962318468.4986,\n    'RUB',\n    999999.999999],\n   ['RTSI',\n    'RTSSTDTRR',\n    '2010-08-20',\n    'MOEX Blue Chip Net-TR-Res',\n    'Индекс МосБиржи голубых фишек полной доходности «нетто» (по налоговым ставкам росс. орг.)',\n    9444.02,\n    9444.02,\n    9444.02,\n    9444.02,\n    0,\n    None,\n    None,\n    2,\n    0,\n    'RUB',\n    None],\n   ['RTSI',\n    'RTStl',\n    '2010-08-20',\n    'Индекс РТС телекоммуникаций',\n    'Индекс РТС телекоммуникаций ',\n    199.4,\n    204.8,\n    204.8,\n    199.4,\n    41965,\n    None,\n    None,\n    2,\n    2929040251.1538,\n    'USD',\n    999999.999999],\n   ['RTSI',\n    'RTStn',\n    '2010-08-20',\n    'Индекс РТС транспорта',\n    'Индекс РТС транспорта',\n    127.1754,\n    127.1754,\n    127.1754,\n    127.1754,\n    1239354.9532,\n    None,\n    None,\n    2,\n    1484267613.0398,\n    'USD',\n    999999.999999],\n   ['RTSI',\n    'RTSTR',\n    '2010-08-20',\n    'RTS Total Return',\n    'Индекс РТС полной доходности «брутто»',\n    1549.26,\n    1549.26,\n    1549.26,\n    1549.26,\n    0,\n    None,\n    None,\n    2,\n    152844250842.8309,\n    'USD',\n    None],\n   ['RTSI',\n    'RTSTRN',\n    '2010-08-20',\n    'RTS Net-TR-NR',\n    'Индекс РТС полной доходности «нетто» (по налоговым ставкам иностранных организаций)',\n    1530,\n    1530,\n    1530,\n    1530,\n    0,\n    None,\n    None,\n    2,\n    152844250842.8309,\n    'USD',\n    None],\n   ['RTSI',\n    'RTSTRR',\n    '2010-08-20',\n    'RTS Net-TR-Res',\n    'Индекс РТС полной доходности «нетто» (по налоговым ставкам российских организаций)',\n    1537.67,\n    1537.67,\n    1537.67,\n    1537.67,\n    0,\n    None,\n    None,\n    2,\n    152844250842.8309,\n    'USD',\n    None],\n   ['RTSI',\n    'RTSUSDCUR',\n    '2010-08-20',\n    'RTSUSDCUR',\n    'Курс доллара США на момент закрытия Индекса РТС',\n    30.6743,\n    30.6743,\n    30.6743,\n    30.6743,\n    None,\n    None,\n    None,\n    2,\n    None,\n    'RUB',\n    None],\n   ['SNDX',\n    'RUCBCP3Y',\n    '2010-08-20',\n    'Индекс Мосбиржи корп обл CBICP 3-5',\n    'Индекс Мосбиржи корпоративных облигаций MOEX 1 - 3 ценовой',\n    96.68,\n    96.83,\n    96.83,\n    96.68,\n    1694084776,\n    553,\n    6.58,\n    2,\n    None,\n    'RUB',\n    None],\n   ['SNDX',\n    'RUCBCP5Y',\n    '2010-08-20',\n    'Индекс Мосбиржи корп обл CBICP 1-3',\n    'Индекс Мосбиржи корпоративных облигаций ценовой 3-5',\n    113.13,\n    113.16,\n    113.16,\n    113.13,\n    708279404,\n    1156,\n    7.57,\n    2,\n    None,\n    'RUB',\n    None],\n   ['SNDX',\n    'RUCBICP',\n    '2010-08-20',\n    'Индекс Мосбиржи корп обл CBICP',\n    'Индекс Мосбиржи корпоративных облигаций ценовой',\n    95.88,\n    95.97,\n    95.97,\n    95.87,\n    2634304586,\n    792,\n    6.94,\n    2,\n    None,\n    'RUB',\n    None],\n   ['SNDX',\n    'RUCBITR',\n    '2010-08-20',\n    'Индекс Мосбиржи корп обл CBITR',\n    'Индекс Мосбиржи корпоративных облигаций',\n    190.34,\n    190.52,\n    190.52,\n    190.34,\n    2634304586,\n    792,\n    6.94,\n    2,\n    None,\n    'RUB',\n    None],\n   ['SNDX',\n    'RUCBTR3Y',\n    '2010-08-20',\n    'Индекс Мосбиржи корп обл CBITR 3-5',\n    'Индекс Мосбиржи корпоративных облигаций MOEX 1-3',\n    189.32,\n    189.6,\n    189.6,\n    189.32,\n    1694084776,\n    553,\n    6.58,\n    2,\n    None,\n    'RUB',\n    None],\n   ['SNDX',\n    'RUCBTR5Y',\n    '2010-08-20',\n    'Индекс Мосбиржи корп обл CBITR 1-3',\n    'Индекс Мосбиржи корпоративных облигаций 3-5',\n    219.54,\n    219.59,\n    219.6,\n    219.54,\n    708279404,\n    1156,\n    7.57,\n    2,\n    None,\n    'RUB',\n    None],\n   ['SNDX',\n    'RUMBICP',\n    '2010-08-20',\n    'Индекс Мосбиржи мун обл MOEX MBICP',\n    'Индекс Мосбиржи муниципальных облигаций ценовой',\n    100.1,\n    100.13,\n    100.13,\n    100,\n    2130291716,\n    798,\n    7.27,\n    2,\n    None,\n    'RUB',\n    None],\n   ['SNDX',\n    'RUMBITR',\n    '2010-08-20',\n    'Индекс Мосбиржи мун обл MBITR',\n    'Индекс Мосбиржи муниципальных облигаций',\n    143.92,\n    143.97,\n    143.97,\n    143.79,\n    2130291716,\n    798,\n    7.27,\n    2,\n    None,\n    'RUB',\n    None],\n   ['RTSI',\n    'RUPAI',\n    '2010-08-20',\n    'Агрессивный индекс',\n    'Индексы активов пенсионных накоплений - Агрессивный',\n    1044.91,\n    1044.91,\n    1044.91,\n    1044.91,\n    0,\n    None,\n    None,\n    2,\n    0,\n    'RUB',\n    0.0],\n   ['RTSI',\n    'RUPCI',\n    '2010-08-20',\n    'Консервативный индекс',\n    'Индексы активов пенсионных накоплений - Консервативный',\n    1315.13,\n    1315.13,\n    1315.13,\n    1315.13,\n    0,\n    None,\n    None,\n    2,\n    0,\n    'RUB',\n    None],\n   ['RTSI',\n    'RUPMI',\n    '2010-08-20',\n    'Сбалансированный индекс',\n    'Индексы активов пенсионных накоплений - Сбалансированный',\n    1178.54,\n    1178.54,\n    1178.54,\n    1178.54,\n    0,\n    None,\n    None,\n    2,\n    0,\n    'RUB',\n    0.0]]},\n 'history.cursor': {'metadata': {'INDEX': {'type': 'int64'},\n   'TOTAL': {'type': 'int64'},\n   'PAGESIZE': {'type': 'int64'}},\n  'columns': ['INDEX', 'TOTAL', 'PAGESIZE'],\n  'data': [[0, 63, 100]]}}"
     },
     "execution_count": 106,
     "metadata": {},
     "output_type": "execute_result"
    }
   ],
   "source": [
    "inp_json"
   ],
   "metadata": {
    "collapsed": false,
    "pycharm": {
     "name": "#%%\n"
    }
   }
  },
  {
   "cell_type": "code",
   "execution_count": 105,
   "outputs": [
    {
     "data": {
      "text/plain": "4"
     },
     "execution_count": 105,
     "metadata": {},
     "output_type": "execute_result"
    }
   ],
   "source": [
    "inp_json.keys()\n",
    "def depth(d):\n",
    "    if isinstance(d, dict):\n",
    "        return 1 + (max(map(depth, d.values())) if d else 0)\n",
    "    return 0\n",
    "\n",
    "depth(inp_json)"
   ],
   "metadata": {
    "collapsed": false,
    "pycharm": {
     "name": "#%%\n"
    }
   }
  },
  {
   "cell_type": "code",
   "execution_count": 171,
   "outputs": [
    {
     "data": {
      "text/plain": "4"
     },
     "execution_count": 171,
     "metadata": {},
     "output_type": "execute_result"
    }
   ],
   "source": [
    "def depth2(x):\n",
    "    if type(x) is dict and x:\n",
    "        return 1 + max(depth(x[a]) for a in x)\n",
    "    if type(x) is list and x:\n",
    "        return 1 + max(depth(a) for a in x)\n",
    "    return 0\n",
    "\n",
    "depth2(inp_json)"
   ],
   "metadata": {
    "collapsed": false,
    "pycharm": {
     "name": "#%%\n"
    }
   }
  },
  {
   "cell_type": "markdown",
   "metadata": {
    "pycharm": {
     "name": "#%% md\n"
    }
   },
   "source": [
    "\n",
    "\n",
    "**Question 6.** What is the height of the file's JSON tree? \n",
    "\n",
    "*Note:* By the height of the tree we mean the length of the longest sequence of nodes from root element to a leaf element (similar to the height of an XML defined in Question 3)"
   ]
  },
  {
   "cell_type": "code",
   "execution_count": 178,
   "metadata": {
    "pycharm": {
     "name": "#%%\n"
    }
   },
   "outputs": [],
   "source": [
    "answer_part_6 = 4 #False\n",
    "answer_part_6 = 5"
   ]
  },
  {
   "cell_type": "markdown",
   "metadata": {
    "pycharm": {
     "name": "#%% md\n"
    }
   },
   "source": [
    "<br>\n",
    "\n",
    "**Question 7.** How many branches does `data` element have?"
   ]
  },
  {
   "cell_type": "code",
   "execution_count": null,
   "outputs": [],
   "source": [],
   "metadata": {
    "collapsed": false,
    "pycharm": {
     "name": "#%%\n"
    }
   }
  },
  {
   "cell_type": "code",
   "execution_count": 113,
   "outputs": [
    {
     "name": "stdout",
     "output_type": "stream",
     "text": [
      "63 16\n"
     ]
    }
   ],
   "source": [
    "print(len(inp_json[\"history\"][\"data\"]), len(inp_json[\"history\"][\"data\"][0]))"
   ],
   "metadata": {
    "collapsed": false,
    "pycharm": {
     "name": "#%%\n"
    }
   }
  },
  {
   "cell_type": "code",
   "execution_count": 180,
   "metadata": {
    "pycharm": {
     "name": "#%%\n"
    }
   },
   "outputs": [],
   "source": [
    "answer_part_7 = 63"
   ]
  },
  {
   "cell_type": "markdown",
   "metadata": {
    "pycharm": {
     "name": "#%% md\n"
    }
   },
   "source": [
    "<br>\n",
    "\n",
    "**Question 8.** What is the average value of a difference between HIGH and LOW prices? \n",
    "\n",
    "*Note:* If a stock doesn't have data about its HIGH and LOW prices, skip it."
   ]
  },
  {
   "cell_type": "code",
   "execution_count": null,
   "outputs": [],
   "source": [],
   "metadata": {
    "collapsed": false,
    "pycharm": {
     "name": "#%%\n"
    }
   }
  },
  {
   "cell_type": "code",
   "execution_count": 117,
   "outputs": [
    {
     "data": {
      "text/plain": "dict_keys(['metadata', 'columns', 'data'])"
     },
     "execution_count": 117,
     "metadata": {},
     "output_type": "execute_result"
    }
   ],
   "source": [
    "inp_json[\"history\"].keys()"
   ],
   "metadata": {
    "collapsed": false,
    "pycharm": {
     "name": "#%%\n"
    }
   }
  },
  {
   "cell_type": "code",
   "execution_count": 186,
   "outputs": [
    {
     "name": "stdout",
     "output_type": "stream",
     "text": [
      "7\n",
      "8\n",
      "9\n"
     ]
    }
   ],
   "source": [
    "print(inp_json[\"history\"][\"columns\"].index(\"HIGH\"))\n",
    "print(inp_json[\"history\"][\"columns\"].index(\"LOW\"))\n",
    "print(inp_json[\"history\"][\"columns\"].index(\"VALUE\"))"
   ],
   "metadata": {
    "collapsed": false,
    "pycharm": {
     "name": "#%%\n"
    }
   }
  },
  {
   "cell_type": "code",
   "execution_count": 152,
   "outputs": [
    {
     "data": {
      "text/plain": "array([[1.31512980e+03, 1.31512980e+03, 0.00000000e+00],\n       [8.35257400e+02, 8.35257400e+02, 0.00000000e+00],\n       [1.37936000e+03, 1.35794000e+03, 3.39251656e+10],\n       [1.48785000e+03, 1.48785000e+03, 0.00000000e+00],\n       [1.46900000e+03, 1.46900000e+03, 0.00000000e+00],\n       [1.47651000e+03, 1.47651000e+03, 0.00000000e+00],\n       [9.45264000e+03, 9.45264000e+03, 0.00000000e+00],\n       [9.43827000e+03, 9.43827000e+03, 0.00000000e+00],\n       [9.44402000e+03, 9.44402000e+03, 0.00000000e+00],\n       [9.78200000e+01, 9.77300000e+01, 2.63430459e+09],\n       [9.89400000e+01, 9.88000000e+01, 1.69408478e+09],\n       [1.14720000e+02, 1.14690000e+02, 7.08279404e+08],\n       [2.23102000e+03, 2.19475000e+03, 2.88867856e+10],\n       [1.02310000e+02, 1.02190000e+02, 2.13029172e+09],\n       [2.57389000e+03, 2.53349000e+03, 1.38724187e+09],\n       [1.88411000e+03, 1.86152000e+03, 3.40853450e+07],\n       [4.39544000e+03, 4.35514000e+03, 4.15601780e+08],\n       [3.27167000e+03, 3.21143000e+03, 3.16185849e+10],\n       [9.45411000e+03, 9.29014000e+03, 1.62747586e+10],\n       [4.50098000e+03, 4.43345000e+03, 4.59653428e+08],\n       [4.22899000e+03, 4.19764000e+03, 8.13438170e+07],\n       [3.04790000e+03, 3.00345000e+03, 1.28493436e+09],\n       [5.63658000e+03, 5.55211000e+03, 1.56074593e+10],\n       [8.53940000e+02, 8.42520000e+02, 6.28690803e+06],\n       [4.29934000e+03, 4.21701000e+03, 3.58478635e+09],\n       [2.53493000e+03, 2.49559000e+03, 1.32854965e+10],\n       [2.01377000e+03, 1.99910000e+03, 4.93264262e+08],\n       [1.58329000e+03, 1.58329000e+03, 3.80163456e+07],\n       [1.09674700e+03, 1.09674700e+03, 0.00000000e+00],\n       [1.77999000e+03, 1.73430000e+03, 5.47966940e+05],\n       [1.48730000e+02, 1.47040000e+02, 1.49849688e+07],\n       [3.27550000e+02, 3.21700000e+02, 1.59950000e+05],\n       [2.48540000e+02, 2.41120000e+02, 1.85969261e+06],\n       [3.51200000e+02, 3.45130000e+02, 1.88591959e+08],\n       [1.44947000e+03, 1.42254000e+03, 5.33011125e+08],\n       [1.45420000e+02, 1.40730000e+02, 4.73340000e+04],\n       [2.60130000e+02, 2.54220000e+02, 3.55313014e+07],\n       [1.72220000e+02, 1.68760000e+02, 2.99570682e+08],\n       [8.54630000e+02, 8.21880000e+02, 9.45680711e+08],\n       [9.44402000e+03, 9.44402000e+03, 0.00000000e+00],\n       [2.04800000e+02, 1.99400000e+02, 4.19650000e+04],\n       [1.27175400e+02, 1.27175400e+02, 1.23935495e+06],\n       [1.54926000e+03, 1.54926000e+03, 0.00000000e+00],\n       [1.53000000e+03, 1.53000000e+03, 0.00000000e+00],\n       [1.53767000e+03, 1.53767000e+03, 0.00000000e+00],\n       [9.68300000e+01, 9.66800000e+01, 1.69408478e+09],\n       [1.13160000e+02, 1.13130000e+02, 7.08279404e+08],\n       [9.59700000e+01, 9.58700000e+01, 2.63430459e+09],\n       [1.90520000e+02, 1.90340000e+02, 2.63430459e+09],\n       [1.89600000e+02, 1.89320000e+02, 1.69408478e+09],\n       [2.19600000e+02, 2.19540000e+02, 7.08279404e+08],\n       [1.00130000e+02, 1.00000000e+02, 2.13029172e+09],\n       [1.43970000e+02, 1.43790000e+02, 2.13029172e+09],\n       [1.04491000e+03, 1.04491000e+03, 0.00000000e+00],\n       [1.31513000e+03, 1.31513000e+03, 0.00000000e+00],\n       [1.17854000e+03, 1.17854000e+03, 0.00000000e+00]])"
     },
     "execution_count": 152,
     "metadata": {},
     "output_type": "execute_result"
    }
   ],
   "source": [
    "import numpy as np\n",
    "x = np.vstack([np.array(inp_json[\"history\"][\"data\"])[:, 7], np.array(inp_json[\"history\"][\"data\"])[:, 8], np.array(inp_json[\"history\"][\"data\"])[:, 9]]).T\n",
    "x = x.astype(\"float\")\n",
    "x = x[~np.isnan(x).any(axis=1)]\n",
    "x"
   ],
   "metadata": {
    "collapsed": false,
    "pycharm": {
     "name": "#%%\n"
    }
   }
  },
  {
   "cell_type": "code",
   "execution_count": 189,
   "outputs": [
    {
     "data": {
      "text/plain": "array([0.0000e+00, 0.0000e+00, 2.1420e+01, 0.0000e+00, 0.0000e+00,\n       0.0000e+00, 0.0000e+00, 0.0000e+00, 0.0000e+00, 9.0000e-02,\n       1.4000e-01, 3.0000e-02, 3.6270e+01, 1.2000e-01, 4.0400e+01,\n       2.2590e+01, 4.0300e+01, 6.0240e+01, 1.6397e+02, 6.7530e+01,\n       3.1350e+01, 4.4450e+01, 8.4470e+01, 1.1420e+01, 8.2330e+01,\n       3.9340e+01, 1.4670e+01, 0.0000e+00, 0.0000e+00, 4.5690e+01,\n       1.6900e+00, 5.8500e+00, 7.4200e+00, 6.0700e+00, 2.6930e+01,\n       4.6900e+00, 5.9100e+00, 3.4600e+00, 3.2750e+01, 0.0000e+00,\n       5.4000e+00, 0.0000e+00, 0.0000e+00, 0.0000e+00, 0.0000e+00,\n       1.5000e-01, 3.0000e-02, 1.0000e-01, 1.8000e-01, 2.8000e-01,\n       6.0000e-02, 1.3000e-01, 1.8000e-01, 0.0000e+00, 0.0000e+00,\n       0.0000e+00])"
     },
     "execution_count": 189,
     "metadata": {},
     "output_type": "execute_result"
    }
   ],
   "source": [
    "x[:,0] - x[:,1]"
   ],
   "metadata": {
    "collapsed": false,
    "pycharm": {
     "name": "#%%\n"
    }
   }
  },
  {
   "cell_type": "code",
   "execution_count": 156,
   "outputs": [
    {
     "data": {
      "text/plain": "array([0.00000000e+00, 0.00000000e+00, 7.26677047e+11, 0.00000000e+00,\n       0.00000000e+00, 0.00000000e+00, 0.00000000e+00, 0.00000000e+00,\n       0.00000000e+00, 2.37087413e+08, 2.37171869e+08, 2.12483821e+07,\n       1.04772371e+12, 2.55635006e+08, 5.60445716e+10, 7.69987944e+08,\n       1.67487517e+10, 1.90470355e+12, 2.66857217e+12, 3.10403960e+10,\n       2.55012866e+09, 5.71153323e+10, 1.31836209e+12, 7.17964897e+07,\n       2.95135460e+11, 5.22651433e+11, 7.23618672e+09, 0.00000000e+00,\n       0.00000000e+00, 2.50366095e+07, 2.53245972e+07, 9.35707500e+05,\n       1.37989191e+07, 1.14475319e+09, 1.43539896e+10, 2.21996460e+05,\n       2.09989991e+08, 1.03651456e+09, 3.09710433e+10, 0.00000000e+00,\n       2.26611000e+05, 0.00000000e+00, 0.00000000e+00, 0.00000000e+00,\n       0.00000000e+00, 2.54112716e+08, 2.12483821e+07, 2.63430459e+08,\n       4.74174825e+08, 4.74343737e+08, 4.24967642e+07, 2.76937923e+08,\n       3.83452509e+08, 0.00000000e+00, 0.00000000e+00, 0.00000000e+00])"
     },
     "execution_count": 156,
     "metadata": {},
     "output_type": "execute_result"
    }
   ],
   "source": [
    "x[:,2]*(x[:,0] - x[:,1])"
   ],
   "metadata": {
    "collapsed": false,
    "pycharm": {
     "name": "#%%\n"
    }
   }
  },
  {
   "cell_type": "code",
   "execution_count": 155,
   "outputs": [
    {
     "name": "stdout",
     "output_type": "stream",
     "text": [
      "16.216071428571432\n",
      "50.94113419819749\n"
     ]
    }
   ],
   "source": [
    "print(np.sum(x[:,0] - x[:,1])/len(x[:,0]))\n",
    "print(np.sum(x[:,2]*(x[:,0] - x[:,1]))/np.sum(x[:,2]))"
   ],
   "metadata": {
    "collapsed": false,
    "pycharm": {
     "name": "#%%\n"
    }
   }
  },
  {
   "cell_type": "code",
   "execution_count": 194,
   "outputs": [
    {
     "name": "stdout",
     "output_type": "stream",
     "text": [
      "[0.0, 0.0, 21.419999999999845, 0.0, 0.0, 0.0, 0.0, 0.0, 0.0, 0.0899999999999892, 0.14000000000000057, 0.030000000000001137, 36.26999999999998, 0.12000000000000455, 40.40000000000009, 22.589999999999918, 40.29999999999927, 60.24000000000024, 163.97000000000116, 67.52999999999975, 31.349999999999454, 44.45000000000027, 84.47000000000025, 11.420000000000073, 82.32999999999993, 39.33999999999969, 14.670000000000073, 0.0, 0.0, 45.690000000000055, 1.6899999999999977, 5.850000000000023, 7.4199999999999875, 6.069999999999993, 26.930000000000064, 4.689999999999998, 5.909999999999997, 3.460000000000008, 32.75, 0.0, 5.400000000000006, 0.0, 0.0, 0.0, 0.0, 0.0, 0.14999999999999147, 0.030000000000001137, 0.09999999999999432, 0.18000000000000682, 0.28000000000000114, 0.060000000000002274, 0.12999999999999545, 0.18000000000000682, 0.0, 0.0, 0.0]\n",
      "15.93157894736842\n"
     ]
    }
   ],
   "source": [
    "dif = []\n",
    "for row in inp_json[\"history\"][\"data\"]:\n",
    "    if row[7] and row[8] :\n",
    "        high = float(row[7])\n",
    "        low = float(row[8])\n",
    "        dif.append(high-low)\n",
    "print(dif)\n",
    "print(sum(dif)/len(dif))"
   ],
   "metadata": {
    "collapsed": false,
    "pycharm": {
     "name": "#%%\n"
    }
   }
  },
  {
   "cell_type": "code",
   "execution_count": 195,
   "metadata": {
    "pycharm": {
     "name": "#%%\n"
    }
   },
   "outputs": [],
   "source": [
    "answer_part_8 = 50.94113419819749   #False\n",
    "answer_part_8 = 15.93157894736842"
   ]
  },
  {
   "cell_type": "markdown",
   "metadata": {
    "pycharm": {
     "name": "#%% md\n"
    }
   },
   "source": [
    "<br>\n",
    "\n",
    "**Question 9.** How many unique values of BOARDID do we see in data?"
   ]
  },
  {
   "cell_type": "code",
   "execution_count": 157,
   "outputs": [
    {
     "name": "stdout",
     "output_type": "stream",
     "text": [
      "0\n"
     ]
    }
   ],
   "source": [
    "print(inp_json[\"history\"][\"columns\"].index(\"BOARDID\"))"
   ],
   "metadata": {
    "collapsed": false,
    "pycharm": {
     "name": "#%%\n"
    }
   }
  },
  {
   "cell_type": "code",
   "execution_count": 161,
   "outputs": [
    {
     "data": {
      "text/plain": "2"
     },
     "execution_count": 161,
     "metadata": {},
     "output_type": "execute_result"
    }
   ],
   "source": [
    "len(set(np.array(inp_json[\"history\"][\"data\"])[:, 0]))"
   ],
   "metadata": {
    "collapsed": false,
    "pycharm": {
     "name": "#%%\n"
    }
   }
  },
  {
   "cell_type": "code",
   "execution_count": 182,
   "metadata": {
    "pycharm": {
     "name": "#%%\n"
    }
   },
   "outputs": [],
   "source": [
    "answer_part_9 = 2 #Correct"
   ]
  },
  {
   "cell_type": "markdown",
   "metadata": {
    "pycharm": {
     "name": "#%% md\n"
    }
   },
   "source": [
    "<br>\n",
    "\n",
    "**Question 10.** What value of BOARDID is the most occuring?"
   ]
  },
  {
   "cell_type": "code",
   "execution_count": 168,
   "outputs": [
    {
     "data": {
      "text/plain": "(array(['RTSI', 'SNDX'], dtype=object), array([30, 33]))"
     },
     "execution_count": 168,
     "metadata": {},
     "output_type": "execute_result"
    }
   ],
   "source": [
    "uniq = np.unique(np.array(inp_json[\"history\"][\"data\"])[:, 0], return_counts=True)\n",
    "uniq"
   ],
   "metadata": {
    "collapsed": false,
    "pycharm": {
     "name": "#%%\n"
    }
   }
  },
  {
   "cell_type": "code",
   "execution_count": 167,
   "outputs": [
    {
     "data": {
      "text/plain": "array([['RTSI', 30],\n       ['SNDX', 33]], dtype=object)"
     },
     "execution_count": 167,
     "metadata": {},
     "output_type": "execute_result"
    }
   ],
   "source": [
    "result = np.column_stack((uniq[0], uniq[1]))\n",
    "result"
   ],
   "metadata": {
    "collapsed": false,
    "pycharm": {
     "name": "#%%\n"
    }
   }
  },
  {
   "cell_type": "code",
   "execution_count": 170,
   "outputs": [
    {
     "data": {
      "text/plain": "'SNDX'"
     },
     "execution_count": 170,
     "metadata": {},
     "output_type": "execute_result"
    }
   ],
   "source": [
    "result[np.argmax(result[:,1]), 0]"
   ],
   "metadata": {
    "collapsed": false,
    "pycharm": {
     "name": "#%%\n"
    }
   }
  },
  {
   "cell_type": "code",
   "execution_count": 183,
   "metadata": {
    "pycharm": {
     "name": "#%%\n"
    }
   },
   "outputs": [],
   "source": [
    "answer_part_10 = \"SNDX\" #Correct"
   ]
  },
  {
   "cell_type": "markdown",
   "source": [
    "<br>\n",
    "<br>\n",
    "\n",
    "### Submitting answers"
   ],
   "metadata": {
    "collapsed": false,
    "pycharm": {
     "name": "#%% md\n"
    }
   }
  },
  {
   "cell_type": "code",
   "execution_count": 196,
   "outputs": [
    {
     "name": "stdout",
     "output_type": "stream",
     "text": [
      "1: 88\n",
      "2: 55\n",
      "3: 5\n",
      "4: -81.72016052499997\n",
      "5: 63615300000\n",
      "6: 5\n",
      "7: 63\n",
      "8: 15.93157894736842\n",
      "9: 2\n",
      "10: SNDX\n"
     ]
    }
   ],
   "source": [
    "print(\"1:\", answer_part_1)\n",
    "print(\"2:\", answer_part_2)\n",
    "print(\"3:\", answer_part_3)\n",
    "print(\"4:\", answer_part_4)\n",
    "print(\"5:\", answer_part_5)\n",
    "print(\"6:\", answer_part_6)\n",
    "print(\"7:\", answer_part_7)\n",
    "print(\"8:\", answer_part_8)\n",
    "print(\"9:\", answer_part_9)\n",
    "print(\"10:\", answer_part_10)"
   ],
   "metadata": {
    "collapsed": false,
    "pycharm": {
     "name": "#%%\n"
    }
   }
  },
  {
   "cell_type": "code",
   "execution_count": null,
   "outputs": [],
   "source": [],
   "metadata": {
    "collapsed": false,
    "pycharm": {
     "name": "#%%\n"
    }
   }
  }
 ],
 "metadata": {
  "kernelspec": {
   "display_name": "Python 3",
   "language": "python",
   "name": "python3"
  },
  "language_info": {
   "codemirror_mode": {
    "name": "ipython",
    "version": 3
   },
   "file_extension": ".py",
   "mimetype": "text/x-python",
   "name": "python",
   "nbconvert_exporter": "python",
   "pygments_lexer": "ipython3",
   "version": "3.7.6"
  }
 },
 "nbformat": 4,
 "nbformat_minor": 4
}