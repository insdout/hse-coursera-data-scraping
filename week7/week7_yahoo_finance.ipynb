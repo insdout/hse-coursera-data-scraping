{
 "cells": [
  {
   "cell_type": "markdown",
   "metadata": {},
   "source": [
    "# Scraping Yahoo Finance"
   ]
  },
  {
   "cell_type": "markdown",
   "metadata": {},
   "source": [
    "## Week 7. Practice Programming Assignment 1"
   ]
  },
  {
   "cell_type": "markdown",
   "metadata": {},
   "source": [
    "In this assignment you are required to look at historical data for 30 companies from [Dow Jones Index](https://en.wikipedia.org/wiki/Dow_Jones_Industrial_Average). Tickers for companies from the index can be found in *dow_jones_tickers.txt*. For each company you should get historical daily stock prices for 2019 from https://finance.yahoo.com/, and then use the data to answer the questions you will find below. "
   ]
  },
  {
   "cell_type": "markdown",
   "metadata": {},
   "source": [
    "###### Import coursera grader tools"
   ]
  },
  {
   "cell_type": "code",
   "execution_count": 1,
   "metadata": {},
   "outputs": [],
   "source": [
    "import sys\n",
    "sys.path.append(\"..\")"
   ]
  },
  {
   "cell_type": "markdown",
   "metadata": {},
   "source": [
    "<br><br><br><br>"
   ]
  },
  {
   "cell_type": "markdown",
   "metadata": {},
   "source": [
    "### Coding part"
   ]
  },
  {
   "cell_type": "code",
   "execution_count": null,
   "metadata": {},
   "outputs": [],
   "source": [
    "# you can start your web-scraping here"
   ]
  },
  {
   "cell_type": "code",
   "execution_count": 1,
   "metadata": {},
   "outputs": [],
   "source": [
    "dow_jones_companies = []\n",
    "\n",
    "with open('dow_jones_tickers.txt') as f:\n",
    "    for ticker in f:\n",
    "        dow_jones_companies.append(ticker.strip())"
   ]
  },
  {
   "cell_type": "code",
   "execution_count": 2,
   "metadata": {},
   "outputs": [
    {
     "name": "stdout",
     "output_type": "stream",
     "text": [
      "['AXP', 'AAPL', 'BA', 'CAT', 'CSCO', 'CVX', 'XOM', 'GS', 'HD', 'IBM', 'INTC', 'JNJ', 'KO', 'JPM', 'MCD', 'MMM', 'MRK', 'MSFT', 'NKE', 'PFE', 'PG', 'TRV', 'UNH', 'RTX', 'VZ', 'V', 'WBA', 'WMT', 'DIS', 'DOW']\n"
     ]
    }
   ],
   "source": [
    "print(dow_jones_companies)"
   ]
  },
  {
   "cell_type": "code",
   "execution_count": 6,
   "metadata": {},
   "outputs": [],
   "source": [
    "from bs4 import BeautifulSoup"
   ]
  },
  {
   "cell_type": "code",
   "execution_count": 300,
   "metadata": {},
   "outputs": [
    {
     "name": "stdout",
     "output_type": "stream",
     "text": [
      "             Date Ticker    Open    High     Low   Close Adj Close   Volume\n",
      "0     Dec 31 2019    AXP  124.29  124.57  123.78  124.49    119.80  2340400\n",
      "1     Dec 30 2019    AXP  125.20  125.46  124.18  124.30    119.62  2306500\n",
      "2     Dec 27 2019    AXP  125.84  125.97  125.11  125.19    120.48  1788600\n",
      "3     Dec 26 2019    AXP  124.98  125.44  124.53  125.41    120.69  1486600\n",
      "4     Dec 24 2019    AXP  124.95  125.33  124.38  124.74    120.05   953500\n",
      "...           ...    ...     ...     ...     ...     ...       ...      ...\n",
      "7502  Mar 26 2019    DOW   49.00   49.75   48.18   48.85     41.12   504700\n",
      "7503  Mar 25 2019    DOW   48.60   49.40   48.00   49.15     41.37   440900\n",
      "7504  Mar 22 2019    DOW   48.80   49.95   48.16   48.60     40.91   844700\n",
      "7505  Mar 21 2019    DOW   49.99   50.00   48.20   48.98     41.23  1764700\n",
      "7506  Mar 20 2019    DOW   52.75   53.50   49.50   49.80     41.92  2350800\n",
      "\n",
      "[7507 rows x 8 columns]\n"
     ]
    }
   ],
   "source": [
    "from selenium import webdriver\n",
    "from selenium.webdriver.support.ui import WebDriverWait\n",
    "from selenium.webdriver.common.keys import Keys\n",
    "from selenium.webdriver.chrome.service import Service\n",
    "from webdriver_manager.chrome import ChromeDriverManager\n",
    "from selenium.webdriver.common.by import By\n",
    "import time\n",
    "from selenium.webdriver.chrome.service import Service\n",
    "from selenium.webdriver.support import expected_conditions as EC\n",
    "import pandas as pd\n",
    "\n",
    "ser = Service(\"C:/Users/mzaytsev/chromedriver\")\n",
    "#driver = webdriver.Chrome(service=Service(ChromeDriverManager().install()))\n",
    "driver = webdriver.Chrome(service=ser)\n",
    "\n",
    "URL = \"https://finance.yahoo.com/\"\n",
    "dow_URL = \"https://finance.yahoo.com/quote/DOW/history?period1=1553040000&period2=1577836800&interval=1d&filter=history&frequency=1d&includeAdjustedClose=true\"\n",
    "# Empty list is created to store the data\n",
    "extracted_data = []\n",
    "\n",
    "for ticker in dow_jones_companies:\n",
    "    # Hit the url of Yahoo Finance and wait for 2 seconds.\n",
    "    if ticker == \"DOW\":\n",
    "        driver.get(dow_URL)\n",
    "    else:    \n",
    "        driver.get(URL)\n",
    "\n",
    "        search_box = WebDriverWait(driver, 180).until(\n",
    "            EC.presence_of_element_located((By.ID,\"yfin-usr-qry\")))\n",
    "        #search_box = driver.find_element(By.ID,\"yfin-usr-qry\")\n",
    "        search_box.send_keys(ticker)\n",
    "        time.sleep(6)\n",
    "        stock_pg = search_box.send_keys(Keys.RETURN)\n",
    "        time.sleep(6)\n",
    "\n",
    "        hist_data = WebDriverWait(driver, 180).until(\n",
    "            EC.element_to_be_clickable((By.XPATH,'//span[text()= \"Historical Data\"]')))\n",
    "        #hist_data = driver.find_element(By.XPATH,'//span[text()= \"Historical Data\"]').click()\n",
    "        hist_data.click()\n",
    "\n",
    "        grab_time = WebDriverWait(driver, 180).until(\n",
    "            EC.element_to_be_clickable((By.CSS_SELECTOR,'div.dateRangeBtn')))\n",
    "        #grab_time = driver.find_element(By.XPATH,'//span[text() = \"Jul 16, 2021 - Jul 16, 2022\"]').click()\n",
    "        grab_time.click()\n",
    "\n",
    "        start_time = WebDriverWait(driver, 180).until(\n",
    "            EC.element_to_be_clickable((By.XPATH,'//input[@name = \"startDate\"]')))\n",
    "        #start_time  = driver.find_element(By.XPATH,'//input[@name = \"startDate\"]')\n",
    "\n",
    "        start_time.send_keys(\"01012019\")\n",
    "\n",
    "        end_time = WebDriverWait(driver, 180).until(\n",
    "            EC.element_to_be_clickable((By.XPATH,'//input[@name = \"endDate\"]')))\n",
    "        #end_time  = driver.find_element(By.XPATH,'//input[@name = \"endDate\"]')\n",
    "        end_time.send_keys(\"01012020\")\n",
    "\n",
    "\n",
    "        clickDone = WebDriverWait(driver, 180).until(\n",
    "            EC.element_to_be_clickable((By.XPATH,'//span[text() = \"Done\"]')))\n",
    "        #clickDone = driver.find_element(By.XPATH,'//span[text() = \"Done\"]').click()\n",
    "        clickDone.click()\n",
    "\n",
    "        clickApply =  WebDriverWait(driver, 180).until(\n",
    "            EC.element_to_be_clickable((By.XPATH,'//span[text() = \"Apply\"]')))\n",
    "        #clickApply = driver.find_element(By.XPATH,'//span[text() = \"Apply\"]').click()\n",
    "        clickApply.click()\n",
    "    \n",
    "    time.sleep(6)\n",
    "\n",
    "    # Driver scrolls down three times to load the table.\n",
    "    for i in range(0,3):\n",
    "        driver.execute_script(\"window.scrollBy(0,5000)\")\n",
    "        time.sleep(3)\n",
    "\n",
    "    HTMLPage = BeautifulSoup(driver.page_source, 'html.parser')\n",
    "\n",
    "    # Table is searched using class and stored in another variable.\n",
    "    Table = HTMLPage.find('table', class_='W(100%) M(0)')\n",
    "\n",
    "    # List of all the rows is store in a variable 'Rows'.\n",
    "    Rows = Table.find_all('tr', class_='BdT Bdc($seperatorColor) Ta(end) Fz(s) Whs(nw)')\n",
    "\n",
    "\n",
    "    # Loop to go through each row of table\n",
    "    for i in range(0, len(Rows)):\n",
    "        try:\n",
    "            # Empty dictionary to store data present in each row\n",
    "            RowDict = {}\n",
    "            # Extracted all the columns of a row and stored in a variable\n",
    "            Values = Rows[i].find_all('td')\n",
    "\n",
    "            # Values (Open, High, Close etc.) are extracted and stored in dictionary\n",
    "            if len(Values) == 7:\n",
    "                RowDict[\"Date\"] = Values[0].find('span').text.replace(',', '')\n",
    "                RowDict[\"Ticker\"] = ticker\n",
    "                RowDict[\"Open\"] = Values[1].find('span').text.replace(',', '')\n",
    "                RowDict[\"High\"] = Values[2].find('span').text.replace(',', '')\n",
    "                RowDict[\"Low\"] = Values[3].find('span').text.replace(',', '')\n",
    "                RowDict[\"Close\"] = Values[4].find('span').text.replace(',', '')\n",
    "                RowDict[\"Adj Close\"] = Values[5].find('span').text.replace(',', '')\n",
    "                RowDict[\"Volume\"] = Values[6].find('span').text.replace(',', '')\n",
    "                # Uncomment below print statement if required\n",
    "                # print(RowDict) \n",
    "                # Dictionary is appended in list\n",
    "                extracted_data.append(RowDict)\n",
    "        except:\n",
    "            # To check the exception caused for which company\n",
    "            print(\"Row Number: \" + str(i))\n",
    "        finally:\n",
    "            # To move to the next row\n",
    "            i = i + 1\n",
    "\n",
    "# Converted list of dictionaries to a Dataframe.\n",
    "extracted_data = pd.DataFrame(extracted_data)\n",
    "print(extracted_data)\n",
    "#driver.close()"
   ]
  },
  {
   "cell_type": "code",
   "execution_count": 301,
   "metadata": {},
   "outputs": [],
   "source": [
    "extracted_data.to_csv(\"yahoo_tickers.csv\")"
   ]
  },
  {
   "cell_type": "code",
   "execution_count": 302,
   "metadata": {},
   "outputs": [
    {
     "name": "stdout",
     "output_type": "stream",
     "text": [
      "Index(['Open', 'High', 'Low', 'Close', 'Adj Close'], dtype='object')\n"
     ]
    },
    {
     "data": {
      "text/plain": [
       "Date          object\n",
       "Ticker        object\n",
       "Open         float64\n",
       "High         float64\n",
       "Low          float64\n",
       "Close        float64\n",
       "Adj Close    float64\n",
       "Volume         int32\n",
       "dtype: object"
      ]
     },
     "execution_count": 302,
     "metadata": {},
     "output_type": "execute_result"
    }
   ],
   "source": [
    "columns = extracted_data.columns\n",
    "print(columns[2:-1])\n",
    "extracted_data[columns[2:-1]] = extracted_data[columns[2:-1]].apply(pd.to_numeric)\n",
    "extracted_data[\"Volume\"] = extracted_data[\"Volume\"].astype(int)\n",
    "extracted_data.dtypes"
   ]
  },
  {
   "cell_type": "code",
   "execution_count": 303,
   "metadata": {},
   "outputs": [
    {
     "data": {
      "text/html": [
       "<div>\n",
       "<style scoped>\n",
       "    .dataframe tbody tr th:only-of-type {\n",
       "        vertical-align: middle;\n",
       "    }\n",
       "\n",
       "    .dataframe tbody tr th {\n",
       "        vertical-align: top;\n",
       "    }\n",
       "\n",
       "    .dataframe thead th {\n",
       "        text-align: right;\n",
       "    }\n",
       "</style>\n",
       "<table border=\"1\" class=\"dataframe\">\n",
       "  <thead>\n",
       "    <tr style=\"text-align: right;\">\n",
       "      <th></th>\n",
       "      <th>Date</th>\n",
       "      <th>Ticker</th>\n",
       "      <th>Open</th>\n",
       "      <th>High</th>\n",
       "      <th>Low</th>\n",
       "      <th>Close</th>\n",
       "      <th>Adj Close</th>\n",
       "      <th>Volume</th>\n",
       "    </tr>\n",
       "  </thead>\n",
       "  <tbody>\n",
       "    <tr>\n",
       "      <th>0</th>\n",
       "      <td>Dec 31 2019</td>\n",
       "      <td>AXP</td>\n",
       "      <td>124.29</td>\n",
       "      <td>124.57</td>\n",
       "      <td>123.78</td>\n",
       "      <td>124.49</td>\n",
       "      <td>119.80</td>\n",
       "      <td>2340400</td>\n",
       "    </tr>\n",
       "    <tr>\n",
       "      <th>1</th>\n",
       "      <td>Dec 30 2019</td>\n",
       "      <td>AXP</td>\n",
       "      <td>125.20</td>\n",
       "      <td>125.46</td>\n",
       "      <td>124.18</td>\n",
       "      <td>124.30</td>\n",
       "      <td>119.62</td>\n",
       "      <td>2306500</td>\n",
       "    </tr>\n",
       "    <tr>\n",
       "      <th>2</th>\n",
       "      <td>Dec 27 2019</td>\n",
       "      <td>AXP</td>\n",
       "      <td>125.84</td>\n",
       "      <td>125.97</td>\n",
       "      <td>125.11</td>\n",
       "      <td>125.19</td>\n",
       "      <td>120.48</td>\n",
       "      <td>1788600</td>\n",
       "    </tr>\n",
       "    <tr>\n",
       "      <th>3</th>\n",
       "      <td>Dec 26 2019</td>\n",
       "      <td>AXP</td>\n",
       "      <td>124.98</td>\n",
       "      <td>125.44</td>\n",
       "      <td>124.53</td>\n",
       "      <td>125.41</td>\n",
       "      <td>120.69</td>\n",
       "      <td>1486600</td>\n",
       "    </tr>\n",
       "    <tr>\n",
       "      <th>4</th>\n",
       "      <td>Dec 24 2019</td>\n",
       "      <td>AXP</td>\n",
       "      <td>124.95</td>\n",
       "      <td>125.33</td>\n",
       "      <td>124.38</td>\n",
       "      <td>124.74</td>\n",
       "      <td>120.05</td>\n",
       "      <td>953500</td>\n",
       "    </tr>\n",
       "  </tbody>\n",
       "</table>\n",
       "</div>"
      ],
      "text/plain": [
       "          Date Ticker    Open    High     Low   Close  Adj Close   Volume\n",
       "0  Dec 31 2019    AXP  124.29  124.57  123.78  124.49     119.80  2340400\n",
       "1  Dec 30 2019    AXP  125.20  125.46  124.18  124.30     119.62  2306500\n",
       "2  Dec 27 2019    AXP  125.84  125.97  125.11  125.19     120.48  1788600\n",
       "3  Dec 26 2019    AXP  124.98  125.44  124.53  125.41     120.69  1486600\n",
       "4  Dec 24 2019    AXP  124.95  125.33  124.38  124.74     120.05   953500"
      ]
     },
     "execution_count": 303,
     "metadata": {},
     "output_type": "execute_result"
    }
   ],
   "source": [
    "extracted_data.head()"
   ]
  },
  {
   "cell_type": "code",
   "execution_count": 304,
   "metadata": {},
   "outputs": [
    {
     "data": {
      "text/html": [
       "<div>\n",
       "<style scoped>\n",
       "    .dataframe tbody tr th:only-of-type {\n",
       "        vertical-align: middle;\n",
       "    }\n",
       "\n",
       "    .dataframe tbody tr th {\n",
       "        vertical-align: top;\n",
       "    }\n",
       "\n",
       "    .dataframe thead th {\n",
       "        text-align: right;\n",
       "    }\n",
       "</style>\n",
       "<table border=\"1\" class=\"dataframe\">\n",
       "  <thead>\n",
       "    <tr style=\"text-align: right;\">\n",
       "      <th></th>\n",
       "      <th>Open</th>\n",
       "      <th>High</th>\n",
       "      <th>Low</th>\n",
       "      <th>Close</th>\n",
       "      <th>Adj Close</th>\n",
       "      <th>Volume</th>\n",
       "    </tr>\n",
       "  </thead>\n",
       "  <tbody>\n",
       "    <tr>\n",
       "      <th>count</th>\n",
       "      <td>7507.000000</td>\n",
       "      <td>7507.000000</td>\n",
       "      <td>7507.000000</td>\n",
       "      <td>7507.000000</td>\n",
       "      <td>7507.000000</td>\n",
       "      <td>7.507000e+03</td>\n",
       "    </tr>\n",
       "    <tr>\n",
       "      <th>mean</th>\n",
       "      <td>122.856579</td>\n",
       "      <td>123.831818</td>\n",
       "      <td>121.843762</td>\n",
       "      <td>122.892026</td>\n",
       "      <td>114.805605</td>\n",
       "      <td>1.220437e+07</td>\n",
       "    </tr>\n",
       "    <tr>\n",
       "      <th>std</th>\n",
       "      <td>71.268443</td>\n",
       "      <td>71.943117</td>\n",
       "      <td>70.582645</td>\n",
       "      <td>71.308764</td>\n",
       "      <td>69.680761</td>\n",
       "      <td>2.169640e+07</td>\n",
       "    </tr>\n",
       "    <tr>\n",
       "      <th>min</th>\n",
       "      <td>32.540000</td>\n",
       "      <td>32.810000</td>\n",
       "      <td>32.230000</td>\n",
       "      <td>32.490000</td>\n",
       "      <td>29.280000</td>\n",
       "      <td>4.409000e+05</td>\n",
       "    </tr>\n",
       "    <tr>\n",
       "      <th>25%</th>\n",
       "      <td>63.535000</td>\n",
       "      <td>64.045000</td>\n",
       "      <td>62.580000</td>\n",
       "      <td>63.445000</td>\n",
       "      <td>57.105000</td>\n",
       "      <td>3.659050e+06</td>\n",
       "    </tr>\n",
       "    <tr>\n",
       "      <th>50%</th>\n",
       "      <td>116.400000</td>\n",
       "      <td>117.230000</td>\n",
       "      <td>115.550000</td>\n",
       "      <td>116.380000</td>\n",
       "      <td>106.710000</td>\n",
       "      <td>6.229700e+06</td>\n",
       "    </tr>\n",
       "    <tr>\n",
       "      <th>75%</th>\n",
       "      <td>146.475000</td>\n",
       "      <td>147.470000</td>\n",
       "      <td>145.455000</td>\n",
       "      <td>146.430000</td>\n",
       "      <td>139.095000</td>\n",
       "      <td>1.198560e+07</td>\n",
       "    </tr>\n",
       "    <tr>\n",
       "      <th>max</th>\n",
       "      <td>446.010000</td>\n",
       "      <td>446.010000</td>\n",
       "      <td>440.190000</td>\n",
       "      <td>440.620000</td>\n",
       "      <td>430.300000</td>\n",
       "      <td>3.652488e+08</td>\n",
       "    </tr>\n",
       "  </tbody>\n",
       "</table>\n",
       "</div>"
      ],
      "text/plain": [
       "              Open         High          Low        Close    Adj Close  \\\n",
       "count  7507.000000  7507.000000  7507.000000  7507.000000  7507.000000   \n",
       "mean    122.856579   123.831818   121.843762   122.892026   114.805605   \n",
       "std      71.268443    71.943117    70.582645    71.308764    69.680761   \n",
       "min      32.540000    32.810000    32.230000    32.490000    29.280000   \n",
       "25%      63.535000    64.045000    62.580000    63.445000    57.105000   \n",
       "50%     116.400000   117.230000   115.550000   116.380000   106.710000   \n",
       "75%     146.475000   147.470000   145.455000   146.430000   139.095000   \n",
       "max     446.010000   446.010000   440.190000   440.620000   430.300000   \n",
       "\n",
       "             Volume  \n",
       "count  7.507000e+03  \n",
       "mean   1.220437e+07  \n",
       "std    2.169640e+07  \n",
       "min    4.409000e+05  \n",
       "25%    3.659050e+06  \n",
       "50%    6.229700e+06  \n",
       "75%    1.198560e+07  \n",
       "max    3.652488e+08  "
      ]
     },
     "execution_count": 304,
     "metadata": {},
     "output_type": "execute_result"
    }
   ],
   "source": [
    "extracted_data.describe()"
   ]
  },
  {
   "cell_type": "code",
   "execution_count": 305,
   "metadata": {},
   "outputs": [
    {
     "name": "stdout",
     "output_type": "stream",
     "text": [
      "<class 'pandas.core.frame.DataFrame'>\n",
      "RangeIndex: 7507 entries, 0 to 7506\n",
      "Data columns (total 8 columns):\n",
      " #   Column     Non-Null Count  Dtype  \n",
      "---  ------     --------------  -----  \n",
      " 0   Date       7507 non-null   object \n",
      " 1   Ticker     7507 non-null   object \n",
      " 2   Open       7507 non-null   float64\n",
      " 3   High       7507 non-null   float64\n",
      " 4   Low        7507 non-null   float64\n",
      " 5   Close      7507 non-null   float64\n",
      " 6   Adj Close  7507 non-null   float64\n",
      " 7   Volume     7507 non-null   int32  \n",
      "dtypes: float64(5), int32(1), object(2)\n",
      "memory usage: 440.0+ KB\n"
     ]
    }
   ],
   "source": [
    "extracted_data.info()"
   ]
  },
  {
   "cell_type": "markdown",
   "metadata": {},
   "source": [
    "<br><br>\n",
    "\n",
    "### Questions\n",
    "\n",
    "<br><br>\n",
    "\n",
    "**Question 1.** What is the average change of price over the year (in %)?\n",
    "\n",
    "*Note 1*. The opening price is the price at which a stock first trades upon the opening of an exchange on a trading day.\n",
    "\n",
    "*Note 2*. The closing price for any stock is the final price at which it trades during regular market hours on any given day.\n",
    "\n",
    "*Note 3*. Here by the price change we going to mean a ratio of a closing price in the last day of the period to an opening price in the first day of that period, subtracted one and multiplied by 100.\n",
    "\n",
    "Example: if a price of a stock in day 1 opened at \\\\$100, and its close price in the last day was \\\\$120, then the price change during the period is: $$\\left(\\dfrac{120}{100}-1\\right) * 100 = (1.2 - 1) * 100=20.$$\n",
    "\n",
    "The price grew by 20%."
   ]
  },
  {
   "cell_type": "code",
   "execution_count": 306,
   "metadata": {},
   "outputs": [
    {
     "data": {
      "text/html": [
       "<div>\n",
       "<style scoped>\n",
       "    .dataframe tbody tr th:only-of-type {\n",
       "        vertical-align: middle;\n",
       "    }\n",
       "\n",
       "    .dataframe tbody tr th {\n",
       "        vertical-align: top;\n",
       "    }\n",
       "\n",
       "    .dataframe thead th {\n",
       "        text-align: right;\n",
       "    }\n",
       "</style>\n",
       "<table border=\"1\" class=\"dataframe\">\n",
       "  <thead>\n",
       "    <tr style=\"text-align: right;\">\n",
       "      <th></th>\n",
       "      <th>Date</th>\n",
       "      <th>Ticker</th>\n",
       "      <th>Open</th>\n",
       "      <th>High</th>\n",
       "      <th>Low</th>\n",
       "      <th>Close</th>\n",
       "      <th>Adj Close</th>\n",
       "      <th>Volume</th>\n",
       "      <th>change_of_price</th>\n",
       "    </tr>\n",
       "  </thead>\n",
       "  <tbody>\n",
       "    <tr>\n",
       "      <th>7003</th>\n",
       "      <td>2019-01-02</td>\n",
       "      <td>AAPL</td>\n",
       "      <td>38.72</td>\n",
       "      <td>39.71</td>\n",
       "      <td>38.56</td>\n",
       "      <td>39.48</td>\n",
       "      <td>38.22</td>\n",
       "      <td>148158800</td>\n",
       "      <td>1.962810</td>\n",
       "    </tr>\n",
       "    <tr>\n",
       "      <th>7004</th>\n",
       "      <td>2019-01-03</td>\n",
       "      <td>AAPL</td>\n",
       "      <td>35.99</td>\n",
       "      <td>36.43</td>\n",
       "      <td>35.50</td>\n",
       "      <td>35.55</td>\n",
       "      <td>34.41</td>\n",
       "      <td>365248800</td>\n",
       "      <td>-1.222562</td>\n",
       "    </tr>\n",
       "    <tr>\n",
       "      <th>7005</th>\n",
       "      <td>2019-01-04</td>\n",
       "      <td>AAPL</td>\n",
       "      <td>36.13</td>\n",
       "      <td>37.14</td>\n",
       "      <td>35.95</td>\n",
       "      <td>37.06</td>\n",
       "      <td>35.88</td>\n",
       "      <td>234428400</td>\n",
       "      <td>2.574038</td>\n",
       "    </tr>\n",
       "    <tr>\n",
       "      <th>7006</th>\n",
       "      <td>2019-01-07</td>\n",
       "      <td>AAPL</td>\n",
       "      <td>37.17</td>\n",
       "      <td>37.21</td>\n",
       "      <td>36.47</td>\n",
       "      <td>36.98</td>\n",
       "      <td>35.80</td>\n",
       "      <td>219111200</td>\n",
       "      <td>-0.511165</td>\n",
       "    </tr>\n",
       "    <tr>\n",
       "      <th>7007</th>\n",
       "      <td>2019-01-08</td>\n",
       "      <td>AAPL</td>\n",
       "      <td>37.39</td>\n",
       "      <td>37.96</td>\n",
       "      <td>37.13</td>\n",
       "      <td>37.69</td>\n",
       "      <td>36.49</td>\n",
       "      <td>164101200</td>\n",
       "      <td>0.802354</td>\n",
       "    </tr>\n",
       "  </tbody>\n",
       "</table>\n",
       "</div>"
      ],
      "text/plain": [
       "           Date Ticker   Open   High    Low  Close  Adj Close     Volume  \\\n",
       "7003 2019-01-02   AAPL  38.72  39.71  38.56  39.48      38.22  148158800   \n",
       "7004 2019-01-03   AAPL  35.99  36.43  35.50  35.55      34.41  365248800   \n",
       "7005 2019-01-04   AAPL  36.13  37.14  35.95  37.06      35.88  234428400   \n",
       "7006 2019-01-07   AAPL  37.17  37.21  36.47  36.98      35.80  219111200   \n",
       "7007 2019-01-08   AAPL  37.39  37.96  37.13  37.69      36.49  164101200   \n",
       "\n",
       "      change_of_price  \n",
       "7003         1.962810  \n",
       "7004        -1.222562  \n",
       "7005         2.574038  \n",
       "7006        -0.511165  \n",
       "7007         0.802354  "
      ]
     },
     "execution_count": 306,
     "metadata": {},
     "output_type": "execute_result"
    }
   ],
   "source": [
    "extracted_data = pd.read_csv(\"yahoo_tickers.csv\")\n",
    "extracted_data = extracted_data.reindex(index=extracted_data.index[::-1]).reset_index()\n",
    "extracted_data = extracted_data.drop(\"index\", axis=1)\n",
    "extracted_data = extracted_data.drop(\"Unnamed: 0\", axis=1)\n",
    "extracted_data[\"Date\"] = pd.to_datetime(extracted_data[\"Date\"], format='%b %d %Y')\n",
    "extracted_data = extracted_data.sort_values([\"Ticker\", \"Date\"])\n",
    "extracted_data[\"change_of_price\"] = (extracted_data[\"Close\"]/extracted_data[\"Open\"] - 1)*100\n",
    "extracted_data.head()"
   ]
  },
  {
   "cell_type": "code",
   "execution_count": 307,
   "metadata": {},
   "outputs": [
    {
     "data": {
      "text/plain": [
       "(7507, 9)"
      ]
     },
     "execution_count": 307,
     "metadata": {},
     "output_type": "execute_result"
    }
   ],
   "source": [
    "extracted_data.shape"
   ]
  },
  {
   "cell_type": "code",
   "execution_count": 308,
   "metadata": {},
   "outputs": [
    {
     "data": {
      "text/plain": [
       "Ticker\n",
       "AAPL    252\n",
       "AXP     252\n",
       "BA      252\n",
       "CAT     252\n",
       "CSCO    252\n",
       "CVX     252\n",
       "DIS     252\n",
       "DOW     199\n",
       "GS      252\n",
       "HD      252\n",
       "IBM     252\n",
       "INTC    252\n",
       "JNJ     252\n",
       "JPM     252\n",
       "KO      252\n",
       "MCD     252\n",
       "MMM     252\n",
       "MRK     252\n",
       "MSFT    252\n",
       "NKE     252\n",
       "PFE     252\n",
       "PG      252\n",
       "RTX     252\n",
       "TRV     252\n",
       "UNH     252\n",
       "V       252\n",
       "VZ      252\n",
       "WBA     252\n",
       "WMT     252\n",
       "XOM     252\n",
       "Name: Date, dtype: int64"
      ]
     },
     "execution_count": 308,
     "metadata": {},
     "output_type": "execute_result"
    }
   ],
   "source": [
    "extracted_data.groupby(\"Ticker\")[\"Date\"].count()"
   ]
  },
  {
   "cell_type": "code",
   "execution_count": 309,
   "metadata": {},
   "outputs": [
    {
     "data": {
      "text/html": [
       "<div>\n",
       "<style scoped>\n",
       "    .dataframe tbody tr th:only-of-type {\n",
       "        vertical-align: middle;\n",
       "    }\n",
       "\n",
       "    .dataframe tbody tr th {\n",
       "        vertical-align: top;\n",
       "    }\n",
       "\n",
       "    .dataframe thead th {\n",
       "        text-align: right;\n",
       "    }\n",
       "</style>\n",
       "<table border=\"1\" class=\"dataframe\">\n",
       "  <thead>\n",
       "    <tr style=\"text-align: right;\">\n",
       "      <th></th>\n",
       "      <th>Open_f</th>\n",
       "      <th>Close_l</th>\n",
       "      <th>change_of_price</th>\n",
       "    </tr>\n",
       "    <tr>\n",
       "      <th>Ticker</th>\n",
       "      <th></th>\n",
       "      <th></th>\n",
       "      <th></th>\n",
       "    </tr>\n",
       "  </thead>\n",
       "  <tbody>\n",
       "    <tr>\n",
       "      <th>AAPL</th>\n",
       "      <td>38.72</td>\n",
       "      <td>73.41</td>\n",
       "      <td>89.591942</td>\n",
       "    </tr>\n",
       "    <tr>\n",
       "      <th>AXP</th>\n",
       "      <td>93.91</td>\n",
       "      <td>124.49</td>\n",
       "      <td>32.563092</td>\n",
       "    </tr>\n",
       "    <tr>\n",
       "      <th>BA</th>\n",
       "      <td>316.19</td>\n",
       "      <td>325.76</td>\n",
       "      <td>3.026661</td>\n",
       "    </tr>\n",
       "    <tr>\n",
       "      <th>CAT</th>\n",
       "      <td>124.03</td>\n",
       "      <td>147.68</td>\n",
       "      <td>19.067967</td>\n",
       "    </tr>\n",
       "    <tr>\n",
       "      <th>CSCO</th>\n",
       "      <td>42.28</td>\n",
       "      <td>47.96</td>\n",
       "      <td>13.434248</td>\n",
       "    </tr>\n",
       "    <tr>\n",
       "      <th>CVX</th>\n",
       "      <td>107.34</td>\n",
       "      <td>120.51</td>\n",
       "      <td>12.269424</td>\n",
       "    </tr>\n",
       "    <tr>\n",
       "      <th>DIS</th>\n",
       "      <td>108.10</td>\n",
       "      <td>144.63</td>\n",
       "      <td>33.792784</td>\n",
       "    </tr>\n",
       "    <tr>\n",
       "      <th>DOW</th>\n",
       "      <td>52.75</td>\n",
       "      <td>54.73</td>\n",
       "      <td>3.753555</td>\n",
       "    </tr>\n",
       "    <tr>\n",
       "      <th>GS</th>\n",
       "      <td>164.33</td>\n",
       "      <td>229.93</td>\n",
       "      <td>39.919674</td>\n",
       "    </tr>\n",
       "    <tr>\n",
       "      <th>HD</th>\n",
       "      <td>169.71</td>\n",
       "      <td>218.38</td>\n",
       "      <td>28.678334</td>\n",
       "    </tr>\n",
       "    <tr>\n",
       "      <th>IBM</th>\n",
       "      <td>107.08</td>\n",
       "      <td>128.15</td>\n",
       "      <td>19.676877</td>\n",
       "    </tr>\n",
       "    <tr>\n",
       "      <th>INTC</th>\n",
       "      <td>45.96</td>\n",
       "      <td>59.85</td>\n",
       "      <td>30.221932</td>\n",
       "    </tr>\n",
       "    <tr>\n",
       "      <th>JNJ</th>\n",
       "      <td>128.13</td>\n",
       "      <td>145.87</td>\n",
       "      <td>13.845313</td>\n",
       "    </tr>\n",
       "    <tr>\n",
       "      <th>JPM</th>\n",
       "      <td>95.95</td>\n",
       "      <td>139.40</td>\n",
       "      <td>45.284002</td>\n",
       "    </tr>\n",
       "    <tr>\n",
       "      <th>KO</th>\n",
       "      <td>46.94</td>\n",
       "      <td>55.35</td>\n",
       "      <td>17.916489</td>\n",
       "    </tr>\n",
       "    <tr>\n",
       "      <th>MCD</th>\n",
       "      <td>175.41</td>\n",
       "      <td>197.61</td>\n",
       "      <td>12.656063</td>\n",
       "    </tr>\n",
       "    <tr>\n",
       "      <th>MMM</th>\n",
       "      <td>187.82</td>\n",
       "      <td>176.42</td>\n",
       "      <td>-6.069641</td>\n",
       "    </tr>\n",
       "    <tr>\n",
       "      <th>MRK</th>\n",
       "      <td>71.84</td>\n",
       "      <td>86.78</td>\n",
       "      <td>20.796214</td>\n",
       "    </tr>\n",
       "    <tr>\n",
       "      <th>MSFT</th>\n",
       "      <td>99.55</td>\n",
       "      <td>157.70</td>\n",
       "      <td>58.412858</td>\n",
       "    </tr>\n",
       "    <tr>\n",
       "      <th>NKE</th>\n",
       "      <td>72.79</td>\n",
       "      <td>101.31</td>\n",
       "      <td>39.181206</td>\n",
       "    </tr>\n",
       "    <tr>\n",
       "      <th>PFE</th>\n",
       "      <td>40.91</td>\n",
       "      <td>37.17</td>\n",
       "      <td>-9.142019</td>\n",
       "    </tr>\n",
       "    <tr>\n",
       "      <th>PG</th>\n",
       "      <td>91.03</td>\n",
       "      <td>124.90</td>\n",
       "      <td>37.207514</td>\n",
       "    </tr>\n",
       "    <tr>\n",
       "      <th>RTX</th>\n",
       "      <td>66.18</td>\n",
       "      <td>94.25</td>\n",
       "      <td>42.414627</td>\n",
       "    </tr>\n",
       "    <tr>\n",
       "      <th>TRV</th>\n",
       "      <td>117.49</td>\n",
       "      <td>136.95</td>\n",
       "      <td>16.563112</td>\n",
       "    </tr>\n",
       "    <tr>\n",
       "      <th>UNH</th>\n",
       "      <td>245.00</td>\n",
       "      <td>293.98</td>\n",
       "      <td>19.991837</td>\n",
       "    </tr>\n",
       "    <tr>\n",
       "      <th>V</th>\n",
       "      <td>130.00</td>\n",
       "      <td>187.90</td>\n",
       "      <td>44.538462</td>\n",
       "    </tr>\n",
       "    <tr>\n",
       "      <th>VZ</th>\n",
       "      <td>56.16</td>\n",
       "      <td>61.40</td>\n",
       "      <td>9.330484</td>\n",
       "    </tr>\n",
       "    <tr>\n",
       "      <th>WBA</th>\n",
       "      <td>67.20</td>\n",
       "      <td>58.96</td>\n",
       "      <td>-12.261905</td>\n",
       "    </tr>\n",
       "    <tr>\n",
       "      <th>WMT</th>\n",
       "      <td>91.64</td>\n",
       "      <td>118.84</td>\n",
       "      <td>29.681362</td>\n",
       "    </tr>\n",
       "    <tr>\n",
       "      <th>XOM</th>\n",
       "      <td>67.35</td>\n",
       "      <td>69.78</td>\n",
       "      <td>3.608018</td>\n",
       "    </tr>\n",
       "  </tbody>\n",
       "</table>\n",
       "</div>"
      ],
      "text/plain": [
       "        Open_f  Close_l  change_of_price\n",
       "Ticker                                  \n",
       "AAPL     38.72    73.41        89.591942\n",
       "AXP      93.91   124.49        32.563092\n",
       "BA      316.19   325.76         3.026661\n",
       "CAT     124.03   147.68        19.067967\n",
       "CSCO     42.28    47.96        13.434248\n",
       "CVX     107.34   120.51        12.269424\n",
       "DIS     108.10   144.63        33.792784\n",
       "DOW      52.75    54.73         3.753555\n",
       "GS      164.33   229.93        39.919674\n",
       "HD      169.71   218.38        28.678334\n",
       "IBM     107.08   128.15        19.676877\n",
       "INTC     45.96    59.85        30.221932\n",
       "JNJ     128.13   145.87        13.845313\n",
       "JPM      95.95   139.40        45.284002\n",
       "KO       46.94    55.35        17.916489\n",
       "MCD     175.41   197.61        12.656063\n",
       "MMM     187.82   176.42        -6.069641\n",
       "MRK      71.84    86.78        20.796214\n",
       "MSFT     99.55   157.70        58.412858\n",
       "NKE      72.79   101.31        39.181206\n",
       "PFE      40.91    37.17        -9.142019\n",
       "PG       91.03   124.90        37.207514\n",
       "RTX      66.18    94.25        42.414627\n",
       "TRV     117.49   136.95        16.563112\n",
       "UNH     245.00   293.98        19.991837\n",
       "V       130.00   187.90        44.538462\n",
       "VZ       56.16    61.40         9.330484\n",
       "WBA      67.20    58.96       -12.261905\n",
       "WMT      91.64   118.84        29.681362\n",
       "XOM      67.35    69.78         3.608018"
      ]
     },
     "execution_count": 309,
     "metadata": {},
     "output_type": "execute_result"
    }
   ],
   "source": [
    "grouped = extracted_data.sort_values([\"Ticker\", \"Date\"]).groupby([\"Ticker\"]).agg(Open_f= ('Open', lambda x: list(x)[0]), Close_l =('Close', lambda x: list(x)[-1]))\n",
    "grouped[\"change_of_price\"] = (grouped[\"Close_l\"]/grouped[\"Open_f\"] - 1)*100\n",
    "grouped.head(100)"
   ]
  },
  {
   "cell_type": "code",
   "execution_count": 310,
   "metadata": {},
   "outputs": [
    {
     "data": {
      "text/plain": [
       "array([38.72      , 73.41      , 89.59194215])"
      ]
     },
     "execution_count": 310,
     "metadata": {},
     "output_type": "execute_result"
    }
   ],
   "source": [
    "grouped.iloc[0].values"
   ]
  },
  {
   "cell_type": "code",
   "execution_count": 311,
   "metadata": {},
   "outputs": [
    {
     "data": {
      "text/plain": [
       "23.665016202328882"
      ]
     },
     "execution_count": 311,
     "metadata": {},
     "output_type": "execute_result"
    }
   ],
   "source": [
    "grouped[\"change_of_price\"].mean()"
   ]
  },
  {
   "cell_type": "code",
   "execution_count": 253,
   "metadata": {},
   "outputs": [
    {
     "name": "stdout",
     "output_type": "stream",
     "text": [
      "C:\\Users\\mzaytsev\\PycharmProjects\\hse-coursera-data-scraping\\week7\n"
     ]
    }
   ],
   "source": [
    "import os\n",
    "cwd = os.getcwd()\n",
    "os.path.join( cwd, \"Data\", ticker,\".csv\" )\n",
    "print(cwd)"
   ]
  },
  {
   "cell_type": "code",
   "execution_count": 290,
   "metadata": {},
   "outputs": [
    {
     "name": "stdout",
     "output_type": "stream",
     "text": [
      "AXP 93.91 93.91 124.49 124.49 2019-12-31 2019-01-02\n",
      "AAPL 38.72 38.72 73.41 73.41 2019-12-31 2019-01-02\n",
      "BA 316.19 316.19 325.76 325.76 2019-12-31 2019-01-02\n",
      "CAT 124.03 124.03 147.68 147.68 2019-12-31 2019-01-02\n",
      "CSCO 42.28 42.28 47.96 47.96 2019-12-31 2019-01-02\n",
      "CVX 107.34 107.34 120.51 120.51 2019-12-31 2019-01-02\n",
      "XOM 67.35 67.35 69.78 69.78 2019-12-31 2019-01-02\n",
      "GS 164.33 164.33 229.93 229.93 2019-12-31 2019-01-02\n",
      "HD 169.71 169.71 218.38 218.38 2019-12-31 2019-01-02\n",
      "IBM 107.08 107.08 128.15 128.15 2019-12-31 2019-01-02\n",
      "INTC 45.96 45.96 59.85 59.85 2019-12-31 2019-01-02\n",
      "JNJ 128.13 128.13 145.87 145.87 2019-12-31 2019-01-02\n",
      "KO 46.94 46.94 55.35 55.35 2019-12-31 2019-01-02\n",
      "JPM 95.95 95.95 139.4 139.4 2019-12-31 2019-01-02\n",
      "MCD 175.41 175.41 197.61 197.61 2019-12-31 2019-01-02\n",
      "MMM 187.82 187.82 176.42 176.42 2019-12-31 2019-01-02\n",
      "MRK 71.84 71.84 86.78 86.78 2019-12-31 2019-01-02\n",
      "MSFT 99.55 99.55 157.7 157.7 2019-12-31 2019-01-02\n",
      "NKE 72.79 72.79 101.31 101.31 2019-12-31 2019-01-02\n",
      "PFE 40.91 40.91 37.17 37.17 2019-12-31 2019-01-02\n",
      "PG 91.03 91.03 124.9 124.9 2019-12-31 2019-01-02\n",
      "TRV 117.49 117.49 136.95 136.95 2019-12-31 2019-01-02\n",
      "UNH 245.0 245.0 293.98 293.98 2019-12-31 2019-01-02\n",
      "RTX 66.18 66.18 94.25 94.25 2019-12-31 2019-01-02\n",
      "VZ 56.16 56.16 61.4 61.4 2019-12-31 2019-01-02\n",
      "V 130.0 130.0 187.9 187.9 2019-12-31 2019-01-02\n",
      "WBA 67.2 67.2 58.96 58.96 2019-12-31 2019-01-02\n",
      "WMT 91.64 91.64 118.84 118.84 2019-12-31 2019-01-02\n",
      "DIS 108.1 108.1 144.63 144.63 2019-12-31 2019-01-02\n",
      "DOW 49.99 49.99 54.73 54.73 2019-12-31 2019-03-21\n",
      "23.855634410780127\n"
     ]
    }
   ],
   "source": [
    "mean_change = []\n",
    "for ticker in  dow_jones_companies:\n",
    "    path = os.path.join( cwd, \"Data\", ticker )\n",
    "    df = pd.read_csv(path+\".csv\")\n",
    "    mean_change.append((df.iloc[-1].Close/df.iloc[0].Open -1)*100)\n",
    "    print(ticker,round(df.iloc[0].Open,2),grouped.loc[ticker][\"Open_f\"],round(df.iloc[-1].Close,2),grouped.loc[ticker][\"Close_l\"],df.iloc[-1][\"Date\"],df.iloc[0][\"Date\"])\n",
    "print(sum(mean_change)/len(mean_change))"
   ]
  },
  {
   "cell_type": "code",
   "execution_count": 207,
   "metadata": {},
   "outputs": [],
   "source": [
    "answer_part_1 = 23.474980968251415"
   ]
  },
  {
   "cell_type": "markdown",
   "metadata": {},
   "source": [
    "<br>\n",
    "\n",
    "**Question 2.** What company's stock price grew the most (in %)? Enter ticker of the company as an answer)"
   ]
  },
  {
   "cell_type": "code",
   "execution_count": 208,
   "metadata": {},
   "outputs": [
    {
     "data": {
      "text/html": [
       "<div>\n",
       "<style scoped>\n",
       "    .dataframe tbody tr th:only-of-type {\n",
       "        vertical-align: middle;\n",
       "    }\n",
       "\n",
       "    .dataframe tbody tr th {\n",
       "        vertical-align: top;\n",
       "    }\n",
       "\n",
       "    .dataframe thead th {\n",
       "        text-align: right;\n",
       "    }\n",
       "</style>\n",
       "<table border=\"1\" class=\"dataframe\">\n",
       "  <thead>\n",
       "    <tr style=\"text-align: right;\">\n",
       "      <th></th>\n",
       "      <th>Open_f</th>\n",
       "      <th>Close_l</th>\n",
       "      <th>change_of_price</th>\n",
       "    </tr>\n",
       "    <tr>\n",
       "      <th>Ticker</th>\n",
       "      <th></th>\n",
       "      <th></th>\n",
       "      <th></th>\n",
       "    </tr>\n",
       "  </thead>\n",
       "  <tbody>\n",
       "    <tr>\n",
       "      <th>AAPL</th>\n",
       "      <td>38.72</td>\n",
       "      <td>72.88</td>\n",
       "      <td>88.22314</td>\n",
       "    </tr>\n",
       "  </tbody>\n",
       "</table>\n",
       "</div>"
      ],
      "text/plain": [
       "        Open_f  Close_l  change_of_price\n",
       "Ticker                                  \n",
       "AAPL     38.72    72.88         88.22314"
      ]
     },
     "execution_count": 208,
     "metadata": {},
     "output_type": "execute_result"
    }
   ],
   "source": [
    "grouped[grouped[\"change_of_price\"]==grouped[\"change_of_price\"].max()]"
   ]
  },
  {
   "cell_type": "code",
   "execution_count": 209,
   "metadata": {},
   "outputs": [
    {
     "data": {
      "text/html": [
       "<div>\n",
       "<style scoped>\n",
       "    .dataframe tbody tr th:only-of-type {\n",
       "        vertical-align: middle;\n",
       "    }\n",
       "\n",
       "    .dataframe tbody tr th {\n",
       "        vertical-align: top;\n",
       "    }\n",
       "\n",
       "    .dataframe thead th {\n",
       "        text-align: right;\n",
       "    }\n",
       "</style>\n",
       "<table border=\"1\" class=\"dataframe\">\n",
       "  <thead>\n",
       "    <tr style=\"text-align: right;\">\n",
       "      <th></th>\n",
       "      <th>Date</th>\n",
       "      <th>Ticker</th>\n",
       "      <th>Open</th>\n",
       "      <th>High</th>\n",
       "      <th>Low</th>\n",
       "      <th>Close</th>\n",
       "      <th>Adj Close</th>\n",
       "      <th>Volume</th>\n",
       "      <th>change_of_price</th>\n",
       "    </tr>\n",
       "  </thead>\n",
       "  <tbody>\n",
       "    <tr>\n",
       "      <th>6769</th>\n",
       "      <td>2019-03-11</td>\n",
       "      <td>BA</td>\n",
       "      <td>371.27</td>\n",
       "      <td>402.67</td>\n",
       "      <td>365.55</td>\n",
       "      <td>400.01</td>\n",
       "      <td>390.64</td>\n",
       "      <td>34742200</td>\n",
       "      <td>7.740997</td>\n",
       "    </tr>\n",
       "  </tbody>\n",
       "</table>\n",
       "</div>"
      ],
      "text/plain": [
       "           Date Ticker    Open    High     Low   Close  Adj Close    Volume  \\\n",
       "6769 2019-03-11     BA  371.27  402.67  365.55  400.01     390.64  34742200   \n",
       "\n",
       "      change_of_price  \n",
       "6769         7.740997  "
      ]
     },
     "execution_count": 209,
     "metadata": {},
     "output_type": "execute_result"
    }
   ],
   "source": [
    "extracted_data[extracted_data[\"change_of_price\"]==extracted_data[\"change_of_price\"].max()]"
   ]
  },
  {
   "cell_type": "code",
   "execution_count": 210,
   "metadata": {},
   "outputs": [],
   "source": [
    "answer_part_2 = \"WBA\""
   ]
  },
  {
   "cell_type": "markdown",
   "metadata": {},
   "source": [
    "<br>\n",
    "\n",
    "**Question 3.** What company's stock lost in price the most (in %)? Enter ticker of the company as an answer"
   ]
  },
  {
   "cell_type": "code",
   "execution_count": 211,
   "metadata": {},
   "outputs": [
    {
     "data": {
      "text/html": [
       "<div>\n",
       "<style scoped>\n",
       "    .dataframe tbody tr th:only-of-type {\n",
       "        vertical-align: middle;\n",
       "    }\n",
       "\n",
       "    .dataframe tbody tr th {\n",
       "        vertical-align: top;\n",
       "    }\n",
       "\n",
       "    .dataframe thead th {\n",
       "        text-align: right;\n",
       "    }\n",
       "</style>\n",
       "<table border=\"1\" class=\"dataframe\">\n",
       "  <thead>\n",
       "    <tr style=\"text-align: right;\">\n",
       "      <th></th>\n",
       "      <th>Date</th>\n",
       "      <th>Ticker</th>\n",
       "      <th>Open</th>\n",
       "      <th>High</th>\n",
       "      <th>Low</th>\n",
       "      <th>Close</th>\n",
       "      <th>Adj Close</th>\n",
       "      <th>Volume</th>\n",
       "      <th>change_of_price</th>\n",
       "    </tr>\n",
       "  </thead>\n",
       "  <tbody>\n",
       "    <tr>\n",
       "      <th>1775</th>\n",
       "      <td>2019-04-16</td>\n",
       "      <td>UNH</td>\n",
       "      <td>238.01</td>\n",
       "      <td>238.01</td>\n",
       "      <td>215.82</td>\n",
       "      <td>220.96</td>\n",
       "      <td>210.23</td>\n",
       "      <td>27361400</td>\n",
       "      <td>-7.163565</td>\n",
       "    </tr>\n",
       "  </tbody>\n",
       "</table>\n",
       "</div>"
      ],
      "text/plain": [
       "           Date Ticker    Open    High     Low   Close  Adj Close    Volume  \\\n",
       "1775 2019-04-16    UNH  238.01  238.01  215.82  220.96     210.23  27361400   \n",
       "\n",
       "      change_of_price  \n",
       "1775        -7.163565  "
      ]
     },
     "execution_count": 211,
     "metadata": {},
     "output_type": "execute_result"
    }
   ],
   "source": [
    "extracted_data[extracted_data[\"change_of_price\"]==extracted_data[\"change_of_price\"].min()]"
   ]
  },
  {
   "cell_type": "code",
   "execution_count": 212,
   "metadata": {},
   "outputs": [
    {
     "data": {
      "text/html": [
       "<div>\n",
       "<style scoped>\n",
       "    .dataframe tbody tr th:only-of-type {\n",
       "        vertical-align: middle;\n",
       "    }\n",
       "\n",
       "    .dataframe tbody tr th {\n",
       "        vertical-align: top;\n",
       "    }\n",
       "\n",
       "    .dataframe thead th {\n",
       "        text-align: right;\n",
       "    }\n",
       "</style>\n",
       "<table border=\"1\" class=\"dataframe\">\n",
       "  <thead>\n",
       "    <tr style=\"text-align: right;\">\n",
       "      <th></th>\n",
       "      <th>Open_f</th>\n",
       "      <th>Close_l</th>\n",
       "      <th>change_of_price</th>\n",
       "    </tr>\n",
       "    <tr>\n",
       "      <th>Ticker</th>\n",
       "      <th></th>\n",
       "      <th></th>\n",
       "      <th></th>\n",
       "    </tr>\n",
       "  </thead>\n",
       "  <tbody>\n",
       "    <tr>\n",
       "      <th>WBA</th>\n",
       "      <td>67.2</td>\n",
       "      <td>58.91</td>\n",
       "      <td>-12.33631</td>\n",
       "    </tr>\n",
       "  </tbody>\n",
       "</table>\n",
       "</div>"
      ],
      "text/plain": [
       "        Open_f  Close_l  change_of_price\n",
       "Ticker                                  \n",
       "WBA       67.2    58.91        -12.33631"
      ]
     },
     "execution_count": 212,
     "metadata": {},
     "output_type": "execute_result"
    }
   ],
   "source": [
    "grouped[grouped[\"change_of_price\"]==grouped[\"change_of_price\"].min()]"
   ]
  },
  {
   "cell_type": "code",
   "execution_count": 213,
   "metadata": {},
   "outputs": [],
   "source": [
    "answer_part_3 = \"WBA\""
   ]
  },
  {
   "cell_type": "markdown",
   "metadata": {},
   "source": [
    "<br>\n",
    "\n",
    "**Question 4.** What company had the largest summary volume over the year? Enter ticker of the company as an answer"
   ]
  },
  {
   "cell_type": "code",
   "execution_count": 214,
   "metadata": {},
   "outputs": [
    {
     "data": {
      "text/plain": [
       "'AAPL'"
      ]
     },
     "execution_count": 214,
     "metadata": {},
     "output_type": "execute_result"
    }
   ],
   "source": [
    "volume = extracted_data.groupby([\"Ticker\"])[\"Volume\"].sum()\n",
    "#volume[volume[\"Volume\"]==volume[\"Volume\"].max()]\n",
    "volume.idxmax()"
   ]
  },
  {
   "cell_type": "code",
   "execution_count": 215,
   "metadata": {},
   "outputs": [],
   "source": [
    "answer_part_4 = 'AAPL'"
   ]
  },
  {
   "cell_type": "markdown",
   "metadata": {},
   "source": [
    "<br>\n",
    "\n",
    "**Question 5.** What is the biggest stock price daily increase (in %)? Enter the number "
   ]
  },
  {
   "cell_type": "code",
   "execution_count": 216,
   "metadata": {},
   "outputs": [
    {
     "data": {
      "text/html": [
       "<div>\n",
       "<style scoped>\n",
       "    .dataframe tbody tr th:only-of-type {\n",
       "        vertical-align: middle;\n",
       "    }\n",
       "\n",
       "    .dataframe tbody tr th {\n",
       "        vertical-align: top;\n",
       "    }\n",
       "\n",
       "    .dataframe thead th {\n",
       "        text-align: right;\n",
       "    }\n",
       "</style>\n",
       "<table border=\"1\" class=\"dataframe\">\n",
       "  <thead>\n",
       "    <tr style=\"text-align: right;\">\n",
       "      <th></th>\n",
       "      <th>Date</th>\n",
       "      <th>Ticker</th>\n",
       "      <th>Open</th>\n",
       "      <th>High</th>\n",
       "      <th>Low</th>\n",
       "      <th>Close</th>\n",
       "      <th>Adj Close</th>\n",
       "      <th>Volume</th>\n",
       "      <th>change_of_price</th>\n",
       "    </tr>\n",
       "  </thead>\n",
       "  <tbody>\n",
       "    <tr>\n",
       "      <th>6769</th>\n",
       "      <td>2019-03-11</td>\n",
       "      <td>BA</td>\n",
       "      <td>371.27</td>\n",
       "      <td>402.67</td>\n",
       "      <td>365.55</td>\n",
       "      <td>400.01</td>\n",
       "      <td>390.64</td>\n",
       "      <td>34742200</td>\n",
       "      <td>7.740997</td>\n",
       "    </tr>\n",
       "  </tbody>\n",
       "</table>\n",
       "</div>"
      ],
      "text/plain": [
       "           Date Ticker    Open    High     Low   Close  Adj Close    Volume  \\\n",
       "6769 2019-03-11     BA  371.27  402.67  365.55  400.01     390.64  34742200   \n",
       "\n",
       "      change_of_price  \n",
       "6769         7.740997  "
      ]
     },
     "execution_count": 216,
     "metadata": {},
     "output_type": "execute_result"
    }
   ],
   "source": [
    "extracted_data[extracted_data[\"change_of_price\"]==extracted_data[\"change_of_price\"].max()]"
   ]
  },
  {
   "cell_type": "code",
   "execution_count": 217,
   "metadata": {},
   "outputs": [
    {
     "data": {
      "text/plain": [
       "7.740997118000381"
      ]
     },
     "execution_count": 217,
     "metadata": {},
     "output_type": "execute_result"
    }
   ],
   "source": [
    "extracted_data[extracted_data[\"change_of_price\"]==extracted_data[\"change_of_price\"].max()][\"change_of_price\"].item()"
   ]
  },
  {
   "cell_type": "code",
   "execution_count": 218,
   "metadata": {},
   "outputs": [],
   "source": [
    "answer_part_5 = 7.740997118000381"
   ]
  },
  {
   "cell_type": "markdown",
   "metadata": {},
   "source": [
    "<br><br>\n",
    "\n",
    "**Question 6.** What is the company that had the biggest stock price daily increase? Enter ticker of the company as an answer"
   ]
  },
  {
   "cell_type": "code",
   "execution_count": 219,
   "metadata": {},
   "outputs": [
    {
     "data": {
      "text/html": [
       "<div>\n",
       "<style scoped>\n",
       "    .dataframe tbody tr th:only-of-type {\n",
       "        vertical-align: middle;\n",
       "    }\n",
       "\n",
       "    .dataframe tbody tr th {\n",
       "        vertical-align: top;\n",
       "    }\n",
       "\n",
       "    .dataframe thead th {\n",
       "        text-align: right;\n",
       "    }\n",
       "</style>\n",
       "<table border=\"1\" class=\"dataframe\">\n",
       "  <thead>\n",
       "    <tr style=\"text-align: right;\">\n",
       "      <th></th>\n",
       "      <th>Date</th>\n",
       "      <th>Ticker</th>\n",
       "      <th>Open</th>\n",
       "      <th>High</th>\n",
       "      <th>Low</th>\n",
       "      <th>Close</th>\n",
       "      <th>Adj Close</th>\n",
       "      <th>Volume</th>\n",
       "      <th>change_of_price</th>\n",
       "    </tr>\n",
       "  </thead>\n",
       "  <tbody>\n",
       "    <tr>\n",
       "      <th>6769</th>\n",
       "      <td>2019-03-11</td>\n",
       "      <td>BA</td>\n",
       "      <td>371.27</td>\n",
       "      <td>402.67</td>\n",
       "      <td>365.55</td>\n",
       "      <td>400.01</td>\n",
       "      <td>390.64</td>\n",
       "      <td>34742200</td>\n",
       "      <td>7.740997</td>\n",
       "    </tr>\n",
       "  </tbody>\n",
       "</table>\n",
       "</div>"
      ],
      "text/plain": [
       "           Date Ticker    Open    High     Low   Close  Adj Close    Volume  \\\n",
       "6769 2019-03-11     BA  371.27  402.67  365.55  400.01     390.64  34742200   \n",
       "\n",
       "      change_of_price  \n",
       "6769         7.740997  "
      ]
     },
     "execution_count": 219,
     "metadata": {},
     "output_type": "execute_result"
    }
   ],
   "source": [
    "extracted_data[extracted_data[\"change_of_price\"]==extracted_data[\"change_of_price\"].max()]"
   ]
  },
  {
   "cell_type": "code",
   "execution_count": 220,
   "metadata": {},
   "outputs": [],
   "source": [
    "answer_part_6 = \"BA\""
   ]
  },
  {
   "cell_type": "markdown",
   "metadata": {},
   "source": [
    "<br>\n",
    "\n",
    "**Question 7.** What is the biggest stock price daily decrease (in %)? Enter the number"
   ]
  },
  {
   "cell_type": "code",
   "execution_count": 221,
   "metadata": {},
   "outputs": [
    {
     "data": {
      "text/html": [
       "<div>\n",
       "<style scoped>\n",
       "    .dataframe tbody tr th:only-of-type {\n",
       "        vertical-align: middle;\n",
       "    }\n",
       "\n",
       "    .dataframe tbody tr th {\n",
       "        vertical-align: top;\n",
       "    }\n",
       "\n",
       "    .dataframe thead th {\n",
       "        text-align: right;\n",
       "    }\n",
       "</style>\n",
       "<table border=\"1\" class=\"dataframe\">\n",
       "  <thead>\n",
       "    <tr style=\"text-align: right;\">\n",
       "      <th></th>\n",
       "      <th>Date</th>\n",
       "      <th>Ticker</th>\n",
       "      <th>Open</th>\n",
       "      <th>High</th>\n",
       "      <th>Low</th>\n",
       "      <th>Close</th>\n",
       "      <th>Adj Close</th>\n",
       "      <th>Volume</th>\n",
       "      <th>change_of_price</th>\n",
       "    </tr>\n",
       "  </thead>\n",
       "  <tbody>\n",
       "    <tr>\n",
       "      <th>1775</th>\n",
       "      <td>2019-04-16</td>\n",
       "      <td>UNH</td>\n",
       "      <td>238.01</td>\n",
       "      <td>238.01</td>\n",
       "      <td>215.82</td>\n",
       "      <td>220.96</td>\n",
       "      <td>210.23</td>\n",
       "      <td>27361400</td>\n",
       "      <td>-7.163565</td>\n",
       "    </tr>\n",
       "  </tbody>\n",
       "</table>\n",
       "</div>"
      ],
      "text/plain": [
       "           Date Ticker    Open    High     Low   Close  Adj Close    Volume  \\\n",
       "1775 2019-04-16    UNH  238.01  238.01  215.82  220.96     210.23  27361400   \n",
       "\n",
       "      change_of_price  \n",
       "1775        -7.163565  "
      ]
     },
     "execution_count": 221,
     "metadata": {},
     "output_type": "execute_result"
    }
   ],
   "source": [
    "extracted_data[extracted_data[\"change_of_price\"]==extracted_data[\"change_of_price\"].min()]"
   ]
  },
  {
   "cell_type": "code",
   "execution_count": 222,
   "metadata": {},
   "outputs": [
    {
     "data": {
      "text/plain": [
       "-7.16356455611108"
      ]
     },
     "execution_count": 222,
     "metadata": {},
     "output_type": "execute_result"
    }
   ],
   "source": [
    "extracted_data[extracted_data[\"change_of_price\"]==extracted_data[\"change_of_price\"].min()][\"change_of_price\"].item()"
   ]
  },
  {
   "cell_type": "code",
   "execution_count": 223,
   "metadata": {},
   "outputs": [],
   "source": [
    "answer_part_7 = ..."
   ]
  },
  {
   "cell_type": "markdown",
   "metadata": {},
   "source": [
    "<br>\n",
    "\n",
    "**Question 8.** What is the company that had the biggest stock price daily decrese (in %)? Enter ticker of the company as an answer"
   ]
  },
  {
   "cell_type": "code",
   "execution_count": 224,
   "metadata": {},
   "outputs": [
    {
     "data": {
      "text/html": [
       "<div>\n",
       "<style scoped>\n",
       "    .dataframe tbody tr th:only-of-type {\n",
       "        vertical-align: middle;\n",
       "    }\n",
       "\n",
       "    .dataframe tbody tr th {\n",
       "        vertical-align: top;\n",
       "    }\n",
       "\n",
       "    .dataframe thead th {\n",
       "        text-align: right;\n",
       "    }\n",
       "</style>\n",
       "<table border=\"1\" class=\"dataframe\">\n",
       "  <thead>\n",
       "    <tr style=\"text-align: right;\">\n",
       "      <th></th>\n",
       "      <th>Date</th>\n",
       "      <th>Ticker</th>\n",
       "      <th>Open</th>\n",
       "      <th>High</th>\n",
       "      <th>Low</th>\n",
       "      <th>Close</th>\n",
       "      <th>Adj Close</th>\n",
       "      <th>Volume</th>\n",
       "      <th>change_of_price</th>\n",
       "    </tr>\n",
       "  </thead>\n",
       "  <tbody>\n",
       "    <tr>\n",
       "      <th>1775</th>\n",
       "      <td>2019-04-16</td>\n",
       "      <td>UNH</td>\n",
       "      <td>238.01</td>\n",
       "      <td>238.01</td>\n",
       "      <td>215.82</td>\n",
       "      <td>220.96</td>\n",
       "      <td>210.23</td>\n",
       "      <td>27361400</td>\n",
       "      <td>-7.163565</td>\n",
       "    </tr>\n",
       "  </tbody>\n",
       "</table>\n",
       "</div>"
      ],
      "text/plain": [
       "           Date Ticker    Open    High     Low   Close  Adj Close    Volume  \\\n",
       "1775 2019-04-16    UNH  238.01  238.01  215.82  220.96     210.23  27361400   \n",
       "\n",
       "      change_of_price  \n",
       "1775        -7.163565  "
      ]
     },
     "execution_count": 224,
     "metadata": {},
     "output_type": "execute_result"
    }
   ],
   "source": [
    "extracted_data[extracted_data[\"change_of_price\"]==extracted_data[\"change_of_price\"].min()]"
   ]
  },
  {
   "cell_type": "code",
   "execution_count": 225,
   "metadata": {},
   "outputs": [],
   "source": [
    "answer_part_8 = \"UNH\""
   ]
  },
  {
   "cell_type": "markdown",
   "metadata": {},
   "source": [
    "<br>\n",
    "\n",
    "**Question 9.** What was the best month for all companies (i.e. average monthly price increase was the best)? Enter one of the following: January, February, March, April, May, June, July, August, September, October, November, December"
   ]
  },
  {
   "cell_type": "code",
   "execution_count": 226,
   "metadata": {},
   "outputs": [
    {
     "data": {
      "text/html": [
       "<div>\n",
       "<style scoped>\n",
       "    .dataframe tbody tr th:only-of-type {\n",
       "        vertical-align: middle;\n",
       "    }\n",
       "\n",
       "    .dataframe tbody tr th {\n",
       "        vertical-align: top;\n",
       "    }\n",
       "\n",
       "    .dataframe thead th {\n",
       "        text-align: right;\n",
       "    }\n",
       "</style>\n",
       "<table border=\"1\" class=\"dataframe\">\n",
       "  <thead>\n",
       "    <tr style=\"text-align: right;\">\n",
       "      <th></th>\n",
       "      <th>Date</th>\n",
       "      <th>Ticker</th>\n",
       "      <th>Open</th>\n",
       "      <th>High</th>\n",
       "      <th>Low</th>\n",
       "      <th>Close</th>\n",
       "      <th>Adj Close</th>\n",
       "      <th>Volume</th>\n",
       "      <th>change_of_price</th>\n",
       "    </tr>\n",
       "  </thead>\n",
       "  <tbody>\n",
       "    <tr>\n",
       "      <th>0</th>\n",
       "      <td>2019-03-21</td>\n",
       "      <td>DOW</td>\n",
       "      <td>49.99</td>\n",
       "      <td>50.00</td>\n",
       "      <td>48.20</td>\n",
       "      <td>48.98</td>\n",
       "      <td>41.23</td>\n",
       "      <td>1764700</td>\n",
       "      <td>-2.020404</td>\n",
       "    </tr>\n",
       "    <tr>\n",
       "      <th>1</th>\n",
       "      <td>2019-03-22</td>\n",
       "      <td>DOW</td>\n",
       "      <td>48.80</td>\n",
       "      <td>49.95</td>\n",
       "      <td>48.16</td>\n",
       "      <td>48.60</td>\n",
       "      <td>40.91</td>\n",
       "      <td>844700</td>\n",
       "      <td>-0.409836</td>\n",
       "    </tr>\n",
       "    <tr>\n",
       "      <th>2</th>\n",
       "      <td>2019-03-25</td>\n",
       "      <td>DOW</td>\n",
       "      <td>48.60</td>\n",
       "      <td>49.40</td>\n",
       "      <td>48.00</td>\n",
       "      <td>49.15</td>\n",
       "      <td>41.37</td>\n",
       "      <td>440900</td>\n",
       "      <td>1.131687</td>\n",
       "    </tr>\n",
       "    <tr>\n",
       "      <th>3</th>\n",
       "      <td>2019-03-26</td>\n",
       "      <td>DOW</td>\n",
       "      <td>49.00</td>\n",
       "      <td>49.75</td>\n",
       "      <td>48.18</td>\n",
       "      <td>48.85</td>\n",
       "      <td>41.12</td>\n",
       "      <td>504700</td>\n",
       "      <td>-0.306122</td>\n",
       "    </tr>\n",
       "    <tr>\n",
       "      <th>4</th>\n",
       "      <td>2019-03-27</td>\n",
       "      <td>DOW</td>\n",
       "      <td>49.00</td>\n",
       "      <td>50.78</td>\n",
       "      <td>49.00</td>\n",
       "      <td>50.10</td>\n",
       "      <td>42.17</td>\n",
       "      <td>1788600</td>\n",
       "      <td>2.244898</td>\n",
       "    </tr>\n",
       "    <tr>\n",
       "      <th>...</th>\n",
       "      <td>...</td>\n",
       "      <td>...</td>\n",
       "      <td>...</td>\n",
       "      <td>...</td>\n",
       "      <td>...</td>\n",
       "      <td>...</td>\n",
       "      <td>...</td>\n",
       "      <td>...</td>\n",
       "      <td>...</td>\n",
       "    </tr>\n",
       "    <tr>\n",
       "      <th>192</th>\n",
       "      <td>2019-12-23</td>\n",
       "      <td>DOW</td>\n",
       "      <td>54.49</td>\n",
       "      <td>55.05</td>\n",
       "      <td>54.22</td>\n",
       "      <td>54.93</td>\n",
       "      <td>48.31</td>\n",
       "      <td>2678600</td>\n",
       "      <td>0.807488</td>\n",
       "    </tr>\n",
       "    <tr>\n",
       "      <th>193</th>\n",
       "      <td>2019-12-24</td>\n",
       "      <td>DOW</td>\n",
       "      <td>55.00</td>\n",
       "      <td>55.25</td>\n",
       "      <td>54.65</td>\n",
       "      <td>54.90</td>\n",
       "      <td>48.28</td>\n",
       "      <td>926200</td>\n",
       "      <td>-0.181818</td>\n",
       "    </tr>\n",
       "    <tr>\n",
       "      <th>194</th>\n",
       "      <td>2019-12-26</td>\n",
       "      <td>DOW</td>\n",
       "      <td>54.98</td>\n",
       "      <td>55.23</td>\n",
       "      <td>54.52</td>\n",
       "      <td>55.22</td>\n",
       "      <td>48.57</td>\n",
       "      <td>1909600</td>\n",
       "      <td>0.436522</td>\n",
       "    </tr>\n",
       "    <tr>\n",
       "      <th>195</th>\n",
       "      <td>2019-12-27</td>\n",
       "      <td>DOW</td>\n",
       "      <td>55.29</td>\n",
       "      <td>55.55</td>\n",
       "      <td>54.72</td>\n",
       "      <td>54.83</td>\n",
       "      <td>48.22</td>\n",
       "      <td>1688500</td>\n",
       "      <td>-0.831977</td>\n",
       "    </tr>\n",
       "    <tr>\n",
       "      <th>196</th>\n",
       "      <td>2019-12-30</td>\n",
       "      <td>DOW</td>\n",
       "      <td>54.86</td>\n",
       "      <td>55.05</td>\n",
       "      <td>54.24</td>\n",
       "      <td>54.34</td>\n",
       "      <td>47.79</td>\n",
       "      <td>1943300</td>\n",
       "      <td>-0.947867</td>\n",
       "    </tr>\n",
       "  </tbody>\n",
       "</table>\n",
       "<p>197 rows × 9 columns</p>\n",
       "</div>"
      ],
      "text/plain": [
       "          Date Ticker   Open   High    Low  Close  Adj Close   Volume  \\\n",
       "0   2019-03-21    DOW  49.99  50.00  48.20  48.98      41.23  1764700   \n",
       "1   2019-03-22    DOW  48.80  49.95  48.16  48.60      40.91   844700   \n",
       "2   2019-03-25    DOW  48.60  49.40  48.00  49.15      41.37   440900   \n",
       "3   2019-03-26    DOW  49.00  49.75  48.18  48.85      41.12   504700   \n",
       "4   2019-03-27    DOW  49.00  50.78  49.00  50.10      42.17  1788600   \n",
       "..         ...    ...    ...    ...    ...    ...        ...      ...   \n",
       "192 2019-12-23    DOW  54.49  55.05  54.22  54.93      48.31  2678600   \n",
       "193 2019-12-24    DOW  55.00  55.25  54.65  54.90      48.28   926200   \n",
       "194 2019-12-26    DOW  54.98  55.23  54.52  55.22      48.57  1909600   \n",
       "195 2019-12-27    DOW  55.29  55.55  54.72  54.83      48.22  1688500   \n",
       "196 2019-12-30    DOW  54.86  55.05  54.24  54.34      47.79  1943300   \n",
       "\n",
       "     change_of_price  \n",
       "0          -2.020404  \n",
       "1          -0.409836  \n",
       "2           1.131687  \n",
       "3          -0.306122  \n",
       "4           2.244898  \n",
       "..               ...  \n",
       "192         0.807488  \n",
       "193        -0.181818  \n",
       "194         0.436522  \n",
       "195        -0.831977  \n",
       "196        -0.947867  \n",
       "\n",
       "[197 rows x 9 columns]"
      ]
     },
     "execution_count": 226,
     "metadata": {},
     "output_type": "execute_result"
    }
   ],
   "source": [
    "extracted_data[extracted_data[\"Ticker\"]==\"DOW\"]"
   ]
  },
  {
   "cell_type": "code",
   "execution_count": 235,
   "metadata": {},
   "outputs": [
    {
     "data": {
      "text/plain": [
       "Month\n",
       "April        1.984414\n",
       "August      -2.751223\n",
       "December     1.802325\n",
       "February     3.382967\n",
       "January      7.409273\n",
       "July        -0.240822\n",
       "June         7.062817\n",
       "March        0.483739\n",
       "May         -6.664097\n",
       "November     2.573628\n",
       "October      0.697505\n",
       "September    3.443022\n",
       "Name: change_of_price, dtype: float64"
      ]
     },
     "execution_count": 235,
     "metadata": {},
     "output_type": "execute_result"
    }
   ],
   "source": [
    "extracted_data[\"Month\"] = extracted_data[\"Date\"].dt.month_name()\n",
    "grouped_m = extracted_data.groupby([\"Ticker\",\"Month\"]).agg(Open_f= ('Open', lambda x: list(x)[0]), Close_l =('Close', lambda x: list(x)[-1]))\n",
    "grouped_m[\"change_of_price\"] = (grouped_m[\"Close_l\"]/grouped_m[\"Open_f\"] - 1)*100\n",
    "grouped_m = grouped_m.groupby(\"Month\")[\"change_of_price\"].mean()\n",
    "grouped_m"
   ]
  },
  {
   "cell_type": "code",
   "execution_count": 236,
   "metadata": {},
   "outputs": [
    {
     "data": {
      "text/plain": [
       "'January'"
      ]
     },
     "execution_count": 236,
     "metadata": {},
     "output_type": "execute_result"
    }
   ],
   "source": [
    "grouped_m.idxmax()"
   ]
  },
  {
   "cell_type": "code",
   "execution_count": 237,
   "metadata": {},
   "outputs": [],
   "source": [
    "answer_part_9 = ..."
   ]
  },
  {
   "cell_type": "markdown",
   "metadata": {},
   "source": [
    "<br>\n",
    "\n",
    "**Question 10.** What was the worst month for all companies (i.e. average monthly price increase was the worst)? Enter one of the following: January, February, March, April, May, June, July, August, September, October, November, December"
   ]
  },
  {
   "cell_type": "code",
   "execution_count": 239,
   "metadata": {},
   "outputs": [
    {
     "data": {
      "text/plain": [
       "'May'"
      ]
     },
     "execution_count": 239,
     "metadata": {},
     "output_type": "execute_result"
    }
   ],
   "source": [
    "grouped_m.idxmin()"
   ]
  },
  {
   "cell_type": "code",
   "execution_count": null,
   "metadata": {},
   "outputs": [],
   "source": [
    "answer_part_10 = ..."
   ]
  },
  {
   "cell_type": "code",
   "execution_count": null,
   "metadata": {},
   "outputs": [],
   "source": [
    "# Setting our answers to grader. Do not change!\n",
    "grader.set_answer(\"oD7pP\", answer_part_10)"
   ]
  },
  {
   "cell_type": "markdown",
   "metadata": {},
   "source": [
    "<br>\n",
    "<br>\n",
    "\n",
    "### Submitting answers"
   ]
  },
  {
   "cell_type": "code",
   "execution_count": null,
   "metadata": {},
   "outputs": [],
   "source": [
    "# you can make submission with answers so far to check yourself at this stage\n",
    "grader.submit(COURSERA_EMAIL, COURSERA_TOKEN)"
   ]
  }
 ],
 "metadata": {
  "kernelspec": {
   "display_name": "Python 3 (ipykernel)",
   "language": "python",
   "name": "python3"
  },
  "language_info": {
   "codemirror_mode": {
    "name": "ipython",
    "version": 3
   },
   "file_extension": ".py",
   "mimetype": "text/x-python",
   "name": "python",
   "nbconvert_exporter": "python",
   "pygments_lexer": "ipython3",
   "version": "3.8.13"
  }
 },
 "nbformat": 4,
 "nbformat_minor": 4
}
